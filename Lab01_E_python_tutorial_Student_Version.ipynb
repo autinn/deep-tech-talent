{
  "nbformat": 4,
  "nbformat_minor": 0,
  "metadata": {
    "colab": {
      "provenance": [],
      "include_colab_link": true
    },
    "kernelspec": {
      "display_name": "Python 3",
      "language": "python",
      "name": "python3"
    },
    "language_info": {
      "codemirror_mode": {
        "name": "ipython",
        "version": 3
      },
      "file_extension": ".py",
      "mimetype": "text/x-python",
      "name": "python",
      "nbconvert_exporter": "python",
      "pygments_lexer": "ipython3",
      "version": "3.7.6"
    }
  },
  "cells": [
    {
      "cell_type": "markdown",
      "metadata": {
        "id": "view-in-github",
        "colab_type": "text"
      },
      "source": [
        "<a href=\"https://colab.research.google.com/github/autinn/deep-tech-talent/blob/main/Lab01_E_python_tutorial_Student_Version.ipynb\" target=\"_parent\"><img src=\"https://colab.research.google.com/assets/colab-badge.svg\" alt=\"Open In Colab\"/></a>"
      ]
    },
    {
      "cell_type": "markdown",
      "metadata": {
        "id": "dzNng6vCL9eP"
      },
      "source": [
        "# **Lab01: Python Tutorial With Google Colab for Machine and Deep Learning**\n",
        "\n"
      ]
    },
    {
      "cell_type": "markdown",
      "metadata": {
        "id": "qVrTo-LhL9eS"
      },
      "source": [
        "##Introduction"
      ]
    },
    {
      "cell_type": "markdown",
      "metadata": {
        "id": "9t1gKp9PL9eV"
      },
      "source": [
        "Python is a great general-purpose programming language on its own, but with the help of a few popular libraries (numpy, scipy, matplotlib) it becomes a powerful environment for scientific computing.\n",
        "\n",
        "We expect that many of you will have some experience with Python and numpy; for the rest of you, this section will serve as a quick crash course both on the Python programming language and on the use of Python for scientific computing.\n",
        "\n",
        "Some of you may have previous knowledge in Matlab, in which case we also recommend the numpy for Matlab users page (https://docs.scipy.org/doc/numpy-dev/user/numpy-for-matlab-users.html)."
      ]
    },
    {
      "cell_type": "markdown",
      "metadata": {
        "id": "U1PvreR9L9eW"
      },
      "source": [
        "In this tutorial, we will cover:\n",
        "\n",
        "* Basic Python: Basic data types (Containers, Lists, Dictionaries, Sets, Tuples), Functions, Classes\n",
        "* Numpy: Arrays, Array indexing, Datatypes, Array math, Broadcasting\n",
        "* Matplotlib: Plotting, Subplots, Images\n",
        "* IPython: Creating notebooks, Typical workflows"
      ]
    },
    {
      "cell_type": "markdown",
      "metadata": {
        "id": "nxvEkGXPM3Xh"
      },
      "source": [
        "## A Brief Note on Python Versions\n",
        "\n",
        "As of Janurary 1, 2020, Python has [officially dropped support](https://www.python.org/doc/sunset-python-2/) for `python2`. We'll be using Python 3.7 for this iteration of the course. You can check your Python version at the command line by running `python --version`. In Colab, we can enforce the Python version by clicking `Runtime -> Change Runtime Type` and selecting `python3`. Note that as of April 2020, Colab uses Python 3.6.9 which should run everything without any errors."
      ]
    },
    {
      "cell_type": "code",
      "metadata": {
        "id": "1L4Am0QATgOc",
        "colab": {
          "base_uri": "https://localhost:8080/"
        },
        "outputId": "1a48663e-61be-4152-faac-324537b8bd75"
      },
      "source": [
        "!python --version"
      ],
      "execution_count": null,
      "outputs": [
        {
          "output_type": "stream",
          "name": "stdout",
          "text": [
            "Python 3.7.12\n"
          ]
        }
      ]
    },
    {
      "cell_type": "markdown",
      "metadata": {
        "id": "JAFKYgrpL9eY"
      },
      "source": [
        "##Basics of Python"
      ]
    },
    {
      "cell_type": "markdown",
      "metadata": {
        "id": "RbFS6tdgL9ea"
      },
      "source": [
        "Python is a high-level, dynamically typed multiparadigm programming language. Python code is often said to be almost like pseudocode, since it allows you to express very powerful ideas in very few lines of code while being very readable. As an example, here is an implementation of the classic quicksort algorithm in Python:"
      ]
    },
    {
      "cell_type": "code",
      "metadata": {
        "id": "cYb0pjh1L9eb",
        "colab": {
          "base_uri": "https://localhost:8080/"
        },
        "outputId": "7f061112-1d58-4186-8fec-35436fc1d709"
      },
      "source": [
        "def quicksort(arr):\n",
        "    if len(arr) <= 1:\n",
        "        return arr\n",
        "    pivot = arr[len(arr) // 2] # #the floor division // rounds the result down to the nearest whole number\n",
        "    left = [x for x in arr if x < pivot]\n",
        "    middle = [x for x in arr if x == pivot]\n",
        "    right = [x for x in arr if x > pivot]\n",
        "    return quicksort(left) + middle + quicksort(right)\n",
        "\n",
        "print(quicksort([3,6,8,10,1,2,1]))\n",
        "\n",
        "# Know more about quicksort algorithm: https://alrightchiu.github.io/SecondRound/comparison-sort-quick-sortkuai-su-pai-xu-fa.html"
      ],
      "execution_count": null,
      "outputs": [
        {
          "output_type": "stream",
          "name": "stdout",
          "text": [
            "[1, 1, 2, 3, 6, 8, 10]\n"
          ]
        }
      ]
    },
    {
      "cell_type": "markdown",
      "metadata": {
        "id": "NwS_hu4xL9eo"
      },
      "source": [
        "###Basic data types"
      ]
    },
    {
      "cell_type": "markdown",
      "metadata": {
        "id": "PV-wUJXyoB8o"
      },
      "source": [
        "Data type is an important concept. Python has many data types as string, integer, float, list, dict, boolean, etc"
      ]
    },
    {
      "cell_type": "code",
      "metadata": {
        "id": "B2NhFPr5oAo3",
        "colab": {
          "base_uri": "https://localhost:8080/"
        },
        "outputId": "10c4e2fc-7243-41f0-f9ea-4c3ede591687"
      },
      "source": [
        "a = 10\n",
        "print(type(a))\n",
        "\n",
        "b = 10.0\n",
        "print(type(b))\n",
        "\n",
        "c = True\n",
        "print(type(c))\n",
        "\n",
        "d = {\"Name\" : \"Steven\", \"age\" : 25, \"Race\" : \"Chinese\"}\n",
        "print(type(d))\n",
        "\n",
        "e = {\"Ascend\", \"GPU\", \"TPU\", \"NPU\", \"CPU\"}\n",
        "print(type(e))\n",
        "\n",
        "f = (\"Ascend\", \"GPU\", \"TPU\", \"NPU\", \"CPU\")\n",
        "print(type(f))\n",
        "\n",
        "g = [\"Ascend\", \"GPU\", \"TPU\", \"NPU\", \"CPU\"]\n",
        "print(type(g))\n",
        "\n",
        "h = \"My first Python lesson\"\n",
        "print(type(h))"
      ],
      "execution_count": null,
      "outputs": [
        {
          "output_type": "stream",
          "name": "stdout",
          "text": [
            "<class 'int'>\n",
            "<class 'float'>\n",
            "<class 'bool'>\n",
            "<class 'dict'>\n",
            "<class 'set'>\n",
            "<class 'tuple'>\n",
            "<class 'list'>\n",
            "<class 'str'>\n"
          ]
        }
      ]
    },
    {
      "cell_type": "markdown",
      "metadata": {
        "id": "DL5sMSZ9L9eq"
      },
      "source": [
        "####Numbers"
      ]
    },
    {
      "cell_type": "markdown",
      "metadata": {
        "id": "MGS0XEWoL9er"
      },
      "source": [
        "Integers and floats work as you would expect from other languages:"
      ]
    },
    {
      "cell_type": "code",
      "metadata": {
        "id": "KheDr_zDL9es",
        "colab": {
          "base_uri": "https://localhost:8080/"
        },
        "outputId": "294a5c5b-b528-4bc5-db5d-a150bda4bdf6"
      },
      "source": [
        "x = 3\n",
        "print(x, type(x))"
      ],
      "execution_count": null,
      "outputs": [
        {
          "output_type": "stream",
          "name": "stdout",
          "text": [
            "3 <class 'int'>\n"
          ]
        }
      ]
    },
    {
      "cell_type": "code",
      "metadata": {
        "id": "sk_8DFcuL9ey",
        "colab": {
          "base_uri": "https://localhost:8080/"
        },
        "outputId": "db230246-c774-4429-977e-e4f662519e97"
      },
      "source": [
        "print(x + 1)   # Addition\n",
        "print(x - 1)   # Subtraction\n",
        "print(x * 2)   # Multiplication\n",
        "print(x ** 2)  # Exponentiation"
      ],
      "execution_count": null,
      "outputs": [
        {
          "output_type": "stream",
          "name": "stdout",
          "text": [
            "4\n",
            "2\n",
            "6\n",
            "9\n"
          ]
        }
      ]
    },
    {
      "cell_type": "code",
      "metadata": {
        "id": "U4Jl8K0tL9e4",
        "colab": {
          "base_uri": "https://localhost:8080/"
        },
        "outputId": "7b23e49d-a9f3-4008-c324-12d351c6b3ef"
      },
      "source": [
        "x += 1\n",
        "print(x)\n",
        "x *= 2\n",
        "print(x)"
      ],
      "execution_count": null,
      "outputs": [
        {
          "output_type": "stream",
          "name": "stdout",
          "text": [
            "4\n",
            "8\n"
          ]
        }
      ]
    },
    {
      "cell_type": "code",
      "metadata": {
        "id": "w-nZ0Sg_L9e9",
        "colab": {
          "base_uri": "https://localhost:8080/"
        },
        "outputId": "041560cf-a51c-43fa-cc00-042e93da76ca"
      },
      "source": [
        "y = 2.5\n",
        "print(type(y))\n",
        "print(y, y + 1, y * 2, y ** 2)"
      ],
      "execution_count": null,
      "outputs": [
        {
          "output_type": "stream",
          "name": "stdout",
          "text": [
            "<class 'float'>\n",
            "2.5 3.5 5.0 6.25\n"
          ]
        }
      ]
    },
    {
      "cell_type": "markdown",
      "metadata": {
        "id": "r2A9ApyaL9fB"
      },
      "source": [
        "Note that unlike many languages, Python does not have unary increment (x++) or decrement (x--) operators.\n",
        "\n",
        "Python also has built-in types for long integers and complex numbers; you can find all of the details in the [documentation](https://docs.python.org/3.7/library/stdtypes.html#numeric-types-int-float-long-complex)."
      ]
    },
    {
      "cell_type": "markdown",
      "metadata": {
        "id": "EqRS7qhBL9fC"
      },
      "source": [
        "####Booleans"
      ]
    },
    {
      "cell_type": "markdown",
      "metadata": {
        "id": "Nv_LIVOJL9fD"
      },
      "source": [
        "Python implements all of the usual operators for Boolean logic, but uses English words rather than symbols (`&&`, `||`, etc.):"
      ]
    },
    {
      "cell_type": "code",
      "metadata": {
        "id": "RvoImwgGL9fE",
        "colab": {
          "base_uri": "https://localhost:8080/"
        },
        "outputId": "77e44fa8-86e3-44ea-ea8f-98a60f1b5d52"
      },
      "source": [
        "t, f = True, False\n",
        "print(type(t))"
      ],
      "execution_count": null,
      "outputs": [
        {
          "output_type": "stream",
          "name": "stdout",
          "text": [
            "<class 'bool'>\n"
          ]
        }
      ]
    },
    {
      "cell_type": "markdown",
      "metadata": {
        "id": "YQgmQfOgL9fI"
      },
      "source": [
        "Now we let's look at the operations:"
      ]
    },
    {
      "cell_type": "code",
      "metadata": {
        "id": "6zYm7WzCL9fK",
        "colab": {
          "base_uri": "https://localhost:8080/"
        },
        "outputId": "f3f89ac9-dd33-47fc-c665-15969c46cb46"
      },
      "source": [
        "print(t and f) # Logical AND;\n",
        "print(t or f)  # Logical OR;\n",
        "print(not t)   # Logical NOT;\n",
        "print(t != f)  # Logical XOR;"
      ],
      "execution_count": null,
      "outputs": [
        {
          "output_type": "stream",
          "name": "stdout",
          "text": [
            "False\n",
            "True\n",
            "False\n",
            "True\n"
          ]
        }
      ]
    },
    {
      "cell_type": "markdown",
      "metadata": {
        "id": "UQnQWFEyL9fP"
      },
      "source": [
        "####Strings"
      ]
    },
    {
      "cell_type": "code",
      "metadata": {
        "id": "AijEDtPFL9fP",
        "colab": {
          "base_uri": "https://localhost:8080/"
        },
        "outputId": "7f7bf47b-165b-48ab-89e0-ea2d1867e45c"
      },
      "source": [
        "hello = 'hello'   # String literals can use single quotes\n",
        "world = \"world\"   # or double quotes; it does not matter\n",
        "print(hello, len(hello))"
      ],
      "execution_count": null,
      "outputs": [
        {
          "output_type": "stream",
          "name": "stdout",
          "text": [
            "hello 5\n"
          ]
        }
      ]
    },
    {
      "cell_type": "code",
      "metadata": {
        "id": "saDeaA7hL9fT",
        "colab": {
          "base_uri": "https://localhost:8080/"
        },
        "outputId": "0e25fec1-6fcb-4729-b274-0a7bd921351b"
      },
      "source": [
        "hw = hello + ' ' + world  # String concatenation\n",
        "print(hw)"
      ],
      "execution_count": null,
      "outputs": [
        {
          "output_type": "stream",
          "name": "stdout",
          "text": [
            "hello world\n"
          ]
        }
      ]
    },
    {
      "cell_type": "code",
      "metadata": {
        "id": "Nji1_UjYL9fY",
        "colab": {
          "base_uri": "https://localhost:8080/"
        },
        "outputId": "8865da95-29a0-4f3a-ec4a-03de6d6a38a4"
      },
      "source": [
        "hw12 = '{} {} {}'.format(hello, world, 12)  # string formatting\n",
        "print(hw12)"
      ],
      "execution_count": null,
      "outputs": [
        {
          "output_type": "stream",
          "name": "stdout",
          "text": [
            "hello world 12\n"
          ]
        }
      ]
    },
    {
      "cell_type": "markdown",
      "metadata": {
        "id": "bUpl35bIL9fc"
      },
      "source": [
        "String objects have a bunch of useful methods; for example:"
      ]
    },
    {
      "cell_type": "code",
      "metadata": {
        "id": "VOxGatlsL9fd",
        "colab": {
          "base_uri": "https://localhost:8080/"
        },
        "outputId": "9460e187-e451-4b7e-b6bb-ead57adb22ae"
      },
      "source": [
        "s = \"hello\"\n",
        "print(s.capitalize())  # Capitalize a string\n",
        "print(s.upper())       # Convert a string to uppercase; prints \"HELLO\"\n",
        "print(s.rjust(7))      # Right-justify a string, padding with spaces\n",
        "print(s.center(7))     # Center a string, padding with spaces\n",
        "print(s.replace('l', '(ell)'))  # Replace all instances of one substring with another\n",
        "print('  world '.strip())  # Strip leading and trailing whitespace"
      ],
      "execution_count": null,
      "outputs": [
        {
          "output_type": "stream",
          "name": "stdout",
          "text": [
            "Hello\n",
            "HELLO\n",
            "  hello\n",
            " hello \n",
            "he(ell)(ell)o\n",
            "world\n"
          ]
        }
      ]
    },
    {
      "cell_type": "markdown",
      "metadata": {
        "id": "06cayXLtL9fi"
      },
      "source": [
        "You can find a list of all string methods in the [documentation](https://docs.python.org/3.7/library/stdtypes.html#string-methods)."
      ]
    },
    {
      "cell_type": "markdown",
      "metadata": {
        "id": "p-6hClFjL9fk"
      },
      "source": [
        "###Containers"
      ]
    },
    {
      "cell_type": "markdown",
      "metadata": {
        "id": "FD9H18eQL9fk"
      },
      "source": [
        "Python includes several built-in container types: lists, dictionaries, sets, and tuples."
      ]
    },
    {
      "cell_type": "markdown",
      "metadata": {
        "id": "UsIWOe0LL9fn"
      },
      "source": [
        "####Lists"
      ]
    },
    {
      "cell_type": "markdown",
      "metadata": {
        "id": "wzxX7rgWL9fn"
      },
      "source": [
        "A list is the Python equivalent of an array, but is resizeable and can contain elements of different types:"
      ]
    },
    {
      "cell_type": "code",
      "metadata": {
        "id": "hk3A8pPcL9fp",
        "colab": {
          "base_uri": "https://localhost:8080/"
        },
        "outputId": "59b10783-9fee-43e0-9391-86dd9173fdf9"
      },
      "source": [
        "xs = [3, 1, 2]   # Create a list\n",
        "print(xs, xs[2])\n",
        "print(xs[-1])     # Negative indices count from the end of the list; prints \"2\""
      ],
      "execution_count": null,
      "outputs": [
        {
          "output_type": "stream",
          "name": "stdout",
          "text": [
            "[3, 1, 2] 2\n",
            "2\n"
          ]
        }
      ]
    },
    {
      "cell_type": "code",
      "metadata": {
        "id": "YCjCy_0_L9ft",
        "colab": {
          "base_uri": "https://localhost:8080/"
        },
        "outputId": "ea484337-ffcc-410c-a0be-e95f3fbd7f90"
      },
      "source": [
        "xs[2] = 'foo'    # Lists can contain elements of different types\n",
        "print(xs)"
      ],
      "execution_count": null,
      "outputs": [
        {
          "output_type": "stream",
          "name": "stdout",
          "text": [
            "[3, 1, 'foo']\n"
          ]
        }
      ]
    },
    {
      "cell_type": "code",
      "metadata": {
        "id": "vJ0x5cF-L9fx",
        "colab": {
          "base_uri": "https://localhost:8080/"
        },
        "outputId": "c46a5e87-30b5-47de-e802-9dfb39d77f67"
      },
      "source": [
        "xs.append('bar') # Add a new element to the end of the list\n",
        "print(xs)"
      ],
      "execution_count": null,
      "outputs": [
        {
          "output_type": "stream",
          "name": "stdout",
          "text": [
            "[3, 1, 'foo', 'bar']\n"
          ]
        }
      ]
    },
    {
      "cell_type": "code",
      "metadata": {
        "id": "cxVCNRTNL9f1",
        "colab": {
          "base_uri": "https://localhost:8080/"
        },
        "outputId": "6a1c0b99-806f-445c-b1e9-e97fffcaada4"
      },
      "source": [
        "x = xs.pop()     # Remove and return the last element of the list\n",
        "print(x, xs)"
      ],
      "execution_count": null,
      "outputs": [
        {
          "output_type": "stream",
          "name": "stdout",
          "text": [
            "bar [3, 1, 'foo']\n"
          ]
        }
      ]
    },
    {
      "cell_type": "markdown",
      "metadata": {
        "id": "ilyoyO34L9f4"
      },
      "source": [
        "As usual, you can find all the gory details about lists in the [documentation](https://docs.python.org/3.7/tutorial/datastructures.html#more-on-lists)."
      ]
    },
    {
      "cell_type": "markdown",
      "metadata": {
        "id": "ovahhxd_L9f5"
      },
      "source": [
        "####Slicing"
      ]
    },
    {
      "cell_type": "markdown",
      "metadata": {
        "id": "YeSYKhv9L9f6"
      },
      "source": [
        "In addition to accessing list elements one at a time, Python provides concise syntax to access sublists; this is known as slicing:"
      ]
    },
    {
      "cell_type": "code",
      "metadata": {
        "id": "ninq666bL9f6",
        "colab": {
          "base_uri": "https://localhost:8080/"
        },
        "outputId": "810c0c6b-2ead-4eb3-9756-8cb2829f993b"
      },
      "source": [
        "nums = list(range(5))    # range is a built-in function that creates a list of integers\n",
        "print(nums)         # Prints \"[0, 1, 2, 3, 4]\"\n",
        "print(nums[2:4])    # Get a slice from index 2 to 4 (exclusive); prints \"[2, 3]\"\n",
        "print(nums[2:])     # Get a slice from index 2 to the end; prints \"[2, 3, 4]\"\n",
        "print(nums[:2])     # Get a slice from the start to index 2 (exclusive); prints \"[0, 1]\"\n",
        "print(nums[:])      # Get a slice of the whole list; prints [\"0, 1, 2, 3, 4]\"\n",
        "print(nums[:-1])    # Slice indices can be negative; prints [\"0, 1, 2, 3]\"\n",
        "nums[2:4] = [8, 9] # Assign a new sublist to a slice\n",
        "print(nums)         # Prints \"[0, 1, 8, 9, 4]\""
      ],
      "execution_count": null,
      "outputs": [
        {
          "output_type": "stream",
          "name": "stdout",
          "text": [
            "[0, 1, 2, 3, 4]\n",
            "[2, 3]\n",
            "[2, 3, 4]\n",
            "[0, 1]\n",
            "[0, 1, 2, 3, 4]\n",
            "[0, 1, 2, 3]\n",
            "[0, 1, 8, 9, 4]\n"
          ]
        }
      ]
    },
    {
      "cell_type": "markdown",
      "metadata": {
        "id": "UONpMhF4L9f_"
      },
      "source": [
        "####Loops"
      ]
    },
    {
      "cell_type": "markdown",
      "metadata": {
        "id": "_DYz1j6QL9f_"
      },
      "source": [
        "You can loop over the elements of a list like this:"
      ]
    },
    {
      "cell_type": "code",
      "metadata": {
        "id": "4cCOysfWL9gA",
        "colab": {
          "base_uri": "https://localhost:8080/"
        },
        "outputId": "90c04b05-52fd-43dd-8523-67cea1ecfed9"
      },
      "source": [
        "animals = ['cat', 'dog', 'monkey']\n",
        "for animal in animals:\n",
        "    print(animal)"
      ],
      "execution_count": null,
      "outputs": [
        {
          "output_type": "stream",
          "name": "stdout",
          "text": [
            "cat\n",
            "dog\n",
            "monkey\n"
          ]
        }
      ]
    },
    {
      "cell_type": "markdown",
      "metadata": {
        "id": "KxIaQs7pL9gE"
      },
      "source": [
        "If you want access to the index of each element within the body of a loop, use the built-in `enumerate` function:"
      ]
    },
    {
      "cell_type": "code",
      "metadata": {
        "id": "JjGnDluWL9gF",
        "colab": {
          "base_uri": "https://localhost:8080/"
        },
        "outputId": "54c57d77-d36e-49b1-bb29-38c94ce2b33a"
      },
      "source": [
        "animals = ['cat', 'dog', 'monkey']\n",
        "for idx, animal in enumerate(animals):\n",
        "    print('#{}: {}'.format(idx + 1, animal))"
      ],
      "execution_count": null,
      "outputs": [
        {
          "output_type": "stream",
          "name": "stdout",
          "text": [
            "#1: cat\n",
            "#2: dog\n",
            "#3: monkey\n"
          ]
        }
      ]
    },
    {
      "cell_type": "markdown",
      "metadata": {
        "id": "arrLCcMyL9gK"
      },
      "source": [
        "####List comprehensions:"
      ]
    },
    {
      "cell_type": "markdown",
      "metadata": {
        "id": "5Qn2jU_pL9gL"
      },
      "source": [
        "When programming, frequently we want to transform one type of data into another. As a simple example, consider the following code that computes square numbers:"
      ]
    },
    {
      "cell_type": "code",
      "metadata": {
        "id": "IVNEwoMXL9gL",
        "colab": {
          "base_uri": "https://localhost:8080/"
        },
        "outputId": "ac9bd27f-6937-4a24-b90b-7a8ddea7699c"
      },
      "source": [
        "nums = [0, 1, 2, 3, 4]\n",
        "squares = []\n",
        "for x in nums:\n",
        "    squares.append(x ** 2)\n",
        "print(squares)"
      ],
      "execution_count": null,
      "outputs": [
        {
          "output_type": "stream",
          "name": "stdout",
          "text": [
            "[0, 1, 4, 9, 16]\n"
          ]
        }
      ]
    },
    {
      "cell_type": "markdown",
      "metadata": {
        "id": "7DmKVUFaL9gQ"
      },
      "source": [
        "You can make this code simpler using a list comprehension:"
      ]
    },
    {
      "cell_type": "code",
      "metadata": {
        "id": "kZxsUfV6L9gR",
        "colab": {
          "base_uri": "https://localhost:8080/"
        },
        "outputId": "f8425854-e43e-47ca-d7be-801be9f37f35"
      },
      "source": [
        "nums = [0, 1, 2, 3, 4]\n",
        "squares = [x ** 2 for x in nums]\n",
        "print(squares)"
      ],
      "execution_count": null,
      "outputs": [
        {
          "output_type": "stream",
          "name": "stdout",
          "text": [
            "[0, 1, 4, 9, 16]\n"
          ]
        }
      ]
    },
    {
      "cell_type": "markdown",
      "metadata": {
        "id": "-D8ARK7tL9gV"
      },
      "source": [
        "List comprehensions can also contain conditions:"
      ]
    },
    {
      "cell_type": "code",
      "metadata": {
        "id": "yUtgOyyYL9gV",
        "colab": {
          "base_uri": "https://localhost:8080/"
        },
        "outputId": "d6f4fa2e-4e5d-488c-eb6a-a03f5722c2f2"
      },
      "source": [
        "nums = [0, 1, 2, 3, 4]\n",
        "even_squares = [x ** 2 for x in nums if x % 2 == 0]\n",
        "print(even_squares)"
      ],
      "execution_count": null,
      "outputs": [
        {
          "output_type": "stream",
          "name": "stdout",
          "text": [
            "[0, 4, 16]\n"
          ]
        }
      ]
    },
    {
      "cell_type": "markdown",
      "metadata": {
        "id": "H8xsUEFpL9gZ"
      },
      "source": [
        "####Dictionaries"
      ]
    },
    {
      "cell_type": "markdown",
      "metadata": {
        "id": "kkjAGMAJL9ga"
      },
      "source": [
        "A dictionary stores (key, value) pairs, similar to a `Map` in Java or an object in Javascript. You can use it like this:"
      ]
    },
    {
      "cell_type": "code",
      "metadata": {
        "id": "XBYI1MrYL9gb",
        "colab": {
          "base_uri": "https://localhost:8080/"
        },
        "outputId": "81e4ddb6-e92f-44fe-fa1a-70a840c1dacc"
      },
      "source": [
        "d = {'cat': 'cute', 'dog': 'furry'}  # Create a new dictionary with some data\n",
        "print(d['cat'])       # Get an entry from a dictionary; prints \"cute\"\n",
        "print('cat' in d)     # Check if a dictionary has a given key; prints \"True\""
      ],
      "execution_count": null,
      "outputs": [
        {
          "output_type": "stream",
          "name": "stdout",
          "text": [
            "cute\n",
            "True\n"
          ]
        }
      ]
    },
    {
      "cell_type": "code",
      "metadata": {
        "id": "pS7e-G-HL9gf",
        "colab": {
          "base_uri": "https://localhost:8080/"
        },
        "outputId": "dbebcbec-1f0d-4880-8a0a-f75657715d08"
      },
      "source": [
        "d['fish'] = 'wet'    # Set an entry in a dictionary\n",
        "print(d['fish'], d['dog'])      # Prints \"wet\""
      ],
      "execution_count": null,
      "outputs": [
        {
          "output_type": "stream",
          "name": "stdout",
          "text": [
            "wet furry\n"
          ]
        }
      ]
    },
    {
      "cell_type": "code",
      "metadata": {
        "id": "tFY065ItL9gi",
        "colab": {
          "base_uri": "https://localhost:8080/",
          "height": 166
        },
        "outputId": "6da24b1d-c552-4ef5-803c-371a32d2d55d"
      },
      "source": [
        "print(d['monkey'])  # KeyError: 'monkey' not a key of d"
      ],
      "execution_count": null,
      "outputs": [
        {
          "output_type": "error",
          "ename": "KeyError",
          "evalue": "ignored",
          "traceback": [
            "\u001b[0;31m---------------------------------------------------------------------------\u001b[0m",
            "\u001b[0;31mKeyError\u001b[0m                                  Traceback (most recent call last)",
            "\u001b[0;32m<ipython-input-28-78fc9745d9cf>\u001b[0m in \u001b[0;36m<module>\u001b[0;34m()\u001b[0m\n\u001b[0;32m----> 1\u001b[0;31m \u001b[0mprint\u001b[0m\u001b[0;34m(\u001b[0m\u001b[0md\u001b[0m\u001b[0;34m[\u001b[0m\u001b[0;34m'monkey'\u001b[0m\u001b[0;34m]\u001b[0m\u001b[0;34m)\u001b[0m  \u001b[0;31m# KeyError: 'monkey' not a key of d\u001b[0m\u001b[0;34m\u001b[0m\u001b[0;34m\u001b[0m\u001b[0m\n\u001b[0m",
            "\u001b[0;31mKeyError\u001b[0m: 'monkey'"
          ]
        }
      ]
    },
    {
      "cell_type": "code",
      "metadata": {
        "id": "8TjbEWqML9gl",
        "colab": {
          "base_uri": "https://localhost:8080/"
        },
        "outputId": "577b2129-1e83-471d-ed00-5bf7bf5fc836"
      },
      "source": [
        "\n",
        "print(d.get('monkey', 'N/A'))  # Get an element with a default; prints \"N/A\"\n",
        "print(d.get('fish', 'N/A'))   # Get an element with a default; prints \"wet\"\n",
        "print(d['cat'])"
      ],
      "execution_count": null,
      "outputs": [
        {
          "output_type": "stream",
          "name": "stdout",
          "text": [
            "N/A\n",
            "wet\n",
            "cute\n"
          ]
        }
      ]
    },
    {
      "cell_type": "code",
      "metadata": {
        "id": "0EItdNBJL9go"
      },
      "source": [
        "del d['fish']        # Remove an element from a dictionary\n",
        "print(d.get('fish', 'N/A')) # \"fish\" is no longer a key; prints \"N/A\""
      ],
      "execution_count": null,
      "outputs": []
    },
    {
      "cell_type": "markdown",
      "metadata": {
        "id": "wqm4dRZNL9gr"
      },
      "source": [
        "You can find all you need to know about dictionaries in the [documentation](https://docs.python.org/2/library/stdtypes.html#dict)."
      ]
    },
    {
      "cell_type": "markdown",
      "metadata": {
        "id": "IxwEqHlGL9gr"
      },
      "source": [
        "It is easy to iterate over the keys in a dictionary:"
      ]
    },
    {
      "cell_type": "code",
      "metadata": {
        "id": "rYfz7ZKNL9gs",
        "colab": {
          "base_uri": "https://localhost:8080/"
        },
        "outputId": "44de8570-148e-4ed7-c7ec-b1185ea5f58c"
      },
      "source": [
        "d = {'person': 2, 'cat': 4, 'spider': 8}\n",
        "for animal, legs in d.items():\n",
        "    print('A {} has {} legs'.format(animal, legs))"
      ],
      "execution_count": null,
      "outputs": [
        {
          "output_type": "stream",
          "name": "stdout",
          "text": [
            "A person has 2 legs\n",
            "A cat has 4 legs\n",
            "A spider has 8 legs\n"
          ]
        }
      ]
    },
    {
      "cell_type": "markdown",
      "metadata": {
        "id": "17sxiOpzL9gz"
      },
      "source": [
        "Dictionary comprehensions: These are similar to list comprehensions, but allow you to easily construct dictionaries. For example:"
      ]
    },
    {
      "cell_type": "code",
      "metadata": {
        "id": "8PB07imLL9gz",
        "colab": {
          "base_uri": "https://localhost:8080/"
        },
        "outputId": "0ee574d7-a1f4-4f3c-ad5e-495e174c8a1b"
      },
      "source": [
        "nums = [0, 1, 2, 3, 4]\n",
        "even_num_to_square = {x: x ** 2 for x in nums if x % 2 == 0}\n",
        "print(even_num_to_square)"
      ],
      "execution_count": null,
      "outputs": [
        {
          "output_type": "stream",
          "name": "stdout",
          "text": [
            "{0: 0, 2: 4, 4: 16}\n"
          ]
        }
      ]
    },
    {
      "cell_type": "markdown",
      "metadata": {
        "id": "V9MHfUdvL9g2"
      },
      "source": [
        "####Sets"
      ]
    },
    {
      "cell_type": "markdown",
      "metadata": {
        "id": "Rpm4UtNpL9g2"
      },
      "source": [
        "A set is an unordered collection of distinct elements. As a simple example, consider the following:"
      ]
    },
    {
      "cell_type": "code",
      "metadata": {
        "id": "MmyaniLsL9g2",
        "colab": {
          "base_uri": "https://localhost:8080/"
        },
        "outputId": "236a72e8-ef8d-46f2-e4ed-1e4e59cfc6fe"
      },
      "source": [
        "animals = {'cat', 'dog'}\n",
        "print('cat' in animals)   # Check if an element is in a set; prints \"True\"\n",
        "print('fish' in animals)  # prints \"False\"\n"
      ],
      "execution_count": null,
      "outputs": [
        {
          "output_type": "stream",
          "name": "stdout",
          "text": [
            "True\n",
            "False\n"
          ]
        }
      ]
    },
    {
      "cell_type": "code",
      "metadata": {
        "id": "ElJEyK86L9g6",
        "colab": {
          "base_uri": "https://localhost:8080/"
        },
        "outputId": "ecd40b0c-2f8d-4137-dc10-c8dd03dd03a9"
      },
      "source": [
        "animals.add('fish')      # Add an element to a set\n",
        "print('fish' in animals)\n",
        "print(len(animals))       # Number of elements in a set;"
      ],
      "execution_count": null,
      "outputs": [
        {
          "output_type": "stream",
          "name": "stdout",
          "text": [
            "True\n",
            "3\n"
          ]
        }
      ]
    },
    {
      "cell_type": "code",
      "metadata": {
        "id": "5uGmrxdPL9g9",
        "colab": {
          "base_uri": "https://localhost:8080/"
        },
        "outputId": "7cc46f38-9b5f-4699-8b7d-3331613ee7f8"
      },
      "source": [
        "animals.add('cat')       # Adding an element that is already in the set does nothing\n",
        "print(len(animals))\n",
        "animals.remove('cat')    # Remove an element from a set\n",
        "print(len(animals))"
      ],
      "execution_count": null,
      "outputs": [
        {
          "output_type": "stream",
          "name": "stdout",
          "text": [
            "3\n",
            "2\n"
          ]
        }
      ]
    },
    {
      "cell_type": "markdown",
      "metadata": {
        "id": "zk2DbvLKL9g_"
      },
      "source": [
        "_Loops_: Iterating over a set has the same syntax as iterating over a list; however since sets are unordered, you cannot make assumptions about the order in which you visit the elements of the set:"
      ]
    },
    {
      "cell_type": "code",
      "metadata": {
        "id": "K47KYNGyL9hA",
        "colab": {
          "base_uri": "https://localhost:8080/"
        },
        "outputId": "050cc7c8-b44b-441a-e5b2-a3bef3cdf07b"
      },
      "source": [
        "animals = {'cat', 'dog', 'fish'}\n",
        "for idx, animal in enumerate(animals):\n",
        "    print('#{}: {}'.format(idx + 1, animal))"
      ],
      "execution_count": null,
      "outputs": [
        {
          "output_type": "stream",
          "name": "stdout",
          "text": [
            "#1: dog\n",
            "#2: fish\n",
            "#3: cat\n"
          ]
        }
      ]
    },
    {
      "cell_type": "markdown",
      "metadata": {
        "id": "puq4S8buL9hC"
      },
      "source": [
        "Set comprehensions: Like lists and dictionaries, we can easily construct sets using set comprehensions:"
      ]
    },
    {
      "cell_type": "code",
      "metadata": {
        "id": "iw7k90k3L9hC",
        "colab": {
          "base_uri": "https://localhost:8080/"
        },
        "outputId": "6ef61eaa-90ce-42b8-9654-bf13e49ee3f8"
      },
      "source": [
        "from math import sqrt\n",
        "print({int(sqrt(x)) for x in range(30)})"
      ],
      "execution_count": null,
      "outputs": [
        {
          "output_type": "stream",
          "name": "stdout",
          "text": [
            "{0, 1, 2, 3, 4, 5}\n"
          ]
        }
      ]
    },
    {
      "cell_type": "markdown",
      "metadata": {
        "id": "qPsHSKB1L9hF"
      },
      "source": [
        "####Tuples"
      ]
    },
    {
      "cell_type": "markdown",
      "metadata": {
        "id": "kucc0LKVL9hG"
      },
      "source": [
        "A tuple is an (immutable) ordered list of values. A tuple is in many ways similar to a list; one of the most important differences is that tuples can be used as keys in dictionaries and as elements of sets, while lists cannot. Here is a trivial example:"
      ]
    },
    {
      "cell_type": "code",
      "metadata": {
        "id": "9wHUyTKxL9hH",
        "colab": {
          "base_uri": "https://localhost:8080/"
        },
        "outputId": "ff8bbea3-9e63-4e3f-cf03-81e99251280d"
      },
      "source": [
        "d = {(x, x + 1): x for x in range(10)}  # Create a dictionary with tuple keys\n",
        "t = (5, 6)       # Create a tuple\n",
        "print(type(t))\n",
        "print(d[t])\n",
        "print(d[(1, 2)])"
      ],
      "execution_count": null,
      "outputs": [
        {
          "output_type": "stream",
          "name": "stdout",
          "text": [
            "<class 'tuple'>\n",
            "5\n",
            "1\n"
          ]
        }
      ]
    },
    {
      "cell_type": "code",
      "metadata": {
        "id": "HoO8zYKzL9hJ"
      },
      "source": [
        "t[0] = 1"
      ],
      "execution_count": null,
      "outputs": []
    },
    {
      "cell_type": "markdown",
      "metadata": {
        "id": "AXA4jrEOL9hM"
      },
      "source": [
        "###Functions"
      ]
    },
    {
      "cell_type": "markdown",
      "metadata": {
        "id": "WaRms-QfL9hN"
      },
      "source": [
        "Python functions are defined using the `def` keyword. For example:"
      ]
    },
    {
      "cell_type": "code",
      "metadata": {
        "id": "kiMDUr58L9hN",
        "colab": {
          "base_uri": "https://localhost:8080/"
        },
        "outputId": "949ee1ca-1082-4960-bac9-8d76cec8e037"
      },
      "source": [
        "def sign(x):\n",
        "    if x > 0:\n",
        "        return 'positive'\n",
        "    elif x < 0:\n",
        "        return 'negative'\n",
        "    else:\n",
        "        return 'zero'\n",
        "\n",
        "for x in [-1, 0, 1]:\n",
        "    print(sign(x))"
      ],
      "execution_count": null,
      "outputs": [
        {
          "output_type": "stream",
          "name": "stdout",
          "text": [
            "negative\n",
            "zero\n",
            "positive\n"
          ]
        }
      ]
    },
    {
      "cell_type": "markdown",
      "metadata": {
        "id": "U-QJFt8TL9hR"
      },
      "source": [
        "We will often define functions to take optional keyword arguments, like this:"
      ]
    },
    {
      "cell_type": "code",
      "metadata": {
        "id": "PfsZ3DazL9hR",
        "colab": {
          "base_uri": "https://localhost:8080/"
        },
        "outputId": "39bf3384-5e9f-4184-9c78-9b034041642f"
      },
      "source": [
        "def hello(name, loud=False):\n",
        "    if loud:\n",
        "        print('HELLO, {}'.format(name.upper()))\n",
        "    else:\n",
        "        print('Hello, {}!'.format(name))\n",
        "\n",
        "hello('Bob')\n",
        "hello('Fred', loud=True)"
      ],
      "execution_count": null,
      "outputs": [
        {
          "output_type": "stream",
          "name": "stdout",
          "text": [
            "Hello, Bob!\n",
            "HELLO, FRED\n"
          ]
        }
      ]
    },
    {
      "cell_type": "markdown",
      "metadata": {
        "id": "ObA9PRtQL9hT"
      },
      "source": [
        "###Classes"
      ]
    },
    {
      "cell_type": "markdown",
      "metadata": {
        "id": "hAzL_lTkL9hU"
      },
      "source": [
        "The syntax for defining classes in Python is straightforward:"
      ]
    },
    {
      "cell_type": "code",
      "metadata": {
        "id": "RWdbaGigL9hU",
        "colab": {
          "base_uri": "https://localhost:8080/"
        },
        "outputId": "002d562f-8e13-46ca-cf1e-1eecf53bc7fe"
      },
      "source": [
        "class Greeter:\n",
        "\n",
        "    # Constructor\n",
        "    def __init__(self, name):\n",
        "        self.name = name  # Create an instance variable\n",
        "\n",
        "    # Instance method\n",
        "    def greet(self, loud=False):\n",
        "        if loud:\n",
        "          print('HELLO, {}'.format(self.name.upper()))\n",
        "        else:\n",
        "          print('Hello, {}!'.format(self.name))\n",
        "\n",
        "g = Greeter('Fred')  # Construct an instance of the Greeter class\n",
        "g.greet()            # Call an instance method; prints \"Hello, Fred\"\n",
        "g.greet(loud=True)   # Call an instance method; prints \"HELLO, FRED!\""
      ],
      "execution_count": null,
      "outputs": [
        {
          "output_type": "stream",
          "name": "stdout",
          "text": [
            "Hello, Fred!\n",
            "HELLO, FRED\n"
          ]
        }
      ]
    },
    {
      "cell_type": "markdown",
      "metadata": {
        "id": "3cfrOV4dL9hW"
      },
      "source": [
        "##Numpy"
      ]
    },
    {
      "cell_type": "markdown",
      "metadata": {
        "id": "fY12nHhyL9hX"
      },
      "source": [
        "Numpy is the core library for scientific computing in Python. It provides a high-performance multidimensional array object, and tools for working with these arrays. If you are already familiar with MATLAB, you might find this [tutorial](http://wiki.scipy.org/NumPy_for_Matlab_Users) useful to get started with Numpy.\n",
        "\n",
        "\n",
        "> Numpy is a Python library used for working with arrays.\n",
        "\n",
        "\n",
        "> In Python, we have lists that serve the purpose of arrays, but they are slow to process.\n",
        "\n",
        "\n",
        "> Numpy aims to provide an array object that is up to 50x faster than traditional Python lists. Arrays are very frequently used in Data science, where speed and resource are very important. **The array object in Numpy is called ndarray**. It provides a lot of supporting functions that make working with ndarray very easy."
      ]
    },
    {
      "cell_type": "markdown",
      "metadata": {
        "id": "lZMyAdqhL9hY"
      },
      "source": [
        "To use Numpy, we first need to import the `numpy` package:"
      ]
    },
    {
      "cell_type": "code",
      "metadata": {
        "id": "58QdX8BLL9hZ"
      },
      "source": [
        "import numpy as np"
      ],
      "execution_count": null,
      "outputs": []
    },
    {
      "cell_type": "code",
      "metadata": {
        "id": "poCkALqWooQ4",
        "colab": {
          "base_uri": "https://localhost:8080/"
        },
        "outputId": "59ce021f-1ddd-470e-db07-61df3c51bcac"
      },
      "source": [
        "arr1 = np.array([\"Ascend\", \"GPU\", \"TPU\", \"NPU\", \"CPU\"]) # use list as an array\n",
        "print(arr1)\n",
        "print(type(arr1))\n",
        "\n",
        "\n",
        "arr2 = np.array((\"Ascend\", \"GPU\", \"TPU\", \"NPU\", \"CPU\")) # use tuple as an array\n",
        "print(arr2)\n",
        "print(type(arr2))"
      ],
      "execution_count": null,
      "outputs": [
        {
          "output_type": "stream",
          "name": "stdout",
          "text": [
            "['Ascend' 'GPU' 'TPU' 'NPU' 'CPU']\n",
            "<class 'numpy.ndarray'>\n",
            "['Ascend' 'GPU' 'TPU' 'NPU' 'CPU']\n",
            "<class 'numpy.ndarray'>\n"
          ]
        }
      ]
    },
    {
      "cell_type": "markdown",
      "metadata": {
        "id": "DDx6v1EdL9hb"
      },
      "source": [
        "###Arrays"
      ]
    },
    {
      "cell_type": "markdown",
      "metadata": {
        "id": "f-Zv3f7LL9hc"
      },
      "source": [
        "A numpy array is a grid of values, all of the same type, and is indexed by a tuple of nonnegative integers. The number of dimensions is the rank of the array; the shape of an array is a tuple of integers giving the size of the array along each dimension."
      ]
    },
    {
      "cell_type": "markdown",
      "metadata": {
        "id": "_eMTRnZRL9hc"
      },
      "source": [
        "We can initialize numpy arrays from nested Python lists, and access elements using square brackets:"
      ]
    },
    {
      "cell_type": "code",
      "metadata": {
        "id": "-l3JrGxCL9hc",
        "colab": {
          "base_uri": "https://localhost:8080/"
        },
        "outputId": "740a3cf5-1f0b-47d9-89e1-42a48c7070e7"
      },
      "source": [
        "a = np.array([1, 2, 3])  # Create a rank 1 array\n",
        "print(type(a), a.shape, a[0], a[1], a[2])\n",
        "a[0] = 5                 # Change an element of the array\n",
        "print(a)"
      ],
      "execution_count": null,
      "outputs": [
        {
          "output_type": "stream",
          "name": "stdout",
          "text": [
            "<class 'numpy.ndarray'> (3,) 1 2 3\n",
            "[5 2 3]\n"
          ]
        }
      ]
    },
    {
      "cell_type": "code",
      "metadata": {
        "id": "ma6mk-kdL9hh",
        "colab": {
          "base_uri": "https://localhost:8080/"
        },
        "outputId": "0fda89f9-2bb4-47ed-f14a-e0ab6e5ebe1d"
      },
      "source": [
        "b = np.array([[1,2,3],[4,5,6],[5,7,9]])   # Create a rank 2 array\n",
        "print(b)"
      ],
      "execution_count": null,
      "outputs": [
        {
          "output_type": "stream",
          "name": "stdout",
          "text": [
            "[[1 2 3]\n",
            " [4 5 6]\n",
            " [5 7 9]]\n"
          ]
        }
      ]
    },
    {
      "cell_type": "code",
      "metadata": {
        "id": "ymfSHAwtL9hj",
        "colab": {
          "base_uri": "https://localhost:8080/"
        },
        "outputId": "4e4c722f-15fb-4315-9589-6fce62c486ac"
      },
      "source": [
        "print(b.shape)\n",
        "print(b[0, 0], b[0, 1], b[1, 0])"
      ],
      "execution_count": null,
      "outputs": [
        {
          "output_type": "stream",
          "name": "stdout",
          "text": [
            "(3, 3)\n",
            "1 2 4\n"
          ]
        }
      ]
    },
    {
      "cell_type": "markdown",
      "metadata": {
        "id": "9KuzYWK1qJo8"
      },
      "source": [
        "**Dimensions in Arrays**\n",
        "\n",
        "A dimension in arrays is one level of array depth (nested arrays)."
      ]
    },
    {
      "cell_type": "code",
      "metadata": {
        "id": "BnXUm5ySqNrT",
        "colab": {
          "base_uri": "https://localhost:8080/"
        },
        "outputId": "b97627ee-4939-4f4b-feac-0f439bd89211"
      },
      "source": [
        "# 0-D Arrays\n",
        "# 0-D Arrays, or Scalars, are the elements in an array. Each value in an array is a 0-D array\n",
        "arr0 = np.array(100)\n",
        "print(arr0)\n",
        "\n",
        "# 1-D Arrays\n",
        "# An array that has 0-D arrays as its elements is called uni-dimensional or 1-D array\n",
        "arr1 = np.array((\"Ascend\", \"GPU\", \"TPU\", \"NPU\", \"CPU\"))\n",
        "print(arr1)\n",
        "\n",
        "# 2-D Arrays\n",
        "# An array that has 1-D arrays as its elements is called a 2-D array.\n",
        "# These are often used to reresent matrix or 2nd order tensors.\n",
        "arr2 = np.array([[\"MindSpore\",\"Tensorflow\"],[\"PyTorch\",\"Caffe\"]])\n",
        "print(arr2)\n",
        "\n",
        "#3-D Arrays\n",
        "#An array that has 2-D arrays (matrices) as its elemetns is called 3-D array.\n",
        "#These are often used to represent a 3rd order tensor.\n",
        "\n",
        "arr3 = np.array(\n",
        "    [[[\"orange\",\"apple\",\"grape\"],[\"longan\",\"laichi\",\"durian\"]],\n",
        "     [[\"benz\",\"BMW\",\"volvo\"],[\"toyota\",\"honda\",\"kia\"]]])\n",
        "print(arr3)"
      ],
      "execution_count": null,
      "outputs": [
        {
          "output_type": "stream",
          "name": "stdout",
          "text": [
            "100\n",
            "['Ascend' 'GPU' 'TPU' 'NPU' 'CPU']\n",
            "[['MindSpore' 'Tensorflow']\n",
            " ['PyTorch' 'Caffe']]\n",
            "[[['orange' 'apple' 'grape']\n",
            "  ['longan' 'laichi' 'durian']]\n",
            "\n",
            " [['benz' 'BMW' 'volvo']\n",
            "  ['toyota' 'honda' 'kia']]]\n"
          ]
        }
      ]
    },
    {
      "cell_type": "code",
      "metadata": {
        "id": "EIaHis6TqSu1",
        "colab": {
          "base_uri": "https://localhost:8080/"
        },
        "outputId": "37dcd1c2-2f64-4d18-c6c8-9c8d50d2ea9d"
      },
      "source": [
        "# Checking Number of Dimensions\n",
        "# Numpy Arrays provides the ndim attribut that returns an integer that tells us how many dimensions the array have.\n",
        "a = np.array(42)\n",
        "b = np.array([1,2,3,4,5])\n",
        "c = np.array([[1,2,3],[4,5,6]])\n",
        "d = np.array([\n",
        "     [[1,2,3],[4,5,6]],\n",
        "     [[1,2,3],[4,5,6]],\n",
        "     [[1,2,3],[4,5,6]],\n",
        "     ])\n",
        "print(\"Number of dimension : \"  , a.ndim)\n",
        "print(\"Number of dimension : \"  , b.ndim)\n",
        "print(\"Number of dimension : \"  , c.ndim)\n",
        "print(\"Number of dimension : \"  , d.ndim)\n",
        "print(d)"
      ],
      "execution_count": null,
      "outputs": [
        {
          "output_type": "stream",
          "name": "stdout",
          "text": [
            "Number of dimension :  0\n",
            "Number of dimension :  1\n",
            "Number of dimension :  2\n",
            "Number of dimension :  3\n",
            "[[[1 2 3]\n",
            "  [4 5 6]]\n",
            "\n",
            " [[1 2 3]\n",
            "  [4 5 6]]\n",
            "\n",
            " [[1 2 3]\n",
            "  [4 5 6]]]\n"
          ]
        }
      ]
    },
    {
      "cell_type": "code",
      "metadata": {
        "id": "fYYe_7WcqUkX",
        "colab": {
          "base_uri": "https://localhost:8080/"
        },
        "outputId": "2110310c-c613-406f-ce24-9011ff3fed04"
      },
      "source": [
        "# Creating Dimensional Arrays\n",
        "# An array can have any number of dimensions. When the array is created, you can define the number of dimensions by using the ndmin argument.\n",
        "arr = np.array([[1],[2],[3],[4],[5]],ndmin=5)\n",
        "print(arr)\n",
        "print(\"Number of dimension : \"  , arr.ndim)"
      ],
      "execution_count": null,
      "outputs": [
        {
          "output_type": "stream",
          "name": "stdout",
          "text": [
            "[[[[[1]\n",
            "    [2]\n",
            "    [3]\n",
            "    [4]\n",
            "    [5]]]]]\n",
            "Number of dimension :  5\n"
          ]
        }
      ]
    },
    {
      "cell_type": "code",
      "metadata": {
        "id": "OSXt3aDxqXJe",
        "colab": {
          "base_uri": "https://localhost:8080/"
        },
        "outputId": "48445a49-0f70-49f4-ade7-57ef6e3b8226"
      },
      "source": [
        "# Numpy Array Indexing\n",
        "# Array indexing is teh sae as accessing an array element. You can access an array element by refeering to its index number.\n",
        "# The indexes in NumPy arrays start with 0, meaning that the first element has index 0, and the second has index 1 etc. Count from the back is -1 is the first.\n",
        "import numpy as np\n",
        "\n",
        "ar01 = np.array([1,2,3,4,5,6,7,8,9,10,11])\n",
        "print(\"Get the first value : \", ar01[0])\n",
        "print(\"Get the last value : \", ar01[-1])\n",
        "print(\"Get the middle value : \", ar01[5])\n",
        "print(\"Add value #3 and #9 together : \", ar01[2] + ar01[8])\n",
        "print(\"Add value #3 and #9 together : \", ar01[2] * ar01[8])\n",
        "\n",
        "# Access 2-D Arrays\n",
        "# To access elements from 2-D arrays we can use comma separated integers representing the dimension and the index of the element.\n",
        "ar02 = np.array([[1,2,3,4,5],[6,7,8,9,10],[11,12,13,14,15]])\n",
        "print(ar02)\n",
        "print(\"Get 2nd element on the 1st dimension : \", ar02[0,1])\n",
        "print(\"Get 3rd element on the 2nd dimension : \", ar02[1,2])\n",
        "print(\"Get 3rd element on the 3rd dimension : \", ar02[2,2])\n",
        "print(\"Get power value of 2nd-element_1st & 3rd-element_2nd dim : \", ar02[0,1] ** ar02[1,2])  # 2 ^ 8\n",
        "print(\"Get an output of 2nd-element_1st & 3rd-element_2nd dim : \", ar02[0,1] * ar02[1,2])"
      ],
      "execution_count": null,
      "outputs": [
        {
          "output_type": "stream",
          "name": "stdout",
          "text": [
            "Get the first value :  1\n",
            "Get the last value :  11\n",
            "Get the middle value :  6\n",
            "Add value #3 and #9 together :  12\n",
            "Add value #3 and #9 together :  27\n",
            "[[ 1  2  3  4  5]\n",
            " [ 6  7  8  9 10]\n",
            " [11 12 13 14 15]]\n",
            "Get 2nd element on the 1st dimension :  2\n",
            "Get 3rd element on the 2nd dimension :  8\n",
            "Get 3rd element on the 3rd dimension :  13\n",
            "Get power value of 2nd-element_1st & 3rd-element_2nd dim :  256\n",
            "Get an output of 2nd-element_1st & 3rd-element_2nd dim :  16\n"
          ]
        }
      ]
    },
    {
      "cell_type": "code",
      "metadata": {
        "id": "Xx-bVIi8qZ79",
        "colab": {
          "base_uri": "https://localhost:8080/"
        },
        "outputId": "6679503c-34a9-4cd3-af61-3d0e65e14f84"
      },
      "source": [
        "# Access 3-D Arrays\n",
        "# To access elements from 3-D arrays we can use comma separated integers representing the dimension and the index of the element.\n",
        "ar03 = np.array([\n",
        "     [[1,2,3],[4,5,6]],\n",
        "     [[7,8,9],[10,11,12]],\n",
        "     ])\n",
        "print(ar03)\n",
        "print(\"Number of dimensions : \", ar03.ndim)\n",
        "\n",
        "# access the 3rd element of the 2nd array of the first array\n",
        "print(ar03[0,1,2]) # format => (array[outer array, inner array, element])\n",
        "print(ar03[1,1,2])\n",
        "print(\"Deduction of 0-1-2 form 1-1-2 = \", ar03[1,1,2] - ar03[0,1,2])"
      ],
      "execution_count": null,
      "outputs": [
        {
          "output_type": "stream",
          "name": "stdout",
          "text": [
            "[[[ 1  2  3]\n",
            "  [ 4  5  6]]\n",
            "\n",
            " [[ 7  8  9]\n",
            "  [10 11 12]]]\n",
            "Number of dimensions :  3\n",
            "6\n",
            "12\n",
            "Deduction of 0-1-2 form 1-1-2 =  6\n"
          ]
        }
      ]
    },
    {
      "cell_type": "markdown",
      "metadata": {
        "id": "F2qwdyvuL9hn"
      },
      "source": [
        "Numpy also provides many functions to create arrays:"
      ]
    },
    {
      "cell_type": "code",
      "metadata": {
        "id": "mVTN_EBqL9hn",
        "colab": {
          "base_uri": "https://localhost:8080/"
        },
        "outputId": "c62389cc-ddc9-4e9d-9d31-c4907252a203"
      },
      "source": [
        "a = np.zeros((2,2))  # Create an array of all zeros\n",
        "print(a)"
      ],
      "execution_count": null,
      "outputs": [
        {
          "output_type": "stream",
          "name": "stdout",
          "text": [
            "[[0. 0.]\n",
            " [0. 0.]]\n"
          ]
        }
      ]
    },
    {
      "cell_type": "code",
      "metadata": {
        "id": "skiKlNmlL9h5",
        "colab": {
          "base_uri": "https://localhost:8080/"
        },
        "outputId": "527f7fad-4717-4e7a-a0e7-43c6c4ce5e80"
      },
      "source": [
        "b = np.ones((1,2))   # Create an array of all ones\n",
        "print(b)"
      ],
      "execution_count": null,
      "outputs": [
        {
          "output_type": "stream",
          "name": "stdout",
          "text": [
            "[[1. 1.]]\n"
          ]
        }
      ]
    },
    {
      "cell_type": "code",
      "metadata": {
        "id": "HtFsr03bL9h7",
        "colab": {
          "base_uri": "https://localhost:8080/"
        },
        "outputId": "c738d92d-5d11-4aec-ae37-6684804ffcec"
      },
      "source": [
        "c = np.full((2,2), 7) # Create a constant array\n",
        "print(c)"
      ],
      "execution_count": null,
      "outputs": [
        {
          "output_type": "stream",
          "name": "stdout",
          "text": [
            "[[7 7]\n",
            " [7 7]]\n"
          ]
        }
      ]
    },
    {
      "cell_type": "code",
      "metadata": {
        "id": "-QcALHvkL9h9",
        "colab": {
          "base_uri": "https://localhost:8080/"
        },
        "outputId": "28d0b0cd-ca8b-4a48-b70a-2a1611642788"
      },
      "source": [
        "d = np.eye(2)        # Create a 2x2 identity matrix\n",
        "print(d)"
      ],
      "execution_count": null,
      "outputs": [
        {
          "output_type": "stream",
          "name": "stdout",
          "text": [
            "[[1. 0.]\n",
            " [0. 1.]]\n"
          ]
        }
      ]
    },
    {
      "cell_type": "code",
      "metadata": {
        "id": "RCpaYg9qL9iA",
        "colab": {
          "base_uri": "https://localhost:8080/"
        },
        "outputId": "b3d74404-f3b8-42e5-ccdb-ee43197210e1"
      },
      "source": [
        "e = np.random.random((2,3)) # Create an array filled with random values\n",
        "print(e)"
      ],
      "execution_count": null,
      "outputs": [
        {
          "output_type": "stream",
          "name": "stdout",
          "text": [
            "[[0.85290938 0.3928784  0.87241182]\n",
            " [0.14134732 0.54035275 0.84080179]]\n"
          ]
        }
      ]
    },
    {
      "cell_type": "markdown",
      "metadata": {
        "id": "O-42dwl9qgxA"
      },
      "source": [
        "**Shape of an Array**\n",
        "\n",
        "The shape of an array is the number of elements in each dimension. NumPy arrays have an attribute called shape that returns a tuple with each index having the number of corresponding elements."
      ]
    },
    {
      "cell_type": "code",
      "metadata": {
        "id": "PBy8mHNzqirJ",
        "colab": {
          "base_uri": "https://localhost:8080/"
        },
        "outputId": "477cda98-294e-471a-83d7-88dfb1674a14"
      },
      "source": [
        "import numpy as np\n",
        "arr = np.array([[1,2,3,4,5],[6,7,8,9,10]])\n",
        "print(arr)\n",
        "print(arr.shape)\n",
        "print(\"Number of dimension : \",arr.ndim, \"\\n\")\n",
        "\n",
        "arrii = np.array([[[1,2,3,4,5]],[[6,7,8,9,10]],[[11,12,13,14,15]]])\n",
        "print(arrii)\n",
        "print(arrii.shape)\n",
        "print(\"Number of dimension : \",arrii.ndim, \"\\n\")\n",
        "\n",
        "arrii = np.array([[1,2,3,4,5],[6,7,8,9,10],[11,12,13,14,15]])\n",
        "print(arrii)\n",
        "print(arrii.shape)\n",
        "print(\"Number of dimension : \",arrii.ndim, \"\\n\")"
      ],
      "execution_count": null,
      "outputs": [
        {
          "output_type": "stream",
          "name": "stdout",
          "text": [
            "[[ 1  2  3  4  5]\n",
            " [ 6  7  8  9 10]]\n",
            "(2, 5)\n",
            "Number of dimension :  2 \n",
            "\n",
            "[[[ 1  2  3  4  5]]\n",
            "\n",
            " [[ 6  7  8  9 10]]\n",
            "\n",
            " [[11 12 13 14 15]]]\n",
            "(3, 1, 5)\n",
            "Number of dimension :  3 \n",
            "\n",
            "[[ 1  2  3  4  5]\n",
            " [ 6  7  8  9 10]\n",
            " [11 12 13 14 15]]\n",
            "(3, 5)\n",
            "Number of dimension :  2 \n",
            "\n"
          ]
        }
      ]
    },
    {
      "cell_type": "markdown",
      "metadata": {
        "id": "7ajxEyayqoBc"
      },
      "source": [
        "**Reshaping Arrays**\n",
        "\n",
        "You can reshape the array from 1-D to 2-D."
      ]
    },
    {
      "cell_type": "code",
      "metadata": {
        "id": "LfpMiHLBqp5t",
        "colab": {
          "base_uri": "https://localhost:8080/"
        },
        "outputId": "86352306-2138-489d-fe72-d6668039ec50"
      },
      "source": [
        "# Convert the following 1-D array with 12 elements into a 2-D array.\n",
        "import numpy as np\n",
        "ar01 = np.array([1,2,3,4,5,6,7,8,9,10,11,12])\n",
        "print(ar01)\n",
        "\n",
        "ar1 = ar01.reshape(4,3) # any combinations must yield back 12 elements in total\n",
        "print(\"4 arrays with 3 elements each : \\n\", ar1)\n",
        "\n",
        "ar2 = ar01.reshape(6,2) # any combinations must yield back 12 elements in total\n",
        "print(\"6 arrays with 2 elements each : \\n\", ar2)\n",
        "\n",
        "ar3 = ar01.reshape(2,2,3) # 2 (outer array) * 2 (inner array) * 3 (elements) = 12\n",
        "print(\"2 outer arrays that contains 2 inner arrays with 3 elements each : \\n\", ar3)"
      ],
      "execution_count": null,
      "outputs": [
        {
          "output_type": "stream",
          "name": "stdout",
          "text": [
            "[ 1  2  3  4  5  6  7  8  9 10 11 12]\n",
            "4 arrays with 3 elements each : \n",
            " [[ 1  2  3]\n",
            " [ 4  5  6]\n",
            " [ 7  8  9]\n",
            " [10 11 12]]\n",
            "6 arrays with 2 elements each : \n",
            " [[ 1  2]\n",
            " [ 3  4]\n",
            " [ 5  6]\n",
            " [ 7  8]\n",
            " [ 9 10]\n",
            " [11 12]]\n",
            "2 outer arrays that contains 2 inner arrays with 3 elements each : \n",
            " [[[ 1  2  3]\n",
            "  [ 4  5  6]]\n",
            "\n",
            " [[ 7  8  9]\n",
            "  [10 11 12]]]\n"
          ]
        }
      ]
    },
    {
      "cell_type": "code",
      "metadata": {
        "id": "ufh1spk7qrlI",
        "colab": {
          "base_uri": "https://localhost:8080/"
        },
        "outputId": "64013d57-3f97-4f16-cafe-5582e58b92af"
      },
      "source": [
        "# Array Slicing\n",
        "# Slice elements from index 1 to index 5 from the following array\n",
        "x = np.array([1,2,3,4,5,6,7,8,9,10])\n",
        "print(\"Get the value from #1 to #8 :\", x[0:8])\n",
        "print(\"Get the value from last 3 values:\", x[7:10])\n",
        "print(\"Get the value from last 3 values:\", x[-3:])"
      ],
      "execution_count": null,
      "outputs": [
        {
          "output_type": "stream",
          "name": "stdout",
          "text": [
            "Get the value from #1 to #8 : [1 2 3 4 5 6 7 8]\n",
            "Get the value from last 3 values: [ 8  9 10]\n",
            "Get the value from last 3 values: [8 9]\n"
          ]
        }
      ]
    },
    {
      "cell_type": "code",
      "metadata": {
        "id": "XNdGgpUMqtb2",
        "colab": {
          "base_uri": "https://localhost:8080/"
        },
        "outputId": "bb228908-e961-4a84-f64f-6cb287f60b0c"
      },
      "source": [
        "# Slicing 2-D Arrays\n",
        "# From the second element, slice\n",
        "y = np.array([[1,2,3,4,5],[6,7,8,9,10]])\n",
        "print(y)\n",
        "print(\"The second element, slice elements from index 1 to index 4 (not included) : \",y[1,1:4])\n",
        "print(\"The first element, slice elements from index 0 to index 3 (not included) : \",y[0,0:3])"
      ],
      "execution_count": null,
      "outputs": [
        {
          "output_type": "stream",
          "name": "stdout",
          "text": [
            "[[ 1  2  3  4  5]\n",
            " [ 6  7  8  9 10]]\n",
            "The second element, slice elements from index 1 to index 4 (not included) :  [7 8 9]\n",
            "The first element, slice elements from index 0 to index 3 (not included) :  [1 2 3]\n"
          ]
        }
      ]
    },
    {
      "cell_type": "markdown",
      "metadata": {
        "id": "jI5qcSDfL9iC"
      },
      "source": [
        "###Array indexing"
      ]
    },
    {
      "cell_type": "markdown",
      "metadata": {
        "id": "M-E4MUeVL9iC"
      },
      "source": [
        "Numpy offers several ways to index into arrays."
      ]
    },
    {
      "cell_type": "markdown",
      "metadata": {
        "id": "QYv4JyIEL9iD"
      },
      "source": [
        "Slicing: Similar to Python lists, numpy arrays can be sliced. Since arrays may be multidimensional, you must specify a slice for each dimension of the array:"
      ]
    },
    {
      "cell_type": "code",
      "metadata": {
        "id": "wLWA0udwL9iD",
        "colab": {
          "base_uri": "https://localhost:8080/"
        },
        "outputId": "cbc07f81-b39d-4adb-f279-44396ab005a7"
      },
      "source": [
        "import numpy as np\n",
        "\n",
        "# Create the following rank 2 array with shape (3, 4)\n",
        "# [[ 1  2  3  4]\n",
        "#  [ 5  6  7  8]\n",
        "#  [ 9 10 11 12]]\n",
        "a = np.array([[1,2,3,4], [5,6,7,8], [9,10,11,12]])\n",
        "\n",
        "# Use slicing to pull out the subarray consisting of the first 2 rows\n",
        "# and columns 1 and 2; b is the following array of shape (2, 2):\n",
        "# [[2 3]\n",
        "#  [6 7]]\n",
        "b = a[:2, 1:3]\n",
        "print(b)"
      ],
      "execution_count": null,
      "outputs": [
        {
          "output_type": "stream",
          "name": "stdout",
          "text": [
            "[[2 3]\n",
            " [6 7]]\n"
          ]
        }
      ]
    },
    {
      "cell_type": "markdown",
      "metadata": {
        "id": "KahhtZKYL9iF"
      },
      "source": [
        "A slice of an array is a view into the same data, so modifying it will modify the original array."
      ]
    },
    {
      "cell_type": "code",
      "metadata": {
        "id": "1kmtaFHuL9iG",
        "colab": {
          "base_uri": "https://localhost:8080/"
        },
        "outputId": "2ed286d2-41a1-4662-d54b-68745484e0fc"
      },
      "source": [
        "print(a[0, 1])\n",
        "b[0, 0] = 77    # b[0, 0] is the same piece of data as a[0, 1]\n",
        "print(a[0, 1])"
      ],
      "execution_count": null,
      "outputs": [
        {
          "output_type": "stream",
          "name": "stdout",
          "text": [
            "2\n",
            "77\n"
          ]
        }
      ]
    },
    {
      "cell_type": "markdown",
      "metadata": {
        "id": "_Zcf3zi-L9iI"
      },
      "source": [
        "You can also mix integer indexing with slice indexing. However, doing so will yield an array of lower rank than the original array. Note that this is quite different from the way that MATLAB handles array slicing:"
      ]
    },
    {
      "cell_type": "code",
      "metadata": {
        "id": "G6lfbPuxL9iJ",
        "colab": {
          "base_uri": "https://localhost:8080/"
        },
        "outputId": "86c61bf9-5e09-4072-de30-874c5bb02b20"
      },
      "source": [
        "# Create the following rank 2 array with shape (3, 4)\n",
        "a = np.array([[1,2,3,4], [5,6,7,8], [9,10,11,12]])\n",
        "print(a)"
      ],
      "execution_count": null,
      "outputs": [
        {
          "output_type": "stream",
          "name": "stdout",
          "text": [
            "[[ 1  2  3  4]\n",
            " [ 5  6  7  8]\n",
            " [ 9 10 11 12]]\n"
          ]
        }
      ]
    },
    {
      "cell_type": "markdown",
      "metadata": {
        "id": "NCye3NXhL9iL"
      },
      "source": [
        "Two ways of accessing the data in the middle row of the array.\n",
        "Mixing integer indexing with slices yields an array of lower rank,\n",
        "while using only slices yields an array of the same rank as the\n",
        "original array:"
      ]
    },
    {
      "cell_type": "code",
      "metadata": {
        "id": "EOiEMsmNL9iL",
        "colab": {
          "base_uri": "https://localhost:8080/"
        },
        "outputId": "6e1a9ea1-6681-49ef-b9c6-25162323167d"
      },
      "source": [
        "row_r1 = a[0]    # Rank 1 view of the second row of a\n",
        "row_r2 = a[1:2]  # Rank 2 view of the second row of a\n",
        "row_r3 = a[[1]]  # Rank 2 view of the second row of a\n",
        "print(row_r1, row_r1.shape)\n",
        "print(row_r2, row_r2.shape)\n",
        "print(row_r3, row_r3.shape)"
      ],
      "execution_count": null,
      "outputs": [
        {
          "output_type": "stream",
          "name": "stdout",
          "text": [
            "[1 2] (2,)\n",
            "[[3 4]] (1, 2)\n",
            "[[3 4]] (1, 2)\n"
          ]
        }
      ]
    },
    {
      "cell_type": "code",
      "metadata": {
        "id": "JXu73pfDL9iN",
        "colab": {
          "base_uri": "https://localhost:8080/"
        },
        "outputId": "fcf98ceb-4026-465c-a19f-5466fb40819a"
      },
      "source": [
        "# We can make the same distinction when accessing columns of an array:\n",
        "col_r1 = a[:, 1]\n",
        "col_r2 = a[:, 1:2]\n",
        "print(col_r1, col_r1.shape)\n",
        "print()\n",
        "print(col_r2, col_r2.shape)"
      ],
      "execution_count": null,
      "outputs": [
        {
          "output_type": "stream",
          "name": "stdout",
          "text": [
            "[2 4 6] (3,)\n",
            "\n",
            "[[2]\n",
            " [4]\n",
            " [6]] (3, 1)\n"
          ]
        }
      ]
    },
    {
      "cell_type": "markdown",
      "metadata": {
        "id": "VP3916bOL9iP"
      },
      "source": [
        "Integer array indexing: When you index into numpy arrays using slicing, the resulting array view will always be a subarray of the original array. In contrast, integer array indexing allows you to construct arbitrary arrays using the data from another array. Here is an example:"
      ]
    },
    {
      "cell_type": "code",
      "metadata": {
        "id": "TBnWonIDL9iP",
        "colab": {
          "base_uri": "https://localhost:8080/"
        },
        "outputId": "354bcd59-0264-4b4c-f1f0-d51068aeabd3"
      },
      "source": [
        "a = np.array([[1,2], [3, 4], [5, 6]])\n",
        "\n",
        "# An example of integer array indexing.\n",
        "# The returned array will have shape (3,) and\n",
        "print(a[[0, 1, 2], [0, 1, 0]]) # get (0,0) (1,1) (2,0)\n",
        "\n",
        "# The above example of integer array indexing is equivalent to this:\n",
        "print(np.array([a[0, 0], a[1, 1], a[2, 0]]))"
      ],
      "execution_count": null,
      "outputs": [
        {
          "output_type": "stream",
          "name": "stdout",
          "text": [
            "[1 4 5]\n",
            "[1 4 5]\n"
          ]
        }
      ]
    },
    {
      "cell_type": "code",
      "metadata": {
        "id": "n7vuati-L9iR"
      },
      "source": [
        "# When using integer array indexing, you can reuse the same\n",
        "# element from the source array:\n",
        "print(a[[0, 0], [1, 1]]) # get (0,1) (0,1)\n",
        "\n",
        "# Equivalent to the previous integer array indexing example\n",
        "print(np.array([a[0, 1], a[0, 1]]))"
      ],
      "execution_count": null,
      "outputs": []
    },
    {
      "cell_type": "markdown",
      "metadata": {
        "id": "kaipSLafL9iU"
      },
      "source": [
        "One useful trick with integer array indexing is selecting or mutating one element from each row of a matrix:"
      ]
    },
    {
      "cell_type": "code",
      "metadata": {
        "id": "ehqsV7TXL9iU",
        "colab": {
          "base_uri": "https://localhost:8080/"
        },
        "outputId": "d6e7b3e2-253f-4708-871b-0e29fa489ac1"
      },
      "source": [
        "# Create a new array from which we will select elements\n",
        "a = np.array([[1,2,3], [4,5,6], [7,8,9], [10, 11, 12]])\n",
        "print(a)"
      ],
      "execution_count": null,
      "outputs": [
        {
          "output_type": "stream",
          "name": "stdout",
          "text": [
            "[[ 1  2  3]\n",
            " [ 4  5  6]\n",
            " [ 7  8  9]\n",
            " [10 11 12]]\n"
          ]
        }
      ]
    },
    {
      "cell_type": "code",
      "metadata": {
        "id": "pAPOoqy5L9iV",
        "colab": {
          "base_uri": "https://localhost:8080/"
        },
        "outputId": "b79a8e9f-7be3-4dae-f8e2-97dcab15e7f6"
      },
      "source": [
        "# Create an array of indices\n",
        "b = np.array([0, 2, 0, 1])\n",
        "\n",
        "# Select one element from each row of a using the indices in b --> Whcih means select (0,0) = 1, (1,2) = 6, (2,0) = 7, (3,1) = 11\n",
        "print(a[np.arange(4), b])  # Prints \"[ 1  6  7 11]\""
      ],
      "execution_count": null,
      "outputs": [
        {
          "output_type": "stream",
          "name": "stdout",
          "text": [
            "[ 1  6  7 11]\n"
          ]
        }
      ]
    },
    {
      "cell_type": "code",
      "metadata": {
        "id": "6v1PdI1DL9ib",
        "colab": {
          "base_uri": "https://localhost:8080/"
        },
        "outputId": "58f9858c-0c4e-4e61-95aa-6a9109bba98e"
      },
      "source": [
        "# Mutate one element from each row of a using the indices in b --> Whcih means select (0,0) = 1 + 10 = 11, (1,2) = 6 + 10 =  16, (2,0) = 7 + 10 = 17, (3,1) = 11 + 10 = 21\n",
        "a[np.arange(4), b] += 10\n",
        "print(a)"
      ],
      "execution_count": null,
      "outputs": [
        {
          "output_type": "stream",
          "name": "stdout",
          "text": [
            "[[51  2  3]\n",
            " [ 4  5 56]\n",
            " [57  8  9]\n",
            " [10 61 12]]\n"
          ]
        }
      ]
    },
    {
      "cell_type": "markdown",
      "metadata": {
        "id": "kaE8dBGgL9id"
      },
      "source": [
        "Boolean array indexing: Boolean array indexing lets you pick out arbitrary elements of an array. Frequently this type of indexing is used to select the elements of an array that satisfy some condition. Here is an example:"
      ]
    },
    {
      "cell_type": "code",
      "metadata": {
        "id": "32PusjtKL9id",
        "colab": {
          "base_uri": "https://localhost:8080/"
        },
        "outputId": "b1e7bd2e-3485-4cbb-fe78-0a3ee173e36c"
      },
      "source": [
        "import numpy as np\n",
        "\n",
        "a = np.array([[1,2], [3, 4], [5, 6]])\n",
        "\n",
        "bool_idx = (a > 2)  # Find the elements of a that are bigger than 2;\n",
        "                    # this returns a numpy array of Booleans of the same\n",
        "                    # shape as a, where each slot of bool_idx tells\n",
        "                    # whether that element of a is > 2.\n",
        "\n",
        "print(bool_idx)"
      ],
      "execution_count": null,
      "outputs": [
        {
          "output_type": "stream",
          "name": "stdout",
          "text": [
            "[[False False]\n",
            " [ True  True]\n",
            " [ True  True]]\n"
          ]
        }
      ]
    },
    {
      "cell_type": "code",
      "metadata": {
        "id": "cb2IRMXaL9if",
        "colab": {
          "base_uri": "https://localhost:8080/"
        },
        "outputId": "e95ffe4f-43d0-402f-9c58-d7c00e3e2f01"
      },
      "source": [
        "# We use boolean array indexing to construct a rank 1 array\n",
        "# consisting of the elements of a corresponding to the True values\n",
        "# of bool_idx\n",
        "print(a[bool_idx])\n",
        "\n",
        "# We can do all of the above in a single concise statement:\n",
        "print(a[a > 2])"
      ],
      "execution_count": null,
      "outputs": [
        {
          "output_type": "stream",
          "name": "stdout",
          "text": [
            "[3 4 5 6]\n",
            "[3 4 5 6]\n"
          ]
        }
      ]
    },
    {
      "cell_type": "markdown",
      "metadata": {
        "id": "CdofMonAL9ih"
      },
      "source": [
        "For brevity we have left out a lot of details about numpy array indexing; if you want to know more you should read the documentation."
      ]
    },
    {
      "cell_type": "markdown",
      "metadata": {
        "id": "jTctwqdQL9ih"
      },
      "source": [
        "###Datatypes"
      ]
    },
    {
      "cell_type": "markdown",
      "metadata": {
        "id": "kSZQ1WkIL9ih"
      },
      "source": [
        "Every numpy array is a grid of elements of the same type. Numpy provides a large set of numeric datatypes that you can use to construct arrays. Numpy tries to guess a datatype when you create an array, but functions that construct arrays usually also include an optional argument to explicitly specify the datatype. Here is an example:"
      ]
    },
    {
      "cell_type": "code",
      "metadata": {
        "id": "4za4O0m5L9ih",
        "colab": {
          "base_uri": "https://localhost:8080/"
        },
        "outputId": "ca1b4ea4-3f0e-4f63-fa08-0459889295c4"
      },
      "source": [
        "x = np.array([1, 2])  # Let numpy choose the datatype\n",
        "y = np.array([1.0, 2.0])  # Let numpy choose the datatype\n",
        "z = np.array([1, 2], dtype=np.int64)  # Force a particular datatype\n",
        "\n",
        "print(x.dtype, y.dtype, z.dtype)"
      ],
      "execution_count": null,
      "outputs": [
        {
          "output_type": "stream",
          "name": "stdout",
          "text": [
            "int64 float64 int64\n"
          ]
        }
      ]
    },
    {
      "cell_type": "markdown",
      "metadata": {
        "id": "RLVIsZQpL9ik"
      },
      "source": [
        "You can read all about numpy datatypes in the [documentation](http://docs.scipy.org/doc/numpy/reference/arrays.dtypes.html)."
      ]
    },
    {
      "cell_type": "markdown",
      "metadata": {
        "id": "TuB-fdhIL9ik"
      },
      "source": [
        "###Array math"
      ]
    },
    {
      "cell_type": "markdown",
      "metadata": {
        "id": "18e8V8elL9ik"
      },
      "source": [
        "Basic mathematical functions operate elementwise on arrays, and are available both as operator overloads and as functions in the numpy module:"
      ]
    },
    {
      "cell_type": "code",
      "metadata": {
        "id": "gHKvBrSKL9il",
        "colab": {
          "base_uri": "https://localhost:8080/"
        },
        "outputId": "03326b76-a2b6-4e19-e969-3aa9118dbddd"
      },
      "source": [
        "x = np.array([[1,2],[3,4]], dtype=np.float64)\n",
        "y = np.array([[5,6],[7,8]], dtype=np.float64)\n",
        "\n",
        "# Elementwise sum; both produce the array\n",
        "print(x + y)\n",
        "print(np.add(x, y))"
      ],
      "execution_count": null,
      "outputs": [
        {
          "output_type": "stream",
          "name": "stdout",
          "text": [
            "[[ 6.  8.]\n",
            " [10. 12.]]\n",
            "[[ 6.  8.]\n",
            " [10. 12.]]\n"
          ]
        }
      ]
    },
    {
      "cell_type": "code",
      "metadata": {
        "id": "1fZtIAMxL9in",
        "colab": {
          "base_uri": "https://localhost:8080/"
        },
        "outputId": "51489d3c-85c1-4001-f237-33e56938a25d"
      },
      "source": [
        "# Elementwise difference; both produce the array\n",
        "print(x - y)\n",
        "print(np.subtract(x, y))"
      ],
      "execution_count": null,
      "outputs": [
        {
          "output_type": "stream",
          "name": "stdout",
          "text": [
            "[[-4. -4.]\n",
            " [-4. -4.]]\n",
            "[[-4. -4.]\n",
            " [-4. -4.]]\n"
          ]
        }
      ]
    },
    {
      "cell_type": "code",
      "metadata": {
        "id": "nil4AScML9io",
        "colab": {
          "base_uri": "https://localhost:8080/"
        },
        "outputId": "e2ddeab0-1b5f-4daa-eac8-2feb9b3fe2ce"
      },
      "source": [
        "# Elementwise product; both produce the array\n",
        "print(x * y)\n",
        "print(np.multiply(x, y))"
      ],
      "execution_count": null,
      "outputs": [
        {
          "output_type": "stream",
          "name": "stdout",
          "text": [
            "[[ 5. 12.]\n",
            " [21. 32.]]\n",
            "[[ 5. 12.]\n",
            " [21. 32.]]\n"
          ]
        }
      ]
    },
    {
      "cell_type": "code",
      "metadata": {
        "id": "0JoA4lH6L9ip",
        "colab": {
          "base_uri": "https://localhost:8080/"
        },
        "outputId": "5d91c408-631b-4293-f717-c8fd065ea326"
      },
      "source": [
        "# Elementwise division; both produce the array\n",
        "# [[ 0.2         0.33333333]\n",
        "#  [ 0.42857143  0.5       ]]\n",
        "print(x / y)\n",
        "print(np.divide(x, y))"
      ],
      "execution_count": null,
      "outputs": [
        {
          "output_type": "stream",
          "name": "stdout",
          "text": [
            "[[0.2        0.33333333]\n",
            " [0.42857143 0.5       ]]\n",
            "[[0.2        0.33333333]\n",
            " [0.42857143 0.5       ]]\n"
          ]
        }
      ]
    },
    {
      "cell_type": "code",
      "metadata": {
        "id": "g0iZuA6bL9ir",
        "colab": {
          "base_uri": "https://localhost:8080/"
        },
        "outputId": "c9687717-d3cf-494f-d75b-80aa7cef436a"
      },
      "source": [
        "# Elementwise square root; produces the array\n",
        "# [[ 1.          1.41421356]\n",
        "#  [ 1.73205081  2.        ]]\n",
        "print(np.sqrt(x))"
      ],
      "execution_count": null,
      "outputs": [
        {
          "output_type": "stream",
          "name": "stdout",
          "text": [
            "[[1.         1.41421356]\n",
            " [1.73205081 2.        ]]\n"
          ]
        }
      ]
    },
    {
      "cell_type": "markdown",
      "metadata": {
        "id": "a5d_uujuL9it"
      },
      "source": [
        "Note that unlike MATLAB, `*` is elementwise multiplication, not matrix multiplication. We instead use the dot function to compute inner products of vectors, to multiply a vector by a matrix, and to multiply matrices. dot is available both as a function in the numpy module and as an instance method of array objects:"
      ]
    },
    {
      "cell_type": "code",
      "metadata": {
        "id": "I3FnmoSeL9iu",
        "colab": {
          "base_uri": "https://localhost:8080/"
        },
        "outputId": "12ddcea0-d564-4b2b-d92e-f66720e0a71c"
      },
      "source": [
        "x = np.array([[1,2],[3,4]])\n",
        "y = np.array([[5,6],[7,8]])\n",
        "\n",
        "v = np.array([9,10])\n",
        "w = np.array([11, 12])\n",
        "\n",
        "# Inner product of vectors; both produce 219  ---> 9 * 11 + 10 * 12\n",
        "print(v.dot(w))\n",
        "print(np.dot(v, w))"
      ],
      "execution_count": null,
      "outputs": [
        {
          "output_type": "stream",
          "name": "stdout",
          "text": [
            "219\n",
            "219\n"
          ]
        }
      ]
    },
    {
      "cell_type": "markdown",
      "metadata": {
        "id": "vmxPbrHASVeA"
      },
      "source": [
        "You can also use the `@` operator which is equivalent to numpy's `dot` operator."
      ]
    },
    {
      "cell_type": "code",
      "metadata": {
        "id": "vyrWA-mXSdtt"
      },
      "source": [
        "print(v @ w)"
      ],
      "execution_count": null,
      "outputs": []
    },
    {
      "cell_type": "code",
      "metadata": {
        "id": "zvUODeTxL9iw"
      },
      "source": [
        "# Matrix / vector product; both produce the rank 1 array [29 67]  --->  [1 * 9 + 2 * 10     3 * 9 + 4 * 10]\n",
        "print(x.dot(v))\n",
        "print(np.dot(x, v))\n",
        "print(x @ v)"
      ],
      "execution_count": null,
      "outputs": []
    },
    {
      "cell_type": "code",
      "metadata": {
        "id": "3V_3NzNEL9iy"
      },
      "source": [
        "# Matrix / matrix product; both produce the rank 2 array\n",
        "# [[19 22]            [[1*5+2*7   1*6+2*8]\n",
        "#  [43 50]]             [3*5+4*7  3*6+4*6]]    Ref: https://www.mathsisfun.com/algebra/matrix-multiplying.html\n",
        "print(x.dot(y))\n",
        "print(np.dot(x, y))\n",
        "print(x @ y)"
      ],
      "execution_count": null,
      "outputs": []
    },
    {
      "cell_type": "markdown",
      "metadata": {
        "id": "FbE-1If_L9i0"
      },
      "source": [
        "Numpy provides many useful functions for performing computations on arrays; one of the most useful is `sum`:"
      ]
    },
    {
      "cell_type": "code",
      "metadata": {
        "id": "DZUdZvPrL9i0",
        "colab": {
          "base_uri": "https://localhost:8080/"
        },
        "outputId": "d5c29b82-f09a-402d-f3fd-5cf7183eee3a"
      },
      "source": [
        "x = np.array([[1,2],[3,4]])\n",
        "\n",
        "print(np.sum(x))  # Compute sum of all elements; prints \"10\"\n",
        "print(np.sum(x, axis=0))  # Compute sum of each column; prints \"[4 6]\"\n",
        "print(np.sum(x, axis=1))  # Compute sum of each row; prints \"[3 7]\""
      ],
      "execution_count": null,
      "outputs": [
        {
          "output_type": "stream",
          "name": "stdout",
          "text": [
            "10\n",
            "[4 6]\n",
            "[3 7]\n"
          ]
        }
      ]
    },
    {
      "cell_type": "markdown",
      "metadata": {
        "id": "ahdVW4iUL9i3"
      },
      "source": [
        "You can find the full list of mathematical functions provided by numpy in the [documentation](http://docs.scipy.org/doc/numpy/reference/routines.math.html).\n",
        "\n",
        "Apart from computing mathematical functions using arrays, we frequently need to reshape or otherwise manipulate data in arrays. The simplest example of this type of operation is transposing a matrix; to transpose a matrix, simply use the T attribute of an array object:"
      ]
    },
    {
      "cell_type": "code",
      "metadata": {
        "id": "63Yl1f3oL9i3",
        "colab": {
          "base_uri": "https://localhost:8080/"
        },
        "outputId": "955b15f4-a482-4334-ca06-a8097377d142"
      },
      "source": [
        "print(x)\n",
        "print(x.T)"
      ],
      "execution_count": null,
      "outputs": [
        {
          "output_type": "stream",
          "name": "stdout",
          "text": [
            "[[1 2]\n",
            " [3 4]]\n",
            "[[1 3]\n",
            " [2 4]]\n"
          ]
        }
      ]
    },
    {
      "cell_type": "code",
      "metadata": {
        "id": "mkk03eNIL9i4",
        "colab": {
          "base_uri": "https://localhost:8080/"
        },
        "outputId": "6ca3ff40-1df0-4e5e-b54c-05bdac900c6c"
      },
      "source": [
        "v = np.array([[1,2,3]])\n",
        "print(v )\n",
        "print(\"transpose\\n\", v.T)"
      ],
      "execution_count": null,
      "outputs": [
        {
          "output_type": "stream",
          "name": "stdout",
          "text": [
            "[[1 2 3]]\n",
            "transpose\n",
            " [[1]\n",
            " [2]\n",
            " [3]]\n"
          ]
        }
      ]
    },
    {
      "cell_type": "markdown",
      "metadata": {
        "id": "REfLrUTcL9i7"
      },
      "source": [
        "###Broadcasting"
      ]
    },
    {
      "cell_type": "markdown",
      "metadata": {
        "id": "EygGAMWqL9i7"
      },
      "source": [
        "Broadcasting is a powerful mechanism that allows numpy to work with arrays of different shapes when performing arithmetic operations. Frequently we have a smaller array and a larger array, and we want to use the smaller array multiple times to perform some operation on the larger array.\n",
        "\n",
        "For example, suppose that we want to add a constant vector to each row of a matrix. We could do it like this:"
      ]
    },
    {
      "cell_type": "code",
      "metadata": {
        "id": "WEEvkV1ZL9i7",
        "colab": {
          "base_uri": "https://localhost:8080/"
        },
        "outputId": "2448e558-fe52-487b-866a-2fa9f01df01b"
      },
      "source": [
        "# We will add the vector v to each row of the matrix x,\n",
        "# storing the result in the matrix y\n",
        "x = np.array([[1,2,3], [4,5,6], [7,8,9], [10, 11, 12]])\n",
        "v = np.array([1, 0, 1])\n",
        "y = np.empty_like(x)   # Create an empty matrix with the same shape as x\n",
        "\n",
        "# Add the vector v to each row of the matrix x with an explicit loop\n",
        "# [1+1, 2+0, 3+1]  --> [2 2 4]\n",
        "# [4+1, 5+0, 6+1]  --> [5 5 7]\n",
        "# [7+1, 8+0, 9+1]  --> [8 8 10]\n",
        "# [10+1, 11+0, 12+1] -> [11 11 13]\n",
        "for i in range(4):\n",
        "    y[i, :] = x[i, :] + v\n",
        "\n",
        "print(y)"
      ],
      "execution_count": null,
      "outputs": [
        {
          "output_type": "stream",
          "name": "stdout",
          "text": [
            "[[ 2  2  4]\n",
            " [ 5  5  7]\n",
            " [ 8  8 10]\n",
            " [11 11 13]]\n"
          ]
        }
      ]
    },
    {
      "cell_type": "markdown",
      "metadata": {
        "id": "2OlXXupEL9i-"
      },
      "source": [
        "This works; however when the matrix `x` is very large, computing an explicit loop in Python could be slow. Note that adding the vector v to each row of the matrix `x` is equivalent to forming a matrix `vv` by stacking multiple copies of `v` vertically, then performing elementwise summation of `x` and `vv`. We could implement this approach like this:"
      ]
    },
    {
      "cell_type": "code",
      "metadata": {
        "id": "vS7UwAQQL9i-"
      },
      "source": [
        "vv = np.tile(v, (4, 1))  # Stack 4 copies of v on top of each other\n",
        "print(vv)                # Prints \"[[1 0 1]\n",
        "                         #          [1 0 1]\n",
        "                         #          [1 0 1]\n",
        "                         #          [1 0 1]]\""
      ],
      "execution_count": null,
      "outputs": []
    },
    {
      "cell_type": "code",
      "metadata": {
        "id": "N0hJphSIL9jA"
      },
      "source": [
        "y = x + vv  # Add x and vv elementwise\n",
        "print(y)"
      ],
      "execution_count": null,
      "outputs": []
    },
    {
      "cell_type": "markdown",
      "metadata": {
        "id": "zHos6RJnL9jB"
      },
      "source": [
        "Numpy broadcasting allows us to perform this computation without actually creating multiple copies of v. Consider this version, using broadcasting:"
      ]
    },
    {
      "cell_type": "code",
      "metadata": {
        "id": "vnYFb-gYL9jC",
        "colab": {
          "base_uri": "https://localhost:8080/"
        },
        "outputId": "03389ffd-05d7-493a-cfc9-85d23eb4e020"
      },
      "source": [
        "import numpy as np\n",
        "\n",
        "# We will add the vector v to each row of the matrix x,\n",
        "# storing the result in the matrix y\n",
        "x = np.array([[1,2,3], [4,5,6], [7,8,9], [10, 11, 12]])\n",
        "v = np.array([1, 0, 1])\n",
        "y = x + v  # Add v to each row of x using broadcasting\n",
        "print(y)"
      ],
      "execution_count": null,
      "outputs": [
        {
          "output_type": "stream",
          "name": "stdout",
          "text": [
            "[[ 2  2  4]\n",
            " [ 5  5  7]\n",
            " [ 8  8 10]\n",
            " [11 11 13]]\n"
          ]
        }
      ]
    },
    {
      "cell_type": "markdown",
      "metadata": {
        "id": "08YyIURKL9jH"
      },
      "source": [
        "The line `y = x + v` works even though `x` has shape `(4, 3)` and `v` has shape `(3,)` due to broadcasting; this line works as if v actually had shape `(4, 3)`, where each row was a copy of `v`, and the sum was performed elementwise.\n",
        "\n",
        "Broadcasting two arrays together follows these rules:\n",
        "\n",
        "1. If the arrays do not have the same rank, prepend the shape of the lower rank array with 1s until both shapes have the same length.\n",
        "2. The two arrays are said to be compatible in a dimension if they have the same size in the dimension, or if one of the arrays has size 1 in that dimension.\n",
        "3. The arrays can be broadcast together if they are compatible in all dimensions.\n",
        "4. After broadcasting, each array behaves as if it had shape equal to the elementwise maximum of shapes of the two input arrays.\n",
        "5. In any dimension where one array had size 1 and the other array had size greater than 1, the first array behaves as if it were copied along that dimension\n",
        "\n",
        "If this explanation does not make sense, try reading the explanation from the [documentation](http://docs.scipy.org/doc/numpy/user/basics.broadcasting.html) or this [explanation](http://wiki.scipy.org/EricsBroadcastingDoc).\n",
        "\n",
        "Functions that support broadcasting are known as universal functions. You can find the list of all universal functions in the [documentation](http://docs.scipy.org/doc/numpy/reference/ufuncs.html#available-ufuncs).\n",
        "\n",
        "Here are some applications of broadcasting:"
      ]
    },
    {
      "cell_type": "code",
      "metadata": {
        "id": "EmQnwoM9L9jH",
        "colab": {
          "base_uri": "https://localhost:8080/"
        },
        "outputId": "e931bf29-6d06-4deb-c0bc-29013788e452"
      },
      "source": [
        "# Compute outer product of vectors\n",
        "v = np.array([1,2,3])  # v has shape (3,)\n",
        "w = np.array([4,5])    # w has shape (2,)\n",
        "# To compute an outer product, we first reshape v to be a column\n",
        "# vector of shape (3, 1); we can then broadcast it against w to yield\n",
        "# an output of shape (3, 2), which is the outer product of v and w:\n",
        "\n",
        "\n",
        "\n",
        "print(np.reshape(v,(3,1))* w)"
      ],
      "execution_count": null,
      "outputs": [
        {
          "output_type": "stream",
          "name": "stdout",
          "text": [
            "[[ 4  5]\n",
            " [ 8 10]\n",
            " [12 15]]\n"
          ]
        }
      ]
    },
    {
      "cell_type": "code",
      "metadata": {
        "id": "PgotmpcnL9jK",
        "colab": {
          "base_uri": "https://localhost:8080/"
        },
        "outputId": "a601a589-50da-4432-ea5e-77ec35f4a802"
      },
      "source": [
        "# Add a vector to each row of a matrix\n",
        "x = np.array([[1,2,3], [4,5,6]])\n",
        "# x has shape (2, 3) and v has shape (3,) so they broadcast to (2, 3),\n",
        "# giving the following matrix:\n",
        "\n",
        "print(x + v)"
      ],
      "execution_count": null,
      "outputs": [
        {
          "output_type": "stream",
          "name": "stdout",
          "text": [
            "[[2 4 6]\n",
            " [5 7 9]]\n"
          ]
        }
      ]
    },
    {
      "cell_type": "code",
      "metadata": {
        "id": "T5hKS1QaL9jK",
        "colab": {
          "base_uri": "https://localhost:8080/"
        },
        "outputId": "6558c68c-b1ce-4774-e731-056daa896a45"
      },
      "source": [
        "# Add a vector to each column of a matrix\n",
        "# x has shape (2, 3) and w has shape (2,).\n",
        "# If we transpose x then it has shape (3, 2) and can be broadcast\n",
        "# against w to yield a result of shape (3, 2); transposing this result\n",
        "# yields the final result of shape (2, 3) which is the matrix x with\n",
        "# the vector w added to each column. Gives the following matrix:\n",
        "print(x)\n",
        "print(x.T)\n",
        "print(x.T + w)\n",
        "print((x.T + w).T)"
      ],
      "execution_count": null,
      "outputs": [
        {
          "output_type": "stream",
          "name": "stdout",
          "text": [
            "[[1 2 3]\n",
            " [4 5 6]]\n",
            "[[1 4]\n",
            " [2 5]\n",
            " [3 6]]\n",
            "[[ 5  9]\n",
            " [ 6 10]\n",
            " [ 7 11]]\n",
            "[[ 5  6  7]\n",
            " [ 9 10 11]]\n"
          ]
        }
      ]
    },
    {
      "cell_type": "code",
      "metadata": {
        "id": "JDUrZUl6L9jN",
        "colab": {
          "base_uri": "https://localhost:8080/"
        },
        "outputId": "384e392d-95a8-4114-a3f3-a7fdaad4bc03"
      },
      "source": [
        "# Another solution is to reshape w to be a row vector of shape (2, 1);\n",
        "# we can then broadcast it directly against x to produce the same\n",
        "# output.\n",
        "print(np.reshape(w,(2,1)))\n",
        "print(x)\n",
        "print(x + np.reshape(w, (2, 1)))"
      ],
      "execution_count": null,
      "outputs": [
        {
          "output_type": "stream",
          "name": "stdout",
          "text": [
            "[[4]\n",
            " [5]]\n",
            "[[1 2 3]\n",
            " [4 5 6]]\n",
            "[[ 5  6  7]\n",
            " [ 9 10 11]]\n"
          ]
        }
      ]
    },
    {
      "cell_type": "code",
      "metadata": {
        "id": "VzrEo4KGL9jP",
        "colab": {
          "base_uri": "https://localhost:8080/"
        },
        "outputId": "b9341d56-6473-41c9-acf9-5d6b4dab5e95"
      },
      "source": [
        "# Multiply a matrix by a constant:\n",
        "# x has shape (2, 3). Numpy treats scalars as arrays of shape ();\n",
        "# these can be broadcast together to shape (2, 3), producing the\n",
        "# following array:\n",
        "print(x)\n",
        "print(x * 2)"
      ],
      "execution_count": null,
      "outputs": [
        {
          "output_type": "stream",
          "name": "stdout",
          "text": [
            "[[1 2 3]\n",
            " [4 5 6]]\n",
            "[[ 2  4  6]\n",
            " [ 8 10 12]]\n"
          ]
        }
      ]
    },
    {
      "cell_type": "markdown",
      "metadata": {
        "id": "89e2FXxFL9jQ"
      },
      "source": [
        "Broadcasting typically makes your code more concise and faster, so you should strive to use it where possible."
      ]
    },
    {
      "cell_type": "markdown",
      "metadata": {
        "id": "iF3ZtwVNL9jQ"
      },
      "source": [
        "This brief overview has touched on many of the important things that you need to know about numpy, but is far from complete. Check out the [numpy reference](http://docs.scipy.org/doc/numpy/reference/) to find out much more about numpy."
      ]
    },
    {
      "cell_type": "markdown",
      "metadata": {
        "id": "tEINf4bEL9jR"
      },
      "source": [
        "##Matplotlib"
      ]
    },
    {
      "cell_type": "markdown",
      "metadata": {
        "id": "0hgVWLaXL9jR"
      },
      "source": [
        "Matplotlib is a plotting library. In this section give a brief introduction to the `matplotlib.pyplot` module, which provides a plotting system similar to that of MATLAB."
      ]
    },
    {
      "cell_type": "code",
      "metadata": {
        "id": "cmh_7c6KL9jR"
      },
      "source": [
        "import matplotlib.pyplot as plt\n",
        "\n",
        "import numpy as np"
      ],
      "execution_count": null,
      "outputs": []
    },
    {
      "cell_type": "markdown",
      "metadata": {
        "id": "jOsaA5hGL9jS"
      },
      "source": [
        "By running this special iPython command, we will be displaying plots inline:"
      ]
    },
    {
      "cell_type": "code",
      "metadata": {
        "id": "ijpsmwGnL9jT"
      },
      "source": [
        "%matplotlib inline"
      ],
      "execution_count": null,
      "outputs": []
    },
    {
      "cell_type": "markdown",
      "metadata": {
        "id": "U5Z_oMoLL9jV"
      },
      "source": [
        "###Plotting"
      ]
    },
    {
      "cell_type": "markdown",
      "metadata": {
        "id": "6QyFJ7dhL9jV"
      },
      "source": [
        "The most important function in `matplotlib` is plot, which allows you to plot 2D data. Here is a simple example:"
      ]
    },
    {
      "cell_type": "code",
      "metadata": {
        "id": "pua52BGeL9jW",
        "colab": {
          "base_uri": "https://localhost:8080/",
          "height": 298
        },
        "outputId": "9491a6ed-ab87-4929-8cd0-eb2fc01bac9b"
      },
      "source": [
        "# Compute the x and y coordinates for points on a sine curve\n",
        "x = np.arange(0, 4 * np.pi, 0.01)\n",
        "y = np.sin(x)\n",
        "\n",
        "# Plot the points using matplotlib\n",
        "plt.title(\"sin x\")\n",
        "plt.plot(x,y)"
      ],
      "execution_count": null,
      "outputs": [
        {
          "output_type": "execute_result",
          "data": {
            "text/plain": [
              "[<matplotlib.lines.Line2D at 0x7f060824dc90>]"
            ]
          },
          "metadata": {},
          "execution_count": 13
        },
        {
          "output_type": "display_data",
          "data": {
            "text/plain": [
              "<Figure size 432x288 with 1 Axes>"
            ],
            "image/png": "[encoded data removed]"
          },
          "metadata": {
            "needs_background": "light"
          }
        }
      ]
    },
    {
      "cell_type": "markdown",
      "metadata": {
        "id": "9W2VAcLiL9jX"
      },
      "source": [
        "With just a little bit of extra work we can easily plot multiple lines at once, and add a title, legend, and axis labels:"
      ]
    },
    {
      "cell_type": "code",
      "metadata": {
        "id": "TfCQHJ5AL9jY",
        "colab": {
          "base_uri": "https://localhost:8080/",
          "height": 312
        },
        "outputId": "8dd8abbd-0bed-48b6-e9a7-a0507bf412d0"
      },
      "source": [
        "y_sin = np.sin(x)\n",
        "y_cos = np.cos(x)\n",
        "\n",
        "# Plot the points using matplotlib\n",
        "plt.plot(x, y_sin)\n",
        "plt.plot(x, y_cos)\n",
        "plt.xlabel('x axis label')\n",
        "plt.ylabel('y axis label')\n",
        "plt.title('Sine and Cosine')\n",
        "plt.legend(['Sine', 'Cosine'])"
      ],
      "execution_count": null,
      "outputs": [
        {
          "output_type": "execute_result",
          "data": {
            "text/plain": [
              "<matplotlib.legend.Legend at 0x7f95fcc6a910>"
            ]
          },
          "metadata": {},
          "execution_count": 38
        },
        {
          "output_type": "display_data",
          "data": {
            "text/plain": [
              "<Figure size 432x288 with 1 Axes>"
            ],
            "image/png": "[encoded data removed]"
          },
          "metadata": {
            "needs_background": "light"
          }
        }
      ]
    },
    {
      "cell_type": "markdown",
      "metadata": {
        "id": "R5IeAY03L9ja"
      },
      "source": [
        "###Subplots"
      ]
    },
    {
      "cell_type": "markdown",
      "metadata": {
        "id": "CfUzwJg0L9ja"
      },
      "source": [
        "You can plot different things in the same figure using the subplot function. Here is an example:"
      ]
    },
    {
      "cell_type": "code",
      "metadata": {
        "id": "dM23yGH9L9ja",
        "colab": {
          "base_uri": "https://localhost:8080/",
          "height": 281
        },
        "outputId": "6d940fe2-f112-48f4-8dac-badbba160bb2"
      },
      "source": [
        "# Compute the x and y coordinates for points on sine and cosine curves\n",
        "x = np.arange(0, 3 * np.pi, 0.1)\n",
        "y_sin = np.sin(x)\n",
        "y_cos = np.cos(x)\n",
        "\n",
        "# Set up a subplot grid that has height 2 and width 1,\n",
        "# and set the first such subplot as active.\n",
        "plt.subplot(2, 1, 1)\n",
        "\n",
        "# Make the first plot\n",
        "plt.plot(x, y_sin)\n",
        "plt.title('Sine')\n",
        "\n",
        "# Set the second subplot as active, and make the second plot.\n",
        "plt.subplot(2, 1, 2)\n",
        "plt.plot(x, y_cos)\n",
        "plt.title('Cosine')\n",
        "\n",
        "# Show the figure.\n",
        "plt.show()"
      ],
      "execution_count": null,
      "outputs": [
        {
          "output_type": "display_data",
          "data": {
            "text/plain": [
              "<Figure size 432x288 with 2 Axes>"
            ],
            "image/png": "[encoded data removed]"
          },
          "metadata": {
            "needs_background": "light"
          }
        }
      ]
    },
    {
      "cell_type": "markdown",
      "metadata": {
        "id": "gLtsST5SL9jc"
      },
      "source": [
        "You can read much more about the `subplot` function in the [documentation](http://matplotlib.org/api/pyplot_api.html#matplotlib.pyplot.subplot)."
      ]
    },
    {
      "cell_type": "markdown",
      "metadata": {
        "id": "XPflgU2GpLTD"
      },
      "source": [
        "Other Example"
      ]
    },
    {
      "cell_type": "code",
      "metadata": {
        "id": "r0697t8wpPVH",
        "colab": {
          "base_uri": "https://localhost:8080/",
          "height": 265
        },
        "outputId": "de17e4dc-8d67-4b4f-93a3-3a51c0c5b6ad"
      },
      "source": [
        "x = np.array([0,1,2,3,4,5])\n",
        "y = np.array([1,3,5,7,9,11])\n",
        "\n",
        "plt.plot(x,y)\n",
        "plt.show()"
      ],
      "execution_count": null,
      "outputs": [
        {
          "output_type": "display_data",
          "data": {
            "text/plain": [
              "<Figure size 432x288 with 1 Axes>"
            ],
            "image/png": "[encoded data removed]"
          },
          "metadata": {
            "needs_background": "light"
          }
        }
      ]
    },
    {
      "cell_type": "code",
      "metadata": {
        "id": "1uUuG0VypVmS",
        "colab": {
          "base_uri": "https://localhost:8080/",
          "height": 265
        },
        "outputId": "32e08e33-a98d-4f76-8928-91ebd0662010"
      },
      "source": [
        "# Vertical\n",
        "x = np.array([\"A\",\"B\",\"C\",\"D\",\"E\",\"F\"])\n",
        "y = np.array([100,15,32,49,69,101])\n",
        "plt.bar(x,y)\n",
        "plt.show()"
      ],
      "execution_count": null,
      "outputs": [
        {
          "output_type": "display_data",
          "data": {
            "text/plain": [
              "<Figure size 432x288 with 1 Axes>"
            ],
            "image/png": "[encoded data removed]"
          },
          "metadata": {
            "needs_background": "light"
          }
        }
      ]
    },
    {
      "cell_type": "code",
      "metadata": {
        "id": "uwrLeebOpYeJ",
        "colab": {
          "base_uri": "https://localhost:8080/",
          "height": 265
        },
        "outputId": "6051ed15-d53c-49f3-d2cc-40a8ce155fdd"
      },
      "source": [
        "# Horizontial\n",
        "x = np.array([\"A\",\"B\",\"C\",\"D\",\"E\",\"F\"])\n",
        "y = np.array([100,15,32,49,69,101])\n",
        "plt.barh(x,y)\n",
        "plt.show()"
      ],
      "execution_count": null,
      "outputs": [
        {
          "output_type": "display_data",
          "data": {
            "text/plain": [
              "<Figure size 432x288 with 1 Axes>"
            ],
            "image/png": "[encoded data removed]"
          },
          "metadata": {
            "needs_background": "light"
          }
        }
      ]
    },
    {
      "cell_type": "code",
      "metadata": {
        "id": "--M-UYCopbBo",
        "colab": {
          "base_uri": "https://localhost:8080/",
          "height": 268
        },
        "outputId": "ba393c31-072d-4256-d1ed-a0772c5ba7a1"
      },
      "source": [
        "# Normal (Gaussian) Distribution\n",
        "y = np.random.normal(0, 0.1, 1000)\n",
        "plt.hist(y)\n",
        "plt.show()"
      ],
      "execution_count": null,
      "outputs": [
        {
          "output_type": "display_data",
          "data": {
            "text/plain": [
              "<Figure size 432x288 with 1 Axes>"
            ],
            "image/png": "[encoded data removed]"
          },
          "metadata": {
            "needs_background": "light"
          }
        }
      ]
    },
    {
      "cell_type": "code",
      "metadata": {
        "colab": {
          "base_uri": "https://localhost:8080/",
          "height": 265
        },
        "id": "-eT1jpNrpeWY",
        "outputId": "5d6598c4-8ea7-46d2-f7ab-3a1626910a7f"
      },
      "source": [
        "# Scatter Plot\n",
        "x = np.array([5,7,8,7,2,17,2,9,4,11,12,9,6])\n",
        "y = np.array([99,86,87,88,111,86,103,87,94,78,77,85,86])\n",
        "plt.scatter(x,y)\n",
        "plt.show()"
      ],
      "execution_count": null,
      "outputs": [
        {
          "output_type": "display_data",
          "data": {
            "image/png": "[encoded data removed]",
            "text/plain": [
              "<Figure size 432x288 with 1 Axes>"
            ]
          },
          "metadata": {
            "tags": [],
            "needs_background": "light"
          }
        }
      ]
    },
    {
      "cell_type": "markdown",
      "metadata": {
        "id": "gJLNxYdsEv_y"
      },
      "source": [
        "# **Exercise**"
      ]
    },
    {
      "cell_type": "markdown",
      "metadata": {
        "id": "k7HnHa6ALZDl"
      },
      "source": [
        "1.Write a Python function to find the Max of three numbers (3,6,-5)."
      ]
    },
    {
      "cell_type": "code",
      "metadata": {
        "id": "UAIXBFo2E784",
        "colab": {
          "base_uri": "https://localhost:8080/"
        },
        "outputId": "e3ed3768-4b67-42ef-e5c4-39abb0dd8468"
      },
      "source": [
        "max (3,6,-5)\n"
      ],
      "execution_count": null,
      "outputs": [
        {
          "output_type": "execute_result",
          "data": {
            "text/plain": [
              "6"
            ]
          },
          "metadata": {},
          "execution_count": 16
        }
      ]
    },
    {
      "cell_type": "markdown",
      "metadata": {
        "id": "8QfXdnUKGl88"
      },
      "source": [
        "2.Write a Python function to sum all the numbers in a list.\n",
        "\n",
        "\n",
        "> Sample List : (8, 2, 3, 0, 7)\n",
        "\n",
        "\n",
        "> Expected Output : 20"
      ]
    },
    {
      "cell_type": "code",
      "metadata": {
        "id": "NvHN06DXH8jr",
        "colab": {
          "base_uri": "https://localhost:8080/"
        },
        "outputId": "507af042-e652-435b-905e-0b5de3840283"
      },
      "source": [
        "print (8 + 2 + 3 + 0 + 7 )"
      ],
      "execution_count": null,
      "outputs": [
        {
          "output_type": "stream",
          "name": "stdout",
          "text": [
            "20\n"
          ]
        }
      ]
    },
    {
      "cell_type": "markdown",
      "metadata": {
        "id": "T2KJy0GrI76g"
      },
      "source": [
        "3.Write a Python function to check whether a number is in a given range (3,9)."
      ]
    },
    {
      "cell_type": "code",
      "metadata": {
        "id": "9fwRQ3RYI_W_",
        "colab": {
          "base_uri": "https://localhost:8080/"
        },
        "outputId": "05feb309-460f-4b3b-edc7-4a011af46a43"
      },
      "source": [
        "def test_range(n):\n",
        "  if n in range (3,9):\n",
        "    print (\"%s is in the range\" %str(n))\n",
        "  else :\n",
        "    print (\"It is outside of the given range.\")\n",
        "\n",
        "test_range(5)\n",
        "\n",
        "def test(n):\n",
        "  if n in range (3,9):\n",
        "    print(str(n)+ \"is in the range\")\n",
        "  else:\n",
        "    print('It is outside of the range')\n",
        "\n",
        "test(8)\n",
        "test(2)"
      ],
      "execution_count": null,
      "outputs": [
        {
          "output_type": "stream",
          "name": "stdout",
          "text": [
            "5 is in the range\n",
            "8is in the range\n",
            "It is outside of the range\n"
          ]
        }
      ]
    },
    {
      "cell_type": "markdown",
      "metadata": {
        "id": "ELY_Z7JTJ-xP"
      },
      "source": [
        "4.Write a Python function to print the even numbers from a given list [1, 2, 3, 4, 5, 6, 7, 8, 9]."
      ]
    },
    {
      "cell_type": "code",
      "metadata": {
        "id": "pQhmsUKYKGR5",
        "colab": {
          "base_uri": "https://localhost:8080/"
        },
        "outputId": "d7fab31a-4d58-4046-9412-b404a7fae878"
      },
      "source": [
        "nums = [1,2,3,4,5,6,7,8,9]\n",
        "even_number = [x for x in nums if x % 2 == 0]\n",
        "print (even_number)"
      ],
      "execution_count": null,
      "outputs": [
        {
          "output_type": "stream",
          "name": "stdout",
          "text": [
            "[2, 4, 6, 8]\n"
          ]
        }
      ]
    },
    {
      "cell_type": "markdown",
      "metadata": {
        "id": "DNpItx80K3rj"
      },
      "source": [
        "5.Write a Python function that takes a number as a parameter and check the number is prime or not.\n",
        "\n",
        "\n",
        "> Note : A prime number (or a prime) is a natural number greater than 1 and that has no positive divisors other than 1 and itself.\n",
        "\n",
        "\n"
      ]
    },
    {
      "cell_type": "code",
      "metadata": {
        "id": "3amyHg4YK-b2"
      },
      "source": [
        "def test_prime(n):\n",
        "  if n==1:\n",
        "    return False\n",
        "  elif n / 1 == n:\n",
        "    return True\n",
        "  else:\n",
        "    return False\n",
        "\n",
        "\n",
        "  test_prime (37)"
      ],
      "execution_count": null,
      "outputs": []
    }
  ]
}