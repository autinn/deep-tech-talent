{
  "nbformat": 4,
  "nbformat_minor": 0,
  "metadata": {
    "colab": {
      "provenance": [],
      "include_colab_link": true
    },
    "kernelspec": {
      "name": "python3",
      "display_name": "Python 3"
    },
    "accelerator": "TPU"
  },
  "cells": [
    {
      "cell_type": "markdown",
      "metadata": {
        "id": "view-in-github",
        "colab_type": "text"
      },
      "source": [
        "<a href=\"https://colab.research.google.com/github/autinn/deep-tech-talent/blob/main/Lab07_H_Stock_Price_Prediction_for_HKSE_Student_Version.ipynb\" target=\"_parent\"><img src=\"https://colab.research.google.com/assets/colab-badge.svg\" alt=\"Open In Colab\"/></a>"
      ]
    },
    {
      "cell_type": "markdown",
      "metadata": {
        "id": "3OEpRnYXUQsa"
      },
      "source": [
        "# **Lab07: Project - Predict an equity price trend using LSTM**\n",
        "To predict the price of a stock in Hong Kong based on the current Close Price.\n",
        "Using the Long Short Term Memory (LSTM) to predict the closing price of a company HSBC based on the past 60 days of stock price."
      ]
    },
    {
      "cell_type": "code",
      "source": [
        "!pip install yfinance"
      ],
      "metadata": {
        "id": "GlrYNDgjvpj_"
      },
      "execution_count": null,
      "outputs": []
    },
    {
      "cell_type": "code",
      "metadata": {
        "id": "NgjfyF6ZUGEI"
      },
      "source": [
        "# Import the libraries required for the tasks\n",
        "import math\n",
        "from pandas_datareader import data as pdr\n",
        "import yfinance as yfin\n",
        "import numpy as np\n",
        "import pandas as pd\n",
        "from sklearn.preprocessing import MinMaxScaler\n",
        "from keras.models import Sequential\n",
        "from keras.layers import Dense,LSTM\n",
        "import matplotlib.pyplot as plt\n",
        "plt.style.use('fivethirtyeight')\n",
        "yfin.pdr_override()"
      ],
      "execution_count": null,
      "outputs": []
    },
    {
      "cell_type": "code",
      "metadata": {
        "id": "E190C4OpWhER",
        "colab": {
          "base_uri": "https://localhost:8080/",
          "height": 472
        },
        "outputId": "92d2fe3c-bc4c-413d-f550-f945840f6a02"
      },
      "source": [
        "# Get the stock quote for HSBC from Yahoo Fiance (provided by pandas_datareader)using the stock ticker 0005.HK from Jan 1 2001 to Dec 7, 2020.\n",
        "df = pdr.get_data_yahoo(\"0005.HK\", start=\"2001-01-01\", end=\"2020-12-07\")\n",
        "# display the data\n",
        "df"
      ],
      "execution_count": null,
      "outputs": [
        {
          "output_type": "stream",
          "name": "stdout",
          "text": [
            "\r[*********************100%***********************]  1 of 1 completed\n"
          ]
        },
        {
          "output_type": "execute_result",
          "data": {
            "text/html": [
              "\n",
              "  <div id=\"df-e1c4e4e7-14a3-419a-add3-44be647e8ecc\">\n",
              "    <div class=\"colab-df-container\">\n",
              "      <div>\n",
              "<style scoped>\n",
              "    .dataframe tbody tr th:only-of-type {\n",
              "        vertical-align: middle;\n",
              "    }\n",
              "\n",
              "    .dataframe tbody tr th {\n",
              "        vertical-align: top;\n",
              "    }\n",
              "\n",
              "    .dataframe thead th {\n",
              "        text-align: right;\n",
              "    }\n",
              "</style>\n",
              "<table border=\"1\" class=\"dataframe\">\n",
              "  <thead>\n",
              "    <tr style=\"text-align: right;\">\n",
              "      <th></th>\n",
              "      <th>Open</th>\n",
              "      <th>High</th>\n",
              "      <th>Low</th>\n",
              "      <th>Close</th>\n",
              "      <th>Adj Close</th>\n",
              "      <th>Volume</th>\n",
              "    </tr>\n",
              "    <tr>\n",
              "      <th>Date</th>\n",
              "      <th></th>\n",
              "      <th></th>\n",
              "      <th></th>\n",
              "      <th></th>\n",
              "      <th></th>\n",
              "      <th></th>\n",
              "    </tr>\n",
              "  </thead>\n",
              "  <tbody>\n",
              "    <tr>\n",
              "      <th>2001-01-01</th>\n",
              "      <td>114.000000</td>\n",
              "      <td>116.000000</td>\n",
              "      <td>113.500000</td>\n",
              "      <td>116.000000</td>\n",
              "      <td>60.686638</td>\n",
              "      <td>0</td>\n",
              "    </tr>\n",
              "    <tr>\n",
              "      <th>2001-01-02</th>\n",
              "      <td>115.000000</td>\n",
              "      <td>115.000000</td>\n",
              "      <td>112.500000</td>\n",
              "      <td>113.500000</td>\n",
              "      <td>59.378723</td>\n",
              "      <td>3085154</td>\n",
              "    </tr>\n",
              "    <tr>\n",
              "      <th>2001-01-03</th>\n",
              "      <td>112.000000</td>\n",
              "      <td>112.000000</td>\n",
              "      <td>110.500000</td>\n",
              "      <td>112.000000</td>\n",
              "      <td>58.593987</td>\n",
              "      <td>3461595</td>\n",
              "    </tr>\n",
              "    <tr>\n",
              "      <th>2001-01-04</th>\n",
              "      <td>116.500000</td>\n",
              "      <td>117.000000</td>\n",
              "      <td>115.500000</td>\n",
              "      <td>116.500000</td>\n",
              "      <td>60.948196</td>\n",
              "      <td>10423511</td>\n",
              "    </tr>\n",
              "    <tr>\n",
              "      <th>2001-01-05</th>\n",
              "      <td>120.000000</td>\n",
              "      <td>120.000000</td>\n",
              "      <td>118.000000</td>\n",
              "      <td>118.500000</td>\n",
              "      <td>61.994518</td>\n",
              "      <td>15673431</td>\n",
              "    </tr>\n",
              "    <tr>\n",
              "      <th>...</th>\n",
              "      <td>...</td>\n",
              "      <td>...</td>\n",
              "      <td>...</td>\n",
              "      <td>...</td>\n",
              "      <td>...</td>\n",
              "      <td>...</td>\n",
              "    </tr>\n",
              "    <tr>\n",
              "      <th>2020-11-30</th>\n",
              "      <td>42.000000</td>\n",
              "      <td>42.049999</td>\n",
              "      <td>41.299999</td>\n",
              "      <td>41.500000</td>\n",
              "      <td>39.978687</td>\n",
              "      <td>35056130</td>\n",
              "    </tr>\n",
              "    <tr>\n",
              "      <th>2020-12-01</th>\n",
              "      <td>40.700001</td>\n",
              "      <td>41.549999</td>\n",
              "      <td>40.500000</td>\n",
              "      <td>41.000000</td>\n",
              "      <td>39.497017</td>\n",
              "      <td>48696915</td>\n",
              "    </tr>\n",
              "    <tr>\n",
              "      <th>2020-12-02</th>\n",
              "      <td>41.950001</td>\n",
              "      <td>43.000000</td>\n",
              "      <td>41.950001</td>\n",
              "      <td>42.500000</td>\n",
              "      <td>40.942032</td>\n",
              "      <td>57225027</td>\n",
              "    </tr>\n",
              "    <tr>\n",
              "      <th>2020-12-03</th>\n",
              "      <td>43.049999</td>\n",
              "      <td>43.799999</td>\n",
              "      <td>42.849998</td>\n",
              "      <td>43.400002</td>\n",
              "      <td>41.809040</td>\n",
              "      <td>43365022</td>\n",
              "    </tr>\n",
              "    <tr>\n",
              "      <th>2020-12-04</th>\n",
              "      <td>43.900002</td>\n",
              "      <td>44.000000</td>\n",
              "      <td>42.799999</td>\n",
              "      <td>43.750000</td>\n",
              "      <td>42.146206</td>\n",
              "      <td>78097207</td>\n",
              "    </tr>\n",
              "  </tbody>\n",
              "</table>\n",
              "<p>4977 rows × 6 columns</p>\n",
              "</div>\n",
              "      <button class=\"colab-df-convert\" onclick=\"convertToInteractive('df-e1c4e4e7-14a3-419a-add3-44be647e8ecc')\"\n",
              "              title=\"Convert this dataframe to an interactive table.\"\n",
              "              style=\"display:none;\">\n",
              "        \n",
              "  <svg xmlns=\"http://www.w3.org/2000/svg\" height=\"24px\"viewBox=\"0 0 24 24\"\n",
              "       width=\"24px\">\n",
              "    <path d=\"M0 0h24v24H0V0z\" fill=\"none\"/>\n",
              "    <path d=\"M18.56 5.44l.94 2.06.94-2.06 2.06-.94-2.06-.94-.94-2.06-.94 2.06-2.06.94zm-11 1L8.5 8.5l.94-2.06 2.06-.94-2.06-.94L8.5 2.5l-.94 2.06-2.06.94zm10 10l.94 2.06.94-2.06 2.06-.94-2.06-.94-.94-2.06-.94 2.06-2.06.94z\"/><path d=\"M17.41 7.96l-1.37-1.37c-.4-.4-.92-.59-1.43-.59-.52 0-1.04.2-1.43.59L10.3 9.45l-7.72 7.72c-.78.78-.78 2.05 0 2.83L4 21.41c.39.39.9.59 1.41.59.51 0 1.02-.2 1.41-.59l7.78-7.78 2.81-2.81c.8-.78.8-2.07 0-2.86zM5.41 20L4 18.59l7.72-7.72 1.47 1.35L5.41 20z\"/>\n",
              "  </svg>\n",
              "      </button>\n",
              "      \n",
              "  <style>\n",
              "    .colab-df-container {\n",
              "      display:flex;\n",
              "      flex-wrap:wrap;\n",
              "      gap: 12px;\n",
              "    }\n",
              "\n",
              "    .colab-df-convert {\n",
              "      background-color: #E8F0FE;\n",
              "      border: none;\n",
              "      border-radius: 50%;\n",
              "      cursor: pointer;\n",
              "      display: none;\n",
              "      fill: #1967D2;\n",
              "      height: 32px;\n",
              "      padding: 0 0 0 0;\n",
              "      width: 32px;\n",
              "    }\n",
              "\n",
              "    .colab-df-convert:hover {\n",
              "      background-color: #E2EBFA;\n",
              "      box-shadow: 0px 1px 2px rgba(60, 64, 67, 0.3), 0px 1px 3px 1px rgba(60, 64, 67, 0.15);\n",
              "      fill: #174EA6;\n",
              "    }\n",
              "\n",
              "    [theme=dark] .colab-df-convert {\n",
              "      background-color: #3B4455;\n",
              "      fill: #D2E3FC;\n",
              "    }\n",
              "\n",
              "    [theme=dark] .colab-df-convert:hover {\n",
              "      background-color: #434B5C;\n",
              "      box-shadow: 0px 1px 3px 1px rgba(0, 0, 0, 0.15);\n",
              "      filter: drop-shadow(0px 1px 2px rgba(0, 0, 0, 0.3));\n",
              "      fill: #FFFFFF;\n",
              "    }\n",
              "  </style>\n",
              "\n",
              "      <script>\n",
              "        const buttonEl =\n",
              "          document.querySelector('#df-e1c4e4e7-14a3-419a-add3-44be647e8ecc button.colab-df-convert');\n",
              "        buttonEl.style.display =\n",
              "          google.colab.kernel.accessAllowed ? 'block' : 'none';\n",
              "\n",
              "        async function convertToInteractive(key) {\n",
              "          const element = document.querySelector('#df-e1c4e4e7-14a3-419a-add3-44be647e8ecc');\n",
              "          const dataTable =\n",
              "            await google.colab.kernel.invokeFunction('convertToInteractive',\n",
              "                                                     [key], {});\n",
              "          if (!dataTable) return;\n",
              "\n",
              "          const docLinkHtml = 'Like what you see? Visit the ' +\n",
              "            '<a target=\"_blank\" href=https://colab.research.google.com/notebooks/data_table.ipynb>data table notebook</a>'\n",
              "            + ' to learn more about interactive tables.';\n",
              "          element.innerHTML = '';\n",
              "          dataTable['output_type'] = 'display_data';\n",
              "          await google.colab.output.renderOutput(dataTable, element);\n",
              "          const docLink = document.createElement('div');\n",
              "          docLink.innerHTML = docLinkHtml;\n",
              "          element.appendChild(docLink);\n",
              "        }\n",
              "      </script>\n",
              "    </div>\n",
              "  </div>\n",
              "  "
            ],
            "text/plain": [
              "                  Open        High         Low       Close  Adj Close    Volume\n",
              "Date                                                                           \n",
              "2001-01-01  114.000000  116.000000  113.500000  116.000000  60.686638         0\n",
              "2001-01-02  115.000000  115.000000  112.500000  113.500000  59.378723   3085154\n",
              "2001-01-03  112.000000  112.000000  110.500000  112.000000  58.593987   3461595\n",
              "2001-01-04  116.500000  117.000000  115.500000  116.500000  60.948196  10423511\n",
              "2001-01-05  120.000000  120.000000  118.000000  118.500000  61.994518  15673431\n",
              "...                ...         ...         ...         ...        ...       ...\n",
              "2020-11-30   42.000000   42.049999   41.299999   41.500000  39.978687  35056130\n",
              "2020-12-01   40.700001   41.549999   40.500000   41.000000  39.497017  48696915\n",
              "2020-12-02   41.950001   43.000000   41.950001   42.500000  40.942032  57225027\n",
              "2020-12-03   43.049999   43.799999   42.849998   43.400002  41.809040  43365022\n",
              "2020-12-04   43.900002   44.000000   42.799999   43.750000  42.146206  78097207\n",
              "\n",
              "[4977 rows x 6 columns]"
            ]
          },
          "metadata": {},
          "execution_count": 26
        }
      ]
    },
    {
      "cell_type": "code",
      "metadata": {
        "id": "U1RrgjiRYLfD",
        "colab": {
          "base_uri": "https://localhost:8080/"
        },
        "outputId": "af73b1c6-3d1f-43b7-ffa6-37f641cb360e"
      },
      "source": [
        "# display the shape of the dataset\n",
        "df.shape"
      ],
      "execution_count": null,
      "outputs": [
        {
          "output_type": "execute_result",
          "data": {
            "text/plain": [
              "(4977, 6)"
            ]
          },
          "metadata": {},
          "execution_count": 27
        }
      ]
    },
    {
      "cell_type": "code",
      "metadata": {
        "id": "PcgGLX9GYSap",
        "colab": {
          "base_uri": "https://localhost:8080/",
          "height": 558
        },
        "outputId": "a15f0068-cba5-4b2b-b047-f70f44a7c5d2"
      },
      "source": [
        "# Visualise the record in the dataset in the form a graph (for closing price history for HSBC Plc.)\n",
        "plt.figure(figsize=(16,8)) # Figure Size (Width , Height)\n",
        "plt.title('Close Price History (HSBC)')\n",
        "plt.plot(df['Close'])\n",
        "plt.xlabel('Date',fontsize=18)\n",
        "plt.ylabel('Close Price (HK$)',fontsize=18)\n",
        "plt.show()\n"
      ],
      "execution_count": null,
      "outputs": [
        {
          "output_type": "display_data",
          "data": {
            "image/png": "[encoded data removed]",
            "text/plain": [
              "<Figure size 1152x576 with 1 Axes>"
            ]
          },
          "metadata": {}
        }
      ]
    },
    {
      "cell_type": "markdown",
      "metadata": {
        "id": "3XQDEyscavSy"
      },
      "source": [
        "## **Data Preprocessing**"
      ]
    },
    {
      "cell_type": "code",
      "metadata": {
        "id": "UF4JK736ZukM"
      },
      "source": [
        "# Create a new dataframe with only \"Close Price\" column\n",
        "data=df.filter(['Close']) # You can extract more by adding more column names: data=df.filter(['Close','Open','Low'])\n",
        "\n",
        "# Converting the dataframe to a numpy array\n",
        "dataset=data.values\n",
        "\n",
        "# Decide the training dataset ratio to train the model (dataset splitting) 90% for training\n",
        "training_data_len=math.ceil(len(dataset)*.9)\n"
      ],
      "execution_count": null,
      "outputs": []
    },
    {
      "cell_type": "code",
      "metadata": {
        "id": "8CenQdFMa7Vj"
      },
      "source": [
        "# Data Normalising\n",
        "# Scale all the data to be values between 0 and 1 (* Neural Network models are better at dealing with floating point numbers between 0 and 1)\n",
        "scaler=MinMaxScaler(feature_range=(0,1))\n",
        "scaled_data=scaler.fit_transform(dataset)"
      ],
      "execution_count": null,
      "outputs": []
    },
    {
      "cell_type": "code",
      "metadata": {
        "id": "tLFttSY9bjJO"
      },
      "source": [
        "# Create the scaled training dataset\n",
        "train_data=scaled_data[0:training_data_len,:]  # 0:training_data_len  --> It means to get the row form 0 to 4708 | , | : --> it means get all column for each row\n",
        "                        #Ref: more about indexing: https://blog.csdn.net/Together_CZ/article/details/79593952\n",
        "\n",
        "# Split the data into input and output dataset (x_train - input, y_train - output)\n",
        "x_train=[]  # list object\n",
        "y_train=[]  # list object\n",
        "for i in range(60,len(train_data)):  # 60 to 4708 . 60 means 60 days\n",
        "  x_train.append(train_data[i-60:i,0])\n",
        "  y_train.append(train_data[i,0])\n",
        "\n",
        "#** Use the past 60 as data, one day after as Label **\n",
        "#Data         Label\n",
        "#x_train       y_train\n",
        "#[0:60,0]  -->   [60:0]\n",
        "#[1:61,0]  -->   [61:0]\n",
        "#[2:62,0]  -->   [62:0]\n",
        "#[3:63,0]  -->   [63:0]\n",
        "#[4:64,0]  -->   [64:0]\n",
        "#      ...\n",
        "#[4648:4708,0]  -->   [4708:0]"
      ],
      "execution_count": null,
      "outputs": []
    },
    {
      "cell_type": "code",
      "metadata": {
        "id": "e6p96ucodDHN"
      },
      "source": [
        "# Convert x_train and y_train from list to numpy arrays\n",
        "x_train,y_train = np.array(x_train),np.array(y_train)"
      ],
      "execution_count": null,
      "outputs": []
    },
    {
      "cell_type": "code",
      "metadata": {
        "id": "djydxVxTdWx_",
        "colab": {
          "base_uri": "https://localhost:8080/"
        },
        "outputId": "f029e4d7-13d0-4055-9169-98a1b6adf934"
      },
      "source": [
        "# Reshape the data to be 3-dimensional form (no of samples, no of time steps, no of features) into the shape accepted by LSTM\n",
        "x_train = np.reshape(x_train,(x_train.shape[0],x_train.shape[1],1)) # Reshape from (4649,60) to (4649, 60, 1)\n",
        "x_train.shape"
      ],
      "execution_count": null,
      "outputs": [
        {
          "output_type": "execute_result",
          "data": {
            "text/plain": [
              "(4420, 60, 1)"
            ]
          },
          "metadata": {},
          "execution_count": 33
        }
      ]
    },
    {
      "cell_type": "markdown",
      "metadata": {
        "id": "IXJyNR6oemL6"
      },
      "source": [
        "# Building the Model\n",
        "Build LSTM model to have two LSTM layers with 50 neurons and two Dense layers, one with 25 neurons and the other with 1 neuron."
      ]
    },
    {
      "cell_type": "code",
      "metadata": {
        "id": "AmnzfyltfCLn",
        "colab": {
          "base_uri": "https://localhost:8080/"
        },
        "outputId": "25862e4e-d6dc-4868-c954-9b93e4fedd21"
      },
      "source": [
        "# Build LSTM model\n",
        "model=Sequential()\n",
        "model.add(LSTM(units=50,return_sequences=True,input_shape=(x_train.shape[1],1)))\n",
        "model.add(LSTM(units=50,return_sequences=False))\n",
        "model.add(Dense(units=25))\n",
        "model.add(Dense(units=1))\n",
        "model.summary()\n"
      ],
      "execution_count": null,
      "outputs": [
        {
          "output_type": "stream",
          "name": "stdout",
          "text": [
            "Model: \"sequential_1\"\n",
            "_________________________________________________________________\n",
            " Layer (type)                Output Shape              Param #   \n",
            "=================================================================\n",
            " lstm_2 (LSTM)               (None, 60, 50)            10400     \n",
            "                                                                 \n",
            " lstm_3 (LSTM)               (None, 50)                20200     \n",
            "                                                                 \n",
            " dense_2 (Dense)             (None, 25)                1275      \n",
            "                                                                 \n",
            " dense_3 (Dense)             (None, 1)                 26        \n",
            "                                                                 \n",
            "=================================================================\n",
            "Total params: 31,901\n",
            "Trainable params: 31,901\n",
            "Non-trainable params: 0\n",
            "_________________________________________________________________\n"
          ]
        }
      ]
    },
    {
      "cell_type": "code",
      "metadata": {
        "id": "JOooMap3fx5C"
      },
      "source": [
        "# Compile the LSTM Model\n",
        "model.compile(optimizer='adam',loss='mean_squared_error')\n"
      ],
      "execution_count": null,
      "outputs": []
    },
    {
      "cell_type": "code",
      "metadata": {
        "id": "K4PpY8uFgGBp",
        "colab": {
          "base_uri": "https://localhost:8080/"
        },
        "outputId": "2dfeedcf-e153-48f0-b741-181969fada3c"
      },
      "source": [
        "# Train the LSTM Model\n",
        "model.fit(x_train,y_train,batch_size=5,epochs=10)\n"
      ],
      "execution_count": null,
      "outputs": [
        {
          "output_type": "stream",
          "name": "stdout",
          "text": [
            "Epoch 1/10\n",
            "884/884 [==============================] - 35s 35ms/step - loss: 0.0018\n",
            "Epoch 2/10\n",
            "884/884 [==============================] - 31s 36ms/step - loss: 4.3920e-04\n",
            "Epoch 3/10\n",
            "884/884 [==============================] - 33s 37ms/step - loss: 3.3925e-04\n",
            "Epoch 4/10\n",
            "884/884 [==============================] - 32s 36ms/step - loss: 2.7133e-04\n",
            "Epoch 5/10\n",
            "884/884 [==============================] - 31s 35ms/step - loss: 2.4802e-04\n",
            "Epoch 6/10\n",
            "884/884 [==============================] - 31s 35ms/step - loss: 2.1396e-04\n",
            "Epoch 7/10\n",
            "884/884 [==============================] - 32s 36ms/step - loss: 1.7630e-04\n",
            "Epoch 8/10\n",
            "884/884 [==============================] - 32s 36ms/step - loss: 1.6668e-04\n",
            "Epoch 9/10\n",
            "884/884 [==============================] - 32s 36ms/step - loss: 1.6682e-04\n",
            "Epoch 10/10\n",
            "884/884 [==============================] - 33s 37ms/step - loss: 1.6061e-04\n"
          ]
        },
        {
          "output_type": "execute_result",
          "data": {
            "text/plain": [
              "<keras.callbacks.History at 0x7fa5a1f91750>"
            ]
          },
          "metadata": {},
          "execution_count": 36
        }
      ]
    },
    {
      "cell_type": "code",
      "metadata": {
        "id": "ZXuX8LLshovI"
      },
      "source": [
        "# Create test dataset\n",
        "test_data=scaled_data[training_data_len-60:,:] # Get the remaining 10% data as testing data\n",
        "# Create test dataset for x_test and y_test\n",
        "x_test=[]\n",
        "y_test=dataset[training_data_len:,:]\n",
        "for i in range(60,len(test_data)):\n",
        "  x_test.append(test_data[i-60:i,0])\n",
        "\n",
        "# Convert the x_test set to a numpy array for use in LSTM model testing\n",
        "x_test=np.array(x_test)\n",
        "# Reshape the data into shape accepted by LSTM model\n",
        "x_test=np.reshape(x_test,(x_test.shape[0],x_test.shape[1],1))"
      ],
      "execution_count": null,
      "outputs": []
    },
    {
      "cell_type": "markdown",
      "metadata": {
        "id": "4MCCYDpkjZS7"
      },
      "source": [
        "# Model Testing"
      ]
    },
    {
      "cell_type": "code",
      "metadata": {
        "id": "HrW9bi_gjcUH",
        "colab": {
          "base_uri": "https://localhost:8080/"
        },
        "outputId": "4f28931a-f513-4fb9-d74f-83a6ee24d886"
      },
      "source": [
        "# Getting the models predicted price values\n",
        "predictions=model.predict(x_test)\n",
        "predictions=scaler.inverse_transform(predictions) # undo the scaling (normalising)\n",
        "# Measure the model assessment  for accuracy\n",
        "# Value of 0 means the model predicting value matching the actual value from the  test dataset perfectly; the lower the value the better the model performed.\n",
        "# there are many metrics to value the performance of the model. Root Mean Square Error (RMSE) is used here.\n",
        "# Calculate the value of RMSE as follows:\n",
        "rmse=np.sqrt(np.mean(((predictions-y_test)**2)))\n",
        "rmse\n",
        "print(\"RMSE value :\",rmse)"
      ],
      "execution_count": null,
      "outputs": [
        {
          "output_type": "stream",
          "name": "stdout",
          "text": [
            "RMSE value : 1.0434155443496438\n"
          ]
        }
      ]
    },
    {
      "cell_type": "markdown",
      "metadata": {
        "id": "93uq-sBimPhz"
      },
      "source": [
        "# Data Testing\n",
        "Model validation completed with acceptable prediction accuracy, data testing is launching now."
      ]
    },
    {
      "cell_type": "code",
      "metadata": {
        "id": "bv3BBi0QmchT",
        "colab": {
          "base_uri": "https://localhost:8080/",
          "height": 662
        },
        "outputId": "b0441385-5e5d-4183-f5ea-e20bddc5515d"
      },
      "source": [
        "# Create and plot the data for a graph\n",
        "train=data[:training_data_len]\n",
        "valid=data[training_data_len:]\n",
        "valid['Predictions']=predictions\n",
        "\n",
        "# Visualise the data\n",
        "plt.figure(figsize=(16,8))\n",
        "plt.title('Stock Price Prediction : HSBC Plc')\n",
        "plt.xlabel('Date',fontsize=18)\n",
        "plt.ylabel('Close Price (HK$)',fontsize=18)\n",
        "plt.plot(train['Close'])\n",
        "plt.plot(valid[['Close','Predictions']])\n",
        "plt.legend(['Train','Val','Predictions'],loc='lower right')\n",
        "plt.show()"
      ],
      "execution_count": null,
      "outputs": [
        {
          "output_type": "stream",
          "name": "stderr",
          "text": [
            "/usr/local/lib/python3.7/dist-packages/ipykernel_launcher.py:4: SettingWithCopyWarning: \n",
            "A value is trying to be set on a copy of a slice from a DataFrame.\n",
            "Try using .loc[row_indexer,col_indexer] = value instead\n",
            "\n",
            "See the caveats in the documentation: https://pandas.pydata.org/pandas-docs/stable/user_guide/indexing.html#returning-a-view-versus-a-copy\n",
            "  after removing the cwd from sys.path.\n"
          ]
        },
        {
          "output_type": "display_data",
          "data": {
            "image/png": "[encoded data removed]",
            "text/plain": [
              "<Figure size 1152x576 with 1 Axes>"
            ]
          },
          "metadata": {}
        }
      ]
    },
    {
      "cell_type": "code",
      "metadata": {
        "id": "UCmKLEwNoWyf",
        "colab": {
          "base_uri": "https://localhost:8080/",
          "height": 455
        },
        "outputId": "050fab6e-3646-42af-86a3-bc8c3547b064"
      },
      "source": [
        "# Display the actual (valid) and predicted prices\n",
        "valid"
      ],
      "execution_count": null,
      "outputs": [
        {
          "output_type": "execute_result",
          "data": {
            "text/html": [
              "\n",
              "  <div id=\"df-d122f719-d15b-4ad1-984b-376a134e033a\">\n",
              "    <div class=\"colab-df-container\">\n",
              "      <div>\n",
              "<style scoped>\n",
              "    .dataframe tbody tr th:only-of-type {\n",
              "        vertical-align: middle;\n",
              "    }\n",
              "\n",
              "    .dataframe tbody tr th {\n",
              "        vertical-align: top;\n",
              "    }\n",
              "\n",
              "    .dataframe thead th {\n",
              "        text-align: right;\n",
              "    }\n",
              "</style>\n",
              "<table border=\"1\" class=\"dataframe\">\n",
              "  <thead>\n",
              "    <tr style=\"text-align: right;\">\n",
              "      <th></th>\n",
              "      <th>Close</th>\n",
              "      <th>Predictions</th>\n",
              "    </tr>\n",
              "    <tr>\n",
              "      <th>Date</th>\n",
              "      <th></th>\n",
              "      <th></th>\n",
              "    </tr>\n",
              "  </thead>\n",
              "  <tbody>\n",
              "    <tr>\n",
              "      <th>2018-11-29</th>\n",
              "      <td>66.650002</td>\n",
              "      <td>66.619720</td>\n",
              "    </tr>\n",
              "    <tr>\n",
              "      <th>2018-11-30</th>\n",
              "      <td>66.900002</td>\n",
              "      <td>65.901436</td>\n",
              "    </tr>\n",
              "    <tr>\n",
              "      <th>2018-12-03</th>\n",
              "      <td>68.199997</td>\n",
              "      <td>65.986320</td>\n",
              "    </tr>\n",
              "    <tr>\n",
              "      <th>2018-12-04</th>\n",
              "      <td>68.099998</td>\n",
              "      <td>67.060524</td>\n",
              "    </tr>\n",
              "    <tr>\n",
              "      <th>2018-12-05</th>\n",
              "      <td>66.300003</td>\n",
              "      <td>67.157242</td>\n",
              "    </tr>\n",
              "    <tr>\n",
              "      <th>...</th>\n",
              "      <td>...</td>\n",
              "      <td>...</td>\n",
              "    </tr>\n",
              "    <tr>\n",
              "      <th>2020-11-30</th>\n",
              "      <td>41.500000</td>\n",
              "      <td>42.354568</td>\n",
              "    </tr>\n",
              "    <tr>\n",
              "      <th>2020-12-01</th>\n",
              "      <td>41.000000</td>\n",
              "      <td>42.015945</td>\n",
              "    </tr>\n",
              "    <tr>\n",
              "      <th>2020-12-02</th>\n",
              "      <td>42.500000</td>\n",
              "      <td>41.591312</td>\n",
              "    </tr>\n",
              "    <tr>\n",
              "      <th>2020-12-03</th>\n",
              "      <td>43.400002</td>\n",
              "      <td>42.500938</td>\n",
              "    </tr>\n",
              "    <tr>\n",
              "      <th>2020-12-04</th>\n",
              "      <td>43.750000</td>\n",
              "      <td>43.412018</td>\n",
              "    </tr>\n",
              "  </tbody>\n",
              "</table>\n",
              "<p>497 rows × 2 columns</p>\n",
              "</div>\n",
              "      <button class=\"colab-df-convert\" onclick=\"convertToInteractive('df-d122f719-d15b-4ad1-984b-376a134e033a')\"\n",
              "              title=\"Convert this dataframe to an interactive table.\"\n",
              "              style=\"display:none;\">\n",
              "        \n",
              "  <svg xmlns=\"http://www.w3.org/2000/svg\" height=\"24px\"viewBox=\"0 0 24 24\"\n",
              "       width=\"24px\">\n",
              "    <path d=\"M0 0h24v24H0V0z\" fill=\"none\"/>\n",
              "    <path d=\"M18.56 5.44l.94 2.06.94-2.06 2.06-.94-2.06-.94-.94-2.06-.94 2.06-2.06.94zm-11 1L8.5 8.5l.94-2.06 2.06-.94-2.06-.94L8.5 2.5l-.94 2.06-2.06.94zm10 10l.94 2.06.94-2.06 2.06-.94-2.06-.94-.94-2.06-.94 2.06-2.06.94z\"/><path d=\"M17.41 7.96l-1.37-1.37c-.4-.4-.92-.59-1.43-.59-.52 0-1.04.2-1.43.59L10.3 9.45l-7.72 7.72c-.78.78-.78 2.05 0 2.83L4 21.41c.39.39.9.59 1.41.59.51 0 1.02-.2 1.41-.59l7.78-7.78 2.81-2.81c.8-.78.8-2.07 0-2.86zM5.41 20L4 18.59l7.72-7.72 1.47 1.35L5.41 20z\"/>\n",
              "  </svg>\n",
              "      </button>\n",
              "      \n",
              "  <style>\n",
              "    .colab-df-container {\n",
              "      display:flex;\n",
              "      flex-wrap:wrap;\n",
              "      gap: 12px;\n",
              "    }\n",
              "\n",
              "    .colab-df-convert {\n",
              "      background-color: #E8F0FE;\n",
              "      border: none;\n",
              "      border-radius: 50%;\n",
              "      cursor: pointer;\n",
              "      display: none;\n",
              "      fill: #1967D2;\n",
              "      height: 32px;\n",
              "      padding: 0 0 0 0;\n",
              "      width: 32px;\n",
              "    }\n",
              "\n",
              "    .colab-df-convert:hover {\n",
              "      background-color: #E2EBFA;\n",
              "      box-shadow: 0px 1px 2px rgba(60, 64, 67, 0.3), 0px 1px 3px 1px rgba(60, 64, 67, 0.15);\n",
              "      fill: #174EA6;\n",
              "    }\n",
              "\n",
              "    [theme=dark] .colab-df-convert {\n",
              "      background-color: #3B4455;\n",
              "      fill: #D2E3FC;\n",
              "    }\n",
              "\n",
              "    [theme=dark] .colab-df-convert:hover {\n",
              "      background-color: #434B5C;\n",
              "      box-shadow: 0px 1px 3px 1px rgba(0, 0, 0, 0.15);\n",
              "      filter: drop-shadow(0px 1px 2px rgba(0, 0, 0, 0.3));\n",
              "      fill: #FFFFFF;\n",
              "    }\n",
              "  </style>\n",
              "\n",
              "      <script>\n",
              "        const buttonEl =\n",
              "          document.querySelector('#df-d122f719-d15b-4ad1-984b-376a134e033a button.colab-df-convert');\n",
              "        buttonEl.style.display =\n",
              "          google.colab.kernel.accessAllowed ? 'block' : 'none';\n",
              "\n",
              "        async function convertToInteractive(key) {\n",
              "          const element = document.querySelector('#df-d122f719-d15b-4ad1-984b-376a134e033a');\n",
              "          const dataTable =\n",
              "            await google.colab.kernel.invokeFunction('convertToInteractive',\n",
              "                                                     [key], {});\n",
              "          if (!dataTable) return;\n",
              "\n",
              "          const docLinkHtml = 'Like what you see? Visit the ' +\n",
              "            '<a target=\"_blank\" href=https://colab.research.google.com/notebooks/data_table.ipynb>data table notebook</a>'\n",
              "            + ' to learn more about interactive tables.';\n",
              "          element.innerHTML = '';\n",
              "          dataTable['output_type'] = 'display_data';\n",
              "          await google.colab.output.renderOutput(dataTable, element);\n",
              "          const docLink = document.createElement('div');\n",
              "          docLink.innerHTML = docLinkHtml;\n",
              "          element.appendChild(docLink);\n",
              "        }\n",
              "      </script>\n",
              "    </div>\n",
              "  </div>\n",
              "  "
            ],
            "text/plain": [
              "                Close  Predictions\n",
              "Date                              \n",
              "2018-11-29  66.650002    66.619720\n",
              "2018-11-30  66.900002    65.901436\n",
              "2018-12-03  68.199997    65.986320\n",
              "2018-12-04  68.099998    67.060524\n",
              "2018-12-05  66.300003    67.157242\n",
              "...               ...          ...\n",
              "2020-11-30  41.500000    42.354568\n",
              "2020-12-01  41.000000    42.015945\n",
              "2020-12-02  42.500000    41.591312\n",
              "2020-12-03  43.400002    42.500938\n",
              "2020-12-04  43.750000    43.412018\n",
              "\n",
              "[497 rows x 2 columns]"
            ]
          },
          "metadata": {},
          "execution_count": 40
        }
      ]
    },
    {
      "cell_type": "markdown",
      "metadata": {
        "id": "p9j3Jk4EA0hm"
      },
      "source": [
        "# **Other Example (Reference)**"
      ]
    },
    {
      "cell_type": "code",
      "metadata": {
        "id": "FqfCTBKBqOb0",
        "colab": {
          "base_uri": "https://localhost:8080/"
        },
        "outputId": "caa58608-89e5-42a9-ad1c-1d08c3902bbd"
      },
      "source": [
        "# Get the quote\n",
        "apple_quote=pdr.get_data_yahoo(\"0005.HK\", start='2020-07-01',end='2020-12-31')\n",
        "# Create a new dataframe\n",
        "new_df=apple_quote.filter(['Close'])\n",
        "# Get the last 60 days of closing price\n",
        "last_60_days=new_df[-60:].values\n",
        "# Scale the data to be values between 0 to 1\n",
        "last_60_days_scaled=scaler.transform(last_60_days)\n",
        "# Create an empty list\n",
        "x_test1=[]\n",
        "# Append the past 60 days\n",
        "x_test1.append(last_60_days_scaled)\n",
        "# Convert the x_test1 dataset to a numpy array\n",
        "x_test1=np.array(x_test1)\n",
        "# Reshape the data\n",
        "x_test1=np.reshape(x_test1,(x_test1.shape[0],x_test1.shape[1],1))\n",
        "# Get the predicted scaled price\n",
        "pred_price=model.predict(x_test1)\n",
        "# Undo the scaling /normalisation\n",
        "pred_price=scaler.inverse_transform(pred_price)\n",
        "print(pred_price)"
      ],
      "execution_count": null,
      "outputs": [
        {
          "output_type": "stream",
          "name": "stdout",
          "text": [
            "\r[*********************100%***********************]  1 of 1 completed\n",
            "[[41.012695]]\n"
          ]
        }
      ]
    },
    {
      "cell_type": "code",
      "metadata": {
        "id": "Ge1D7aiosqOo",
        "colab": {
          "base_uri": "https://localhost:8080/"
        },
        "outputId": "82cf2546-cc9f-4683-87e0-7eb2d981bbd0"
      },
      "source": [
        "# Extract the actual price of HSBC on a particular day\n",
        "apple_quote_now=pdr.get_data_yahoo(\"0005.HK\", start='2020-04-01',end='2020-04-02')\n",
        "print(\"HSBC Plc for the date (HK$):\",apple_quote_now['Close'])"
      ],
      "execution_count": null,
      "outputs": [
        {
          "output_type": "stream",
          "name": "stdout",
          "text": [
            "\r[*********************100%***********************]  1 of 1 completed\n",
            "HSBC Plc for the date (HK$): Date\n",
            "2020-04-01    39.950001\n",
            "Name: Close, dtype: float64\n"
          ]
        }
      ]
    },
    {
      "cell_type": "markdown",
      "metadata": {
        "id": "Rj0uC2pR0D7Y"
      },
      "source": [
        "# **Exercise**\n",
        "Using the Long Short Term Memory (LSTM) to predict the adj closing price of a company Tecent (0700) based on the past 50 days of stock adj closeing price. You can use the period between 2005-01-03 to 2020-12-04 as the traingng data"
      ]
    },
    {
      "cell_type": "code",
      "source": [
        "# Your code here"
      ],
      "metadata": {
        "id": "7UA-OUXPiC_Q"
      },
      "execution_count": null,
      "outputs": []
    }
  ]
}