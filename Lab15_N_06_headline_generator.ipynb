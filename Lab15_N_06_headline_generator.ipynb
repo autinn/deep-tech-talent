{
  "nbformat": 4,
  "nbformat_minor": 0,
  "metadata": {
    "kernelspec": {
      "display_name": "Python 3",
      "language": "python",
      "name": "python3"
    },
    "language_info": {
      "codemirror_mode": {
        "name": "ipython",
        "version": 3
      },
      "file_extension": ".py",
      "mimetype": "text/x-python",
      "name": "python",
      "nbconvert_exporter": "python",
      "pygments_lexer": "ipython3",
      "version": "3.6.9"
    },
    "colab": {
      "provenance": [],
      "collapsed_sections": [
        "zsEIZRG7UJVR",
        "3GUXRMl0UJVT",
        "HeEJAmWRUJVU",
        "1ceB_O9VUJVV",
        "1anLvXk-UJVW",
        "ziLkVW-IUJVW",
        "k3KEVpLBUJVX",
        "jlkMBJ7yUJVY",
        "ltpkJL9pUJVZ",
        "JxG1mFxCUJVZ",
        "FKnEyyDRUJVa",
        "A0tQVEmdUJVa",
        "69HkWt3gUJVb",
        "qJqbHL5lUJVc"
      ],
      "include_colab_link": true
    },
    "accelerator": "GPU"
  },
  "cells": [
    {
      "cell_type": "markdown",
      "metadata": {
        "id": "view-in-github",
        "colab_type": "text"
      },
      "source": [
        "<a href=\"https://colab.research.google.com/github/autinn/deep-tech-talent/blob/main/Lab15_N_06_headline_generator.ipynb\" target=\"_parent\"><img src=\"https://colab.research.google.com/assets/colab-badge.svg\" alt=\"Open In Colab\"/></a>"
      ]
    },
    {
      "cell_type": "markdown",
      "metadata": {
        "id": "wbb6pQh1UJVM"
      },
      "source": [
        "# **Lab15: Sequence Data**"
      ]
    },
    {
      "cell_type": "markdown",
      "metadata": {
        "id": "zsgKJ107UJVN"
      },
      "source": [
        "In this tutorial, we'll take a detour away from stand-alone pieces of data such as still images, to data that is dependent on other data items in a sequence. For our example, we'll use text sentences. Language is naturally composed of sequence data, in the form of characters in words, and words in sentences. Other examples of sequence data include stock prices and  weather data over time. Videos, while containing still images, are also sequences. Elements in the data have a relationship with what comes before and what comes after, and this fact requires a different approach."
      ]
    },
    {
      "cell_type": "markdown",
      "metadata": {
        "id": "iIJGes7UUJVN"
      },
      "source": [
        "## Objectives"
      ]
    },
    {
      "cell_type": "markdown",
      "metadata": {
        "id": "EGdmS7BeUJVN"
      },
      "source": [
        "* Prepare sequence data to use in a [recurrent neural network](https://developers.google.com/machine-learning/glossary#recurrent-neural-network) (RNN)\n",
        "* Build and train a model to perform word prediction"
      ]
    },
    {
      "cell_type": "markdown",
      "metadata": {
        "id": "TLdsDbBnUJVO"
      },
      "source": [
        "## Headline Generator"
      ]
    },
    {
      "cell_type": "markdown",
      "metadata": {
        "id": "BBgc_-eaUJVO"
      },
      "source": [
        "We've all seen text predictors in applications like the search bars, on cell phones, or in text editors that provide autocompletion of sentences. Many of the good text predictor models are trained on very large datasets, and take a lot of time and/or processing power to train. For this exercise, our predictor will be quite simple, but it will provide some simple exposure to language processing, sequence data, and one of the classic architecture elements used to train sequences, *recurrent neural networks* or *RNNs*."
      ]
    },
    {
      "cell_type": "markdown",
      "metadata": {
        "id": "0kn0qpdXUJVO"
      },
      "source": [
        "## Reading in the Data"
      ]
    },
    {
      "cell_type": "markdown",
      "metadata": {
        "id": "QhhbvoA6UJVP"
      },
      "source": [
        "Our dataset consists of headlines from the [New York Times](https://www.nytimes.com/) newspaper over the course of several months. We'll start by reading in all the headlines from the articles. The articles are in CSV files, so we can use *pandas* to read them in."
      ]
    },
    {
      "cell_type": "code",
      "metadata": {
        "id": "8Jcv9unBYXqC",
        "colab": {
          "base_uri": "https://localhost:8080/"
        },
        "outputId": "8ba8830a-5d7b-4ec6-91cf-d31c4edf4a01"
      },
      "source": [
        "# Connect to Google Drive to get the data\n",
        "from google.colab import drive\n",
        "drive.mount('/content/gdrive')"
      ],
      "execution_count": null,
      "outputs": [
        {
          "output_type": "stream",
          "text": [
            "Mounted at /content/gdrive\n"
          ],
          "name": "stdout"
        }
      ]
    },
    {
      "cell_type": "code",
      "metadata": {
        "colab": {
          "base_uri": "https://localhost:8080/"
        },
        "id": "nBf2QRd8UJVP",
        "outputId": "da17b873-007d-4802-f576-971fa2ae50b7"
      },
      "source": [
        "#@title\n",
        "import os\n",
        "import pandas as pd\n",
        "\n",
        "nyt_dir = '/content/gdrive/My Drive/Colab Notebooks/data/nyt_dataset/articles/'\n",
        "\n",
        "all_headlines = []\n",
        "for filename in os.listdir(nyt_dir):\n",
        "    if 'Articles' in filename:\n",
        "        # Read in all all the data from the CSV file\n",
        "        headlines_df = pd.read_csv(nyt_dir + filename)\n",
        "        # Add all of the headlines to our list\n",
        "        all_headlines.extend(list(headlines_df.headline.values))\n",
        "len(all_headlines)"
      ],
      "execution_count": null,
      "outputs": [
        {
          "output_type": "execute_result",
          "data": {
            "text/plain": [
              "9335"
            ]
          },
          "metadata": {
            "tags": []
          },
          "execution_count": 2
        }
      ]
    },
    {
      "cell_type": "markdown",
      "metadata": {
        "id": "D5zzyz9XUJVP"
      },
      "source": [
        "Let's take a look at our first few headlines:"
      ]
    },
    {
      "cell_type": "code",
      "metadata": {
        "colab": {
          "base_uri": "https://localhost:8080/"
        },
        "id": "mXpqF2w0UJVQ",
        "outputId": "7a4effbb-486a-439f-ddfc-bfe099b095b4"
      },
      "source": [
        "all_headlines[:20]"
      ],
      "execution_count": null,
      "outputs": [
        {
          "output_type": "execute_result",
          "data": {
            "text/plain": [
              "['The Opioid Crisis Foretold',\n",
              " 'The Business Deals That Could Imperil Trump',\n",
              " 'Adapting to American Decline',\n",
              " 'The Republicans’ Big Senate Mess',\n",
              " 'States Are Doing What Scott Pruitt Won’t',\n",
              " 'Fake Pearls, Real Heart',\n",
              " 'Fear Beyond Starbucks',\n",
              " 'Variety: Puns and Anagrams',\n",
              " 'E.P.A. Chief’s Ethics Woes Have Echoes in His Past',\n",
              " 'Where Facebook Rumors Fuel Thirst for Revenge',\n",
              " 'The House Next Door Is an Airbnb. Here’s What You Can Do About It.',\n",
              " 'Punch the Air',\n",
              " 'Caution, Babies Voting',\n",
              " 'Childbirth’s Dangers for Black Women',\n",
              " 'A Man Set Himself on Fire. We Barely Noticed.',\n",
              " 'Why Men Quit and Women Don’t',\n",
              " 'Jewish Power At 70 Years',\n",
              " 'Here to Help; A Word on Phrasing: ‘Just Deserts’',\n",
              " 'It’s Curtains for ‘Gypsy’',\n",
              " 'Unknown']"
            ]
          },
          "metadata": {
            "tags": []
          },
          "execution_count": 3
        }
      ]
    },
    {
      "cell_type": "markdown",
      "metadata": {
        "id": "WUtY5fHoUJVQ"
      },
      "source": [
        "## Cleaning the Data"
      ]
    },
    {
      "cell_type": "markdown",
      "metadata": {
        "id": "uQMr9OI4UJVQ"
      },
      "source": [
        "An important part of natural language processing (NLP) tasks (where computers deal with language), is processing text in a way that computers can understand it. We're going to take each of the words that appears in our dataset and represent it with a number. This will be part of a process called *tokenization*.\n",
        "\n",
        "Before we do that, we need to make sure we have good data. There are some headlines that are listed as \"Unknown\".  We don't want these items in our training set, so we'll filter them out:"
      ]
    },
    {
      "cell_type": "code",
      "metadata": {
        "colab": {
          "base_uri": "https://localhost:8080/"
        },
        "id": "yVu3faWrUJVQ",
        "outputId": "e50e506e-6dc0-4f1b-f0e3-1051afc1ccbf"
      },
      "source": [
        "# Remove all headlines with the value of \"Unknown\"\n",
        "all_headlines = [h for h in all_headlines if h != \"Unknown\"]\n",
        "len(all_headlines)"
      ],
      "execution_count": null,
      "outputs": [
        {
          "output_type": "execute_result",
          "data": {
            "text/plain": [
              "8603"
            ]
          },
          "metadata": {
            "tags": []
          },
          "execution_count": 4
        }
      ]
    },
    {
      "cell_type": "markdown",
      "metadata": {
        "id": "i88BOHukUJVR"
      },
      "source": [
        "Let's take another look:"
      ]
    },
    {
      "cell_type": "code",
      "metadata": {
        "colab": {
          "base_uri": "https://localhost:8080/"
        },
        "id": "GUe0YuXwUJVR",
        "outputId": "9b81ab73-b0aa-4a46-cba3-1c6bc0b5f8d9"
      },
      "source": [
        "all_headlines[:20]"
      ],
      "execution_count": null,
      "outputs": [
        {
          "output_type": "execute_result",
          "data": {
            "text/plain": [
              "['The Opioid Crisis Foretold',\n",
              " 'The Business Deals That Could Imperil Trump',\n",
              " 'Adapting to American Decline',\n",
              " 'The Republicans’ Big Senate Mess',\n",
              " 'States Are Doing What Scott Pruitt Won’t',\n",
              " 'Fake Pearls, Real Heart',\n",
              " 'Fear Beyond Starbucks',\n",
              " 'Variety: Puns and Anagrams',\n",
              " 'E.P.A. Chief’s Ethics Woes Have Echoes in His Past',\n",
              " 'Where Facebook Rumors Fuel Thirst for Revenge',\n",
              " 'The House Next Door Is an Airbnb. Here’s What You Can Do About It.',\n",
              " 'Punch the Air',\n",
              " 'Caution, Babies Voting',\n",
              " 'Childbirth’s Dangers for Black Women',\n",
              " 'A Man Set Himself on Fire. We Barely Noticed.',\n",
              " 'Why Men Quit and Women Don’t',\n",
              " 'Jewish Power At 70 Years',\n",
              " 'Here to Help; A Word on Phrasing: ‘Just Deserts’',\n",
              " 'It’s Curtains for ‘Gypsy’',\n",
              " 'The Endless Search for a Lost Glove']"
            ]
          },
          "metadata": {
            "tags": []
          },
          "execution_count": 5
        }
      ]
    },
    {
      "cell_type": "markdown",
      "metadata": {
        "id": "AbdT3QPvUJVR"
      },
      "source": [
        "We also want to remove punctuation and make our sentences all lower case, because this will make our model easier to train.  For our purposes, there is little or no difference between a line ending with \"!\" or \"?\" or whether words are capitalized, as in \"The\" or lower-case, as in \"the\".  With fewer unique tokens, our model will be easier to train.\n",
        "\n",
        "We could filter our sentences prior to tokenization, but we don't need to because this can all be done using the Keras `Tokenizer`."
      ]
    },
    {
      "cell_type": "markdown",
      "metadata": {
        "id": "zsEIZRG7UJVR"
      },
      "source": [
        "## Tokenization"
      ]
    },
    {
      "cell_type": "markdown",
      "metadata": {
        "id": "341z0_kqUJVR"
      },
      "source": [
        "Right now, our dataset consists of a set of headlines, each made up of a series of words. We want to give our model a way of representing those words in a way that it can understand. With tokenization, we separate a piece of text into smaller chunks (tokens), which in this case are words. Each unique word is then assigned a number, as this is a way that our model can understand the data. Keras has a class that will help us tokenize our data:\n",
        "\n",
        "```python\n",
        "tf.keras.preprocessing.text.Tokenizer(\n",
        "    num_words=None, filters='!\"#$%&()*+,-./:;<=>?@[\\\\]^_`{|}~\\t\\n', lower=True,\n",
        "    split=' ', char_level=False, oov_token=None, document_count=0, **kwargs\n",
        ")\n",
        "```\n",
        "\n",
        "Taking a look at the [Tokenizer](https://www.tensorflow.org/api_docs/python/tf/keras/preprocessing/text/Tokenizer) class in Keras, we see the default values are already set up for our use case.  The `filters` string already removes punctuation and the `lower` flag sets words to lower case."
      ]
    },
    {
      "cell_type": "code",
      "metadata": {
        "colab": {
          "base_uri": "https://localhost:8080/"
        },
        "id": "0bvE8qDRUJVS",
        "outputId": "73168682-7692-4fd7-bdae-971022edbec6"
      },
      "source": [
        "from tensorflow.keras.preprocessing.text import Tokenizer\n",
        "\n",
        "# Tokenize the words in our headlines\n",
        "tokenizer = Tokenizer()\n",
        "tokenizer.fit_on_texts(all_headlines)\n",
        "total_words = len(tokenizer.word_index) + 1\n",
        "print('Total words: ', total_words)"
      ],
      "execution_count": null,
      "outputs": [
        {
          "output_type": "stream",
          "text": [
            "Total words:  11753\n"
          ],
          "name": "stdout"
        }
      ]
    },
    {
      "cell_type": "markdown",
      "metadata": {
        "id": "7dQRPqq4UJVS"
      },
      "source": [
        "We can take a quick look at the `word_index` dictionary to see how the tokenizer saves the words:"
      ]
    },
    {
      "cell_type": "code",
      "metadata": {
        "colab": {
          "base_uri": "https://localhost:8080/"
        },
        "id": "_CFVrhG-UJVS",
        "outputId": "de688152-10f4-422f-91db-3b0a2a08ef5c"
      },
      "source": [
        "# Print a subset of the word_index dictionary created by Tokenizer\n",
        "subset_dict = {key: value for key, value in tokenizer.word_index.items() \\\n",
        "               if key in ['a','man','a','plan','a','canal','panama']}\n",
        "print(subset_dict)"
      ],
      "execution_count": null,
      "outputs": [
        {
          "output_type": "stream",
          "text": [
            "{'a': 2, 'plan': 82, 'man': 137, 'panama': 3352, 'canal': 6052}\n"
          ],
          "name": "stdout"
        }
      ]
    },
    {
      "cell_type": "markdown",
      "metadata": {
        "id": "w0XEdA4uUJVS"
      },
      "source": [
        "We can use the `texts_to_sequences` method to see how the tokenizer saves the words:"
      ]
    },
    {
      "cell_type": "code",
      "metadata": {
        "colab": {
          "base_uri": "https://localhost:8080/"
        },
        "id": "b8YB09ElUJVT",
        "outputId": "a4425c78-ada5-4cd2-b846-529933262c94"
      },
      "source": [
        "tokenizer.texts_to_sequences(['a','man','a','plan','a','canal','panama'])"
      ],
      "execution_count": null,
      "outputs": [
        {
          "output_type": "execute_result",
          "data": {
            "text/plain": [
              "[[2], [137], [2], [82], [2], [6052], [3352]]"
            ]
          },
          "metadata": {
            "tags": []
          },
          "execution_count": 8
        }
      ]
    },
    {
      "cell_type": "markdown",
      "metadata": {
        "id": "3GUXRMl0UJVT"
      },
      "source": [
        "## Creating Sequences"
      ]
    },
    {
      "cell_type": "markdown",
      "metadata": {
        "id": "rMPD-NqrUJVT"
      },
      "source": [
        "Now that we've tokenized the data, turning each word into a representative number, we will create sequences of tokens from the headlines. These sequences are what we will train our deep learning model on.\n",
        "\n",
        "For example, let's take the headline, \"nvidia launches ray tracing gpus\". Each word is going to be replaced by a corresponding number, for instance: nvidia - 5, launches - 22, ray - 94, tracing - 16, gpus - 102. The full sequence would be: [5, 22, 94, 16, 102]. However, it is also valuable to train on the smaller sequences within the headline, such as \"nvidia launches\". We'll take each headline and create a set of sequences to fill our dataset. Next, let's use our tokenizer to convert our headlines to a set of sequences."
      ]
    },
    {
      "cell_type": "code",
      "metadata": {
        "colab": {
          "base_uri": "https://localhost:8080/"
        },
        "id": "lQd-9LodUJVT",
        "outputId": "ee478cfd-47bd-4888-8c82-3525ab4beebc"
      },
      "source": [
        "# Convert data to sequence of tokens\n",
        "input_sequences = []\n",
        "for line in all_headlines:\n",
        "    # Convert our headline into a sequence of tokens\n",
        "    token_list = tokenizer.texts_to_sequences([line])[0]\n",
        "\n",
        "    # Create a series of sequences for each headline\n",
        "    for i in range(1, len(token_list)):\n",
        "        partial_sequence = token_list[:i+1]\n",
        "        input_sequences.append(partial_sequence)\n",
        "\n",
        "print(tokenizer.sequences_to_texts(input_sequences[:5]))\n",
        "input_sequences[:5]"
      ],
      "execution_count": null,
      "outputs": [
        {
          "output_type": "stream",
          "text": [
            "['the opioid', 'the opioid crisis', 'the opioid crisis foretold', 'the business', 'the business deals']\n"
          ],
          "name": "stdout"
        },
        {
          "output_type": "execute_result",
          "data": {
            "text/plain": [
              "[[1, 1380], [1, 1380, 203], [1, 1380, 203, 2514], [1, 486], [1, 486, 822]]"
            ]
          },
          "metadata": {
            "tags": []
          },
          "execution_count": 9
        }
      ]
    },
    {
      "cell_type": "markdown",
      "metadata": {
        "id": "HeEJAmWRUJVU"
      },
      "source": [
        "## Padding Sequences"
      ]
    },
    {
      "cell_type": "markdown",
      "metadata": {
        "id": "vBTnDc5iUJVU"
      },
      "source": [
        "Right now our sequences are of various lengths. For our model to be able to train on the data, we need to make all the sequences the same length. To do this we'll add padding to the sequences. Keras has a built-in `pad_sequences` [method](https://www.tensorflow.org/api_docs/python/tf/keras/preprocessing/sequence/pad_sequences) that we can use."
      ]
    },
    {
      "cell_type": "code",
      "metadata": {
        "colab": {
          "base_uri": "https://localhost:8080/"
        },
        "id": "I_yLrEn2UJVU",
        "outputId": "7970e480-f953-4b60-f120-d53c63c65f0d"
      },
      "source": [
        "from tensorflow.keras.preprocessing.sequence import pad_sequences\n",
        "import numpy as np\n",
        "\n",
        "# Determine max sequence length\n",
        "max_sequence_len = max([len(x) for x in input_sequences])\n",
        "\n",
        "# Pad all sequences with zeros at the beginning to make them all max length\n",
        "input_sequences = np.array(pad_sequences(input_sequences, maxlen=max_sequence_len, padding='pre'))\n",
        "input_sequences[0]"
      ],
      "execution_count": null,
      "outputs": [
        {
          "output_type": "execute_result",
          "data": {
            "text/plain": [
              "array([   0,    0,    0,    0,    0,    0,    0,    0,    0,    0,    0,\n",
              "          0,    0,    0,    0,    0,    0,    0,    0,    0,    0,    0,\n",
              "          0,    0,    0,    0,    1, 1380], dtype=int32)"
            ]
          },
          "metadata": {
            "tags": []
          },
          "execution_count": 10
        }
      ]
    },
    {
      "cell_type": "markdown",
      "metadata": {
        "id": "1ceB_O9VUJVV"
      },
      "source": [
        "## Creating Predictors and Target"
      ]
    },
    {
      "cell_type": "markdown",
      "metadata": {
        "id": "jvzZNfYJUJVV"
      },
      "source": [
        "We also want to split up our sequences into predictors and a target. The last word of the sequence will be our target, and the first words of the sequence will be our predictors. As an example, take a look at the full headline: \"nvidia releases ampere graphics cards\""
      ]
    },
    {
      "cell_type": "markdown",
      "metadata": {
        "id": "rmemovG-UJVV"
      },
      "source": [
        "<table>\n",
        "<tr><td>PREDICTORS </td> <td>           TARGET </td></tr>\n",
        "<tr><td>nvidia                   </td> <td>  releases </td></tr>\n",
        "<tr><td>nvidia releases               </td> <td>  ampere </td></tr>\n",
        "<tr><td>nvidia releases ampere      </td> <td>  graphics</td></tr>\n",
        "<tr><td>nvidia releases ampere graphics </td> <td>  cards</td></tr>\n",
        "</table>"
      ]
    },
    {
      "cell_type": "code",
      "metadata": {
        "colab": {
          "base_uri": "https://localhost:8080/"
        },
        "id": "UlV64L45UJVV",
        "outputId": "31492e7e-4acb-4e78-ff0d-43b0d22c5fc2"
      },
      "source": [
        "# Predictors are every word except the last\n",
        "predictors = input_sequences[:,:-1]\n",
        "# Labels are the last word\n",
        "labels = input_sequences[:,-1]\n",
        "labels[:5]"
      ],
      "execution_count": null,
      "outputs": [
        {
          "output_type": "execute_result",
          "data": {
            "text/plain": [
              "array([1380,  203, 2514,  486,  822], dtype=int32)"
            ]
          },
          "metadata": {
            "tags": []
          },
          "execution_count": 11
        }
      ]
    },
    {
      "cell_type": "markdown",
      "metadata": {
        "id": "MbU16jHXUJVV"
      },
      "source": [
        "Like our earlier sections, these targets are categorical. We are predicting one word out of our possible total vocabulary. Instead of the network predicting scalar numbers, we will have it predict binary categories."
      ]
    },
    {
      "cell_type": "code",
      "metadata": {
        "id": "JhUDc8zwUJVW"
      },
      "source": [
        "from tensorflow.keras import utils\n",
        "\n",
        "labels = utils.to_categorical(labels, num_classes=total_words)"
      ],
      "execution_count": null,
      "outputs": []
    },
    {
      "cell_type": "markdown",
      "metadata": {
        "id": "1anLvXk-UJVW"
      },
      "source": [
        "## Creating the Model"
      ]
    },
    {
      "cell_type": "markdown",
      "metadata": {
        "id": "mhNHbLXoUJVW"
      },
      "source": [
        "For our model, we're going to use a couple of new layers to deal with our sequential data."
      ]
    },
    {
      "cell_type": "markdown",
      "metadata": {
        "id": "ziLkVW-IUJVW"
      },
      "source": [
        "### [Embedding Layer](https://www.tensorflow.org/api_docs/python/tf/keras/layers/Embedding)"
      ]
    },
    {
      "cell_type": "markdown",
      "metadata": {
        "id": "Xow_N1SrUJVW"
      },
      "source": [
        "Our first layer is an embedding layer:\n",
        "\n",
        "```Python\n",
        "model.add(Embedding(input_dimension, output_dimension, input_length=input_len))\n",
        "```\n",
        "\n",
        "This layer will take the tokenized sequences and will learn an embedding for all of the words in the training dataset. Mathematically, embeddings work the same way as a neuron in a neural network, but conceptually, their goal is to reduce the number of dimensions for some or all of the features. In this case, it will represent each word as a vector, and the information within that vector will contain the relationships between each word.\n",
        "\n",
        "Learn more about embedding layers [here](https://machinelearningmastery.com/use-word-embedding-layers-deep-learning-keras/).\n",
        "\n",
        "<img src=\"https://raw.githubusercontent.com/skywong1230/IT524031Q/main/embedding.png?raw=1\" style=\"width: 300px;\">"
      ]
    },
    {
      "cell_type": "markdown",
      "metadata": {
        "id": "k3KEVpLBUJVX"
      },
      "source": [
        "### [Long Short Term Memory Layer](https://www.tensorflow.org/api_docs/python/tf/keras/layers/LSTM)"
      ]
    },
    {
      "cell_type": "markdown",
      "metadata": {
        "id": "RBcWRE3pUJVX"
      },
      "source": [
        "Our next, and very important layer, is a long short term memory layer (LSTM). An LSTM is a type of recurrent neural network or RNN. Unlike traditional feed-forward networks that we've seen so far, recurrent networks have loops in them, allowing information to persist. Here's a representation of a recurrent network:"
      ]
    },
    {
      "cell_type": "markdown",
      "metadata": {
        "id": "0qe90nT8UJVX"
      },
      "source": [
        "<img src=\"https://raw.githubusercontent.com/skywong1230/IT524031Q/main/rnn_rolled.png?raw=1\" style=\"width: 150px;\">"
      ]
    },
    {
      "cell_type": "markdown",
      "metadata": {
        "id": "wM_NCF6mUJVX"
      },
      "source": [
        "New information (x) gets passed in to the network, which spits out a prediction (h). Additionally, information from that layer gets saved, and used as input for the next prediction. This may seem a bit complicated, but let's look at it unrolled:"
      ]
    },
    {
      "cell_type": "markdown",
      "metadata": {
        "id": "tF98A7xRUJVX"
      },
      "source": [
        "<img src=\"https://raw.githubusercontent.com/skywong1230/IT524031Q/main/rnn_unrolled.png?raw=1\" style=\"width: 600px;\">"
      ]
    },
    {
      "cell_type": "markdown",
      "metadata": {
        "id": "EwSr5OVaUJVY"
      },
      "source": [
        "We can see that when a new piece of data (x) is fed into the network, that network both spits out a prediction (h) and also passes some information along to the next layer. That next layer gets another piece of data, but gets to learn from the layer before it as well.\n",
        "\n",
        "Traditional RNNs suffer from the issue of more recent information contributing more than information from further back. LSTMs are a special type of recurrent layer that are able to learn and retain longer term information. If you'd like to read more about RNNs and LSTMs, we recommend [this article](https://colah.github.io/posts/2015-08-Understanding-LSTMs/).\n",
        "\n",
        "Alright, let's create our model:"
      ]
    },
    {
      "cell_type": "code",
      "metadata": {
        "id": "SfFPAcxpUJVY"
      },
      "source": [
        "from tensorflow.keras.layers import Embedding, LSTM, Dense, Dropout\n",
        "from tensorflow.keras.models import Sequential\n",
        "\n",
        "# Input is max sequence length - 1, as we've removed the last word for the label\n",
        "input_len = max_sequence_len - 1\n",
        "\n",
        "model = Sequential()\n",
        "\n",
        "# Add input embedding layer\n",
        "model.add(Embedding(total_words, 10, input_length=input_len))\n",
        "\n",
        "# Add LSTM layer with 100 units\n",
        "model.add(LSTM(100))\n",
        "model.add(Dropout(0.1))\n",
        "\n",
        "# Add output layer\n",
        "model.add(Dense(total_words, activation='softmax'))"
      ],
      "execution_count": null,
      "outputs": []
    },
    {
      "cell_type": "code",
      "metadata": {
        "colab": {
          "base_uri": "https://localhost:8080/"
        },
        "id": "01Xf33h2UJVY",
        "outputId": "fda8e314-4c2d-4886-faf6-273b84d2d3db"
      },
      "source": [
        "model.summary()"
      ],
      "execution_count": null,
      "outputs": [
        {
          "output_type": "stream",
          "text": [
            "Model: \"sequential\"\n",
            "_________________________________________________________________\n",
            "Layer (type)                 Output Shape              Param #   \n",
            "=================================================================\n",
            "embedding (Embedding)        (None, 27, 10)            117530    \n",
            "_________________________________________________________________\n",
            "lstm (LSTM)                  (None, 100)               44400     \n",
            "_________________________________________________________________\n",
            "dropout (Dropout)            (None, 100)               0         \n",
            "_________________________________________________________________\n",
            "dense (Dense)                (None, 11753)             1187053   \n",
            "=================================================================\n",
            "Total params: 1,348,983\n",
            "Trainable params: 1,348,983\n",
            "Non-trainable params: 0\n",
            "_________________________________________________________________\n"
          ],
          "name": "stdout"
        }
      ]
    },
    {
      "cell_type": "markdown",
      "metadata": {
        "id": "jlkMBJ7yUJVY"
      },
      "source": [
        "## Compiling the Model"
      ]
    },
    {
      "cell_type": "markdown",
      "metadata": {
        "id": "X077YctyUJVY"
      },
      "source": [
        "As before, we compile our model with categorical crossentropy, as we're categorically predicting one word from our total vocabulary. In this case, we are not going to use accuracy as a metric, because text prediction is not measured as being more or less accurate in the same way as image classification.\n",
        "\n",
        "We are also going to select a particular optimizer that is well suited for LSTM tasks, called the *Adam* optimizer. Details of optimizers are a bit out of scope for this course, but what's important to know is that different optimizers can be better for different deep learning tasks. You can read more about them, including the Adam optimizer [here](https://medium.com/datadriveninvestor/overview-of-different-optimizers-for-neural-networks-e0ed119440c3)."
      ]
    },
    {
      "cell_type": "code",
      "metadata": {
        "id": "Uhss-ZyXUJVZ"
      },
      "source": [
        "model.compile(loss='categorical_crossentropy', optimizer='adam')"
      ],
      "execution_count": null,
      "outputs": []
    },
    {
      "cell_type": "markdown",
      "metadata": {
        "id": "ltpkJL9pUJVZ"
      },
      "source": [
        "## Training the Model"
      ]
    },
    {
      "cell_type": "markdown",
      "metadata": {
        "id": "6uCHckUfUJVZ"
      },
      "source": [
        "Similar to earlier sections, we fit our model in the same way. This time we'll train for 30 epochs, which will take a few minutes. You'll notice that we don't have a training or validation accuracy score in this case. This reflects our different problem of text prediction."
      ]
    },
    {
      "cell_type": "code",
      "metadata": {
        "scrolled": true,
        "colab": {
          "base_uri": "https://localhost:8080/"
        },
        "id": "-WVMAI4IUJVZ",
        "outputId": "c72c6d8b-1647-486a-a086-2291330439bd"
      },
      "source": [
        "model.fit(predictors, labels, epochs=30, verbose=1)"
      ],
      "execution_count": null,
      "outputs": [
        {
          "output_type": "stream",
          "text": [
            "Epoch 1/30\n",
            "1666/1666 [==============================] - 43s 7ms/step - loss: 8.0643\n",
            "Epoch 2/30\n",
            "1666/1666 [==============================] - 12s 7ms/step - loss: 7.4813\n",
            "Epoch 3/30\n",
            "1666/1666 [==============================] - 12s 7ms/step - loss: 7.2961\n",
            "Epoch 4/30\n",
            "1666/1666 [==============================] - 12s 7ms/step - loss: 7.0721\n",
            "Epoch 5/30\n",
            "1666/1666 [==============================] - 12s 7ms/step - loss: 6.8214\n",
            "Epoch 6/30\n",
            "1666/1666 [==============================] - 12s 7ms/step - loss: 6.5595\n",
            "Epoch 7/30\n",
            "1666/1666 [==============================] - 12s 7ms/step - loss: 6.3197\n",
            "Epoch 8/30\n",
            "1666/1666 [==============================] - 12s 7ms/step - loss: 6.0590\n",
            "Epoch 9/30\n",
            "1666/1666 [==============================] - 12s 7ms/step - loss: 5.8049\n",
            "Epoch 10/30\n",
            "1666/1666 [==============================] - 12s 7ms/step - loss: 5.5500\n",
            "Epoch 11/30\n",
            "1666/1666 [==============================] - 12s 7ms/step - loss: 5.3172\n",
            "Epoch 12/30\n",
            "1666/1666 [==============================] - 12s 7ms/step - loss: 5.1313\n",
            "Epoch 13/30\n",
            "1666/1666 [==============================] - 12s 7ms/step - loss: 4.9071\n",
            "Epoch 14/30\n",
            "1666/1666 [==============================] - 12s 7ms/step - loss: 4.6970\n",
            "Epoch 15/30\n",
            "1666/1666 [==============================] - 12s 7ms/step - loss: 4.5392\n",
            "Epoch 16/30\n",
            "1666/1666 [==============================] - 12s 7ms/step - loss: 4.3576\n",
            "Epoch 17/30\n",
            "1666/1666 [==============================] - 12s 7ms/step - loss: 4.2127\n",
            "Epoch 18/30\n",
            "1666/1666 [==============================] - 12s 7ms/step - loss: 4.0434\n",
            "Epoch 19/30\n",
            "1666/1666 [==============================] - 12s 7ms/step - loss: 3.9094\n",
            "Epoch 20/30\n",
            "1666/1666 [==============================] - 12s 7ms/step - loss: 3.7833\n",
            "Epoch 21/30\n",
            "1666/1666 [==============================] - 12s 7ms/step - loss: 3.6411\n",
            "Epoch 22/30\n",
            "1666/1666 [==============================] - 12s 7ms/step - loss: 3.5300\n",
            "Epoch 23/30\n",
            "1666/1666 [==============================] - 12s 7ms/step - loss: 3.4149\n",
            "Epoch 24/30\n",
            "1666/1666 [==============================] - 12s 7ms/step - loss: 3.3288\n",
            "Epoch 25/30\n",
            "1666/1666 [==============================] - 12s 7ms/step - loss: 3.2372\n",
            "Epoch 26/30\n",
            "1666/1666 [==============================] - 12s 7ms/step - loss: 3.1340\n",
            "Epoch 27/30\n",
            "1666/1666 [==============================] - 12s 7ms/step - loss: 3.0727\n",
            "Epoch 28/30\n",
            "1666/1666 [==============================] - 12s 7ms/step - loss: 2.9898\n",
            "Epoch 29/30\n",
            "1666/1666 [==============================] - 12s 7ms/step - loss: 2.9011\n",
            "Epoch 30/30\n",
            "1666/1666 [==============================] - 12s 7ms/step - loss: 2.8380\n"
          ],
          "name": "stdout"
        },
        {
          "output_type": "execute_result",
          "data": {
            "text/plain": [
              "<tensorflow.python.keras.callbacks.History at 0x7fa5f6b21810>"
            ]
          },
          "metadata": {
            "tags": []
          },
          "execution_count": 16
        }
      ]
    },
    {
      "cell_type": "markdown",
      "metadata": {
        "id": "JxG1mFxCUJVZ"
      },
      "source": [
        "## Discussion of Results"
      ]
    },
    {
      "cell_type": "markdown",
      "metadata": {
        "id": "xuTBNUz9UJVZ"
      },
      "source": [
        "We can see that the loss decreased over the course of training. We could train our model further to decrease the loss, but that would take some time, and we're not looking for a perfect text predictor right now. Next let's try using the model to make predictions."
      ]
    },
    {
      "cell_type": "markdown",
      "metadata": {
        "id": "FKnEyyDRUJVa"
      },
      "source": [
        "## Making Predictions"
      ]
    },
    {
      "cell_type": "markdown",
      "metadata": {
        "id": "Tv01DJSNUJVa"
      },
      "source": [
        "In order to make predictions, we'll need to start with a seed text, and prepare it in the same way we prepared our dataset. This will mean tokenizing and padding. Once we do this, we can pass it into our model to make a prediction. We'll create a function to do this called `predict_next_token`:"
      ]
    },
    {
      "cell_type": "code",
      "metadata": {
        "id": "Gc7H85myUJVa"
      },
      "source": [
        "def predict_next_token(seed_text):\n",
        "    token_list = tokenizer.texts_to_sequences([seed_text])[0]\n",
        "    token_list = pad_sequences([token_list], maxlen=max_sequence_len-1, padding='pre')\n",
        "    prediction = model.predict_classes(token_list, verbose=0)\n",
        "    return prediction"
      ],
      "execution_count": null,
      "outputs": []
    },
    {
      "cell_type": "code",
      "metadata": {
        "id": "fn0gSBjlUJVa",
        "colab": {
          "base_uri": "https://localhost:8080/"
        },
        "outputId": "c5e09ee4-08d4-4fad-f216-687796af95c7"
      },
      "source": [
        "prediction = predict_next_token(\"today in new york\")\n",
        "prediction"
      ],
      "execution_count": null,
      "outputs": [
        {
          "output_type": "stream",
          "text": [
            "/usr/local/lib/python3.7/dist-packages/tensorflow/python/keras/engine/sequential.py:450: UserWarning: `model.predict_classes()` is deprecated and will be removed after 2021-01-01. Please use instead:* `np.argmax(model.predict(x), axis=-1)`,   if your model does multi-class classification   (e.g. if it uses a `softmax` last-layer activation).* `(model.predict(x) > 0.5).astype(\"int32\")`,   if your model does binary classification   (e.g. if it uses a `sigmoid` last-layer activation).\n",
            "  warnings.warn('`model.predict_classes()` is deprecated and '\n"
          ],
          "name": "stderr"
        },
        {
          "output_type": "execute_result",
          "data": {
            "text/plain": [
              "array([6015])"
            ]
          },
          "metadata": {
            "tags": []
          },
          "execution_count": 18
        }
      ]
    },
    {
      "cell_type": "markdown",
      "metadata": {
        "id": "HdSEKcTgUJVa"
      },
      "source": [
        "Let's use our tokenizer to decode the predicted word:"
      ]
    },
    {
      "cell_type": "code",
      "metadata": {
        "id": "ZNzyKS49UJVa",
        "colab": {
          "base_uri": "https://localhost:8080/"
        },
        "outputId": "0fafb6bb-a76e-43f8-c108-452df1510726"
      },
      "source": [
        "tokenizer.sequences_to_texts([prediction])"
      ],
      "execution_count": null,
      "outputs": [
        {
          "output_type": "execute_result",
          "data": {
            "text/plain": [
              "['subway’s']"
            ]
          },
          "metadata": {
            "tags": []
          },
          "execution_count": 19
        }
      ]
    },
    {
      "cell_type": "markdown",
      "metadata": {
        "id": "A0tQVEmdUJVa"
      },
      "source": [
        "## Generate New Headlines"
      ]
    },
    {
      "cell_type": "markdown",
      "metadata": {
        "id": "xhVyFjYLUJVb"
      },
      "source": [
        "Now that we're able to predict new words, let's create a function that can predict headlines of more than just one word. The function below creates a new headline of arbitrary length."
      ]
    },
    {
      "cell_type": "code",
      "metadata": {
        "id": "bxGfhXn3UJVb"
      },
      "source": [
        "def generate_headline(seed_text, next_words=1):\n",
        "    for _ in range(next_words):\n",
        "        # Predict next token\n",
        "        prediction = predict_next_token(seed_text)\n",
        "        # Convert token to word\n",
        "        next_word = tokenizer.sequences_to_texts([prediction])[0]\n",
        "        # Add next word to the headline. This headline will be used in the next pass of the loop.\n",
        "        seed_text += \" \" + next_word\n",
        "    # Return headline as title-case\n",
        "    return seed_text.title()"
      ],
      "execution_count": null,
      "outputs": []
    },
    {
      "cell_type": "markdown",
      "metadata": {
        "id": "z9ljpvXZUJVb"
      },
      "source": [
        "Now try some headlines!"
      ]
    },
    {
      "cell_type": "code",
      "metadata": {
        "id": "x5ZVbmOgUJVb"
      },
      "source": [
        "seed_texts = [\n",
        "    'washington dc is',\n",
        "    'today in new york',\n",
        "    'the school district has',\n",
        "    'crime has become']\n",
        "for seed in seed_texts:\n",
        "    print(generate_headline(seed, next_words=5))"
      ],
      "execution_count": null,
      "outputs": []
    },
    {
      "cell_type": "markdown",
      "metadata": {
        "id": "TtejN2NuUJVb"
      },
      "source": [
        "The results may be a bit underwhelming after 30 epochs of training.  We can notice that most of the headlines make some kind of grammatical sense, but don't necessarily indicate a good contextual understanding.  The results might improve somewhat by running more epochs. You can do this by runnning the training `fit` cell again (and again!) to train another 30 epochs each time.  You should see the loss value go down.  Then try the tests again.  Results can vary quite a bit!\n",
        "\n",
        "Other improvements would be to try using pretrained embeddings with Word2Vec or GloVe, rather than learning them during training as we did with the Keras Embedding layer.  Some information on how to do that can be found [here](https://blog.keras.io/using-pre-trained-word-embeddings-in-a-keras-model.html).\n",
        "\n",
        "Ultimately, however, NLP has moved beyond simple LSTM models to Transformer-based pre-trained models, which are able to learn language context from huge amounts of textual data such as Wikipedia.  These pre-trained models are then used as a starting point for transfer learning to solve NLP tasks such as the one we just tried for text completion.  You can try one of these models yourself by checking out this [state-of-the-art text predictor here](https://transformer.huggingface.co/doc/gpt2-large) based on a [GPT-2 model](https://openai.com/blog/better-language-models/).\n",
        "\n",
        "To learn more about Transformer-based models, check out [this blog](https://ai.googleblog.com/2018/11/open-sourcing-bert-state-of-art-pre.html) on Bidirectional Encoder Representations from Transformers (BERT) and look for information on additional coursework in the \"Next Steps\" page for this DLI course."
      ]
    },
    {
      "cell_type": "markdown",
      "metadata": {
        "id": "69HkWt3gUJVb"
      },
      "source": [
        "## Summary"
      ]
    },
    {
      "cell_type": "markdown",
      "metadata": {
        "id": "R9E1SMWrUJVb"
      },
      "source": [
        "Great work! You've successfully trained a model to predict words in a headline, and used that model to create headlines of various lengths. Feel free to experiment and generate some more headlines."
      ]
    },
    {
      "cell_type": "markdown",
      "metadata": {
        "id": "qJqbHL5lUJVc"
      },
      "source": [
        "## Next"
      ]
    },
    {
      "cell_type": "markdown",
      "metadata": {
        "id": "xvXAWl7GUJVc"
      },
      "source": [
        "Congratulations, you have completed all the learning objectives of the course!\n",
        "\n",
        "As a final exercise, and to earn certification in the course, successfully complete an end-to-end image classification problem in the assessment."
      ]
    }
  ]
}