{
  "nbformat": 4,
  "nbformat_minor": 0,
  "metadata": {
    "kernelspec": {
      "display_name": "Python 3",
      "language": "python",
      "name": "python3"
    },
    "language_info": {
      "codemirror_mode": {
        "name": "ipython",
        "version": 3
      },
      "file_extension": ".py",
      "mimetype": "text/x-python",
      "name": "python",
      "nbconvert_exporter": "python",
      "pygments_lexer": "ipython3",
      "version": "3.6.9"
    },
    "colab": {
      "provenance": [],
      "include_colab_link": true
    },
    "accelerator": "GPU"
  },
  "cells": [
    {
      "cell_type": "markdown",
      "metadata": {
        "id": "view-in-github",
        "colab_type": "text"
      },
      "source": [
        "<a href=\"https://colab.research.google.com/github/autinn/deep-tech-talent/blob/main/Lab16_N_07_assessment.ipynb\" target=\"_parent\"><img src=\"https://colab.research.google.com/assets/colab-badge.svg\" alt=\"Open In Colab\"/></a>"
      ]
    },
    {
      "cell_type": "markdown",
      "metadata": {
        "id": "8MVXim8nV5gC"
      },
      "source": [
        "# **Lab16: Deep Learning Assessment**"
      ]
    },
    {
      "cell_type": "markdown",
      "metadata": {
        "id": "Jt0oXnTIV5gD"
      },
      "source": [
        "Hopefully, you've learned some valuable skills along the way and had fun doing it. Now it's time to put those skills to the test. In this assessment, you will train a new model that is able to recognize fresh and rotten fruit. You will need to get the model to a validation accuracy of `92%` in order to pass the assessment, though we challenge you to do even better if you can. You will have the use the skills that you learned in the previous exercises. Specifically, we suggest using some combination of transfer learning, data augmentation, and fine tuning. Once you have trained the model to be at least 92% accurate on the validation dataset, save your model, and then assess its accuracy. Let's get started!"
      ]
    },
    {
      "cell_type": "markdown",
      "metadata": {
        "id": "_ogzxL4mV5gD"
      },
      "source": [
        "## The Dataset"
      ]
    },
    {
      "cell_type": "markdown",
      "metadata": {
        "id": "3UNxuHyVV5gD"
      },
      "source": [
        "In this exercise, you will train a model to recognize fresh and rotten fruits. The dataset comes from [Kaggle](https://www.kaggle.com/sriramr/fruits-fresh-and-rotten-for-classification), a great place to go if you're interested in starting a project after this class. The dataset structure is in the `data/fruits` folder. There are 6 categories of fruits: fresh apples, fresh oranges, fresh bananas, rotten apples, rotten oranges, and rotten bananas. This will mean that your model will require an output layer of 6 neurons to do the categorization successfully. You'll also need to compile the model with `categorical_crossentropy`, as we have more than two categories."
      ]
    },
    {
      "cell_type": "markdown",
      "metadata": {
        "id": "GgLK7BXUV5gE"
      },
      "source": [
        "<img src=\"https://raw.githubusercontent.com/skywong1230/IT524031Q/main/fruits.png?raw=1\" style=\"width: 600px;\">"
      ]
    },
    {
      "cell_type": "markdown",
      "metadata": {
        "id": "zgkIqIA7V5gE"
      },
      "source": [
        "## Load ImageNet Base Model"
      ]
    },
    {
      "cell_type": "markdown",
      "metadata": {
        "id": "DClh-ozNV5gE"
      },
      "source": [
        "We encourage you to start with a model pretrained on ImageNet. Load the model with the correct weights, set an input shape, and choose to remove the last layers of the model. Remember that images have three dimensions: a height, and width, and a number of channels. Because these pictures are in color, there will be three channels for red, green, and blue. We've filled in the input shape for you. This cannot be changed or the assessment will fail. If you need a reference for setting up the pretrained model, please take a look at Lab17 where we implemented transfer learning."
      ]
    },
    {
      "cell_type": "code",
      "metadata": {
        "id": "haXNj1qvV5gF",
        "colab": {
          "base_uri": "https://localhost:8080/"
        },
        "outputId": "010c1063-a790-46d8-ec1d-2cebd746dde0"
      },
      "source": [
        "from tensorflow import keras\n",
        "\n",
        "base_model = keras.applications.VGG16(\n",
        "    weights='imagenet',\n",
        "    input_shape=(224, 224, 3),\n",
        "    include_top=False)"
      ],
      "execution_count": null,
      "outputs": [
        {
          "output_type": "stream",
          "text": [
            "Downloading data from https://storage.googleapis.com/tensorflow/keras-applications/vgg16/vgg16_weights_tf_dim_ordering_tf_kernels_notop.h5\n",
            "58892288/58889256 [==============================] - 0s 0us/step\n"
          ],
          "name": "stdout"
        }
      ]
    },
    {
      "cell_type": "markdown",
      "metadata": {
        "id": "pSe9KxidV5gF"
      },
      "source": [
        "## Freeze Base Model"
      ]
    },
    {
      "cell_type": "markdown",
      "metadata": {
        "id": "ig5K3h9bV5gF"
      },
      "source": [
        "Next, we suggest freezing the base model, as done in Lab17. This is done so that all the learning from the ImageNet dataset does not get destroyed in the initial training."
      ]
    },
    {
      "cell_type": "code",
      "metadata": {
        "id": "uBCADk1qV5gF"
      },
      "source": [
        "# Freeze base model\n",
        "base_model.trainable = False"
      ],
      "execution_count": null,
      "outputs": []
    },
    {
      "cell_type": "markdown",
      "metadata": {
        "id": "jT9G3qagV5gG"
      },
      "source": [
        "## Add Layers to Model"
      ]
    },
    {
      "cell_type": "markdown",
      "metadata": {
        "id": "D0IlYAT3V5gG"
      },
      "source": [
        "Now it's time to add layers to the pretrained model. Lab17 can be used as a guide. Pay close attention to the last dense layer and make sure it has the correct number of neurons to classify the different types of fruit."
      ]
    },
    {
      "cell_type": "code",
      "metadata": {
        "id": "dbfPPoBSV5gG"
      },
      "source": [
        "# Create inputs with correct shape\n",
        "inputs = keras.Input(shape=(224,224,3))\n",
        "\n",
        "x = base_model(inputs, training=False)\n",
        "\n",
        "# Add pooling layer or flatten layer\n",
        "x = keras.layers.GlobalAveragePooling2D()(x)\n",
        "\n",
        "# Add final dense layer\n",
        "outputs = keras.layers.Dense(units=6,activation='softmax')(x)\n",
        "\n",
        "# Combine inputs and outputs to create model\n",
        "model = keras.Model(inputs,outputs)"
      ],
      "execution_count": null,
      "outputs": []
    },
    {
      "cell_type": "code",
      "metadata": {
        "colab": {
          "base_uri": "https://localhost:8080/"
        },
        "id": "xkvnijh-V5gG",
        "outputId": "22f59874-ba0e-4992-cdc1-4b9397947fec"
      },
      "source": [
        "model.summary()"
      ],
      "execution_count": null,
      "outputs": [
        {
          "output_type": "stream",
          "text": [
            "Model: \"model_1\"\n",
            "_________________________________________________________________\n",
            "Layer (type)                 Output Shape              Param #   \n",
            "=================================================================\n",
            "input_3 (InputLayer)         [(None, 224, 224, 3)]     0         \n",
            "_________________________________________________________________\n",
            "vgg16 (Functional)           (None, 7, 7, 512)         14714688  \n",
            "_________________________________________________________________\n",
            "global_average_pooling2d_1 ( (None, 512)               0         \n",
            "_________________________________________________________________\n",
            "dense_1 (Dense)              (None, 6)                 3078      \n",
            "=================================================================\n",
            "Total params: 14,717,766\n",
            "Trainable params: 3,078\n",
            "Non-trainable params: 14,714,688\n",
            "_________________________________________________________________\n"
          ],
          "name": "stdout"
        }
      ]
    },
    {
      "cell_type": "markdown",
      "metadata": {
        "id": "Mr8Vpmq6V5gH"
      },
      "source": [
        "## Compile Model"
      ]
    },
    {
      "cell_type": "markdown",
      "metadata": {
        "id": "Btvxwnr_V5gH"
      },
      "source": [
        "Now it's time to compile the model with loss and metrics options. Remember that we're training on a number of different categories, rather than a binary classification problem."
      ]
    },
    {
      "cell_type": "code",
      "metadata": {
        "id": "O1k0qk8gV5gH"
      },
      "source": [
        "model.compile(loss='categorical_crossentropy',metrics=['accuracy'])"
      ],
      "execution_count": null,
      "outputs": []
    },
    {
      "cell_type": "markdown",
      "metadata": {
        "id": "j5saGi8EV5gH"
      },
      "source": [
        "## Augment the Data"
      ]
    },
    {
      "cell_type": "markdown",
      "metadata": {
        "id": "2OkMCDO4V5gH"
      },
      "source": [
        "If you'd like, try to augment the data to improve the dataset. Feel free to look at Lab14 and Lab17 for augmentation examples. There is also documentation for the [Keras ImageDataGenerator class](https://keras.io/api/preprocessing/image/#imagedatagenerator-class). This step is optional, but it may be helpful to get to 92% accuracy."
      ]
    },
    {
      "cell_type": "code",
      "metadata": {
        "id": "Cxa9uUg4V5gI"
      },
      "source": [
        "from tensorflow.keras.preprocessing.image import ImageDataGenerator\n",
        "\n",
        "datagen =ImageDataGenerator(rotation_range=10,# randomly rotate images in the range (degrees, 0 to 180)\n",
        "zoom_range=0.1,# Randomly zoom image\n",
        "width_shift_range=0.1,# randomly shift images horizontally (fraction of total width)\n",
        "height_shift_range=0.1,# randomly shift images vertically (fraction of total height)\n",
        "horizontal_flip=True,# randomly flip images horizontally\n",
        "vertical_flip=False,# Don't randomly flip images vertically\n",
        ")"
      ],
      "execution_count": null,
      "outputs": []
    },
    {
      "cell_type": "markdown",
      "metadata": {
        "id": "nYhByAkRV5gI"
      },
      "source": [
        "## Load Dataset"
      ]
    },
    {
      "cell_type": "markdown",
      "metadata": {
        "id": "JSZZlY0vV5gI"
      },
      "source": [
        "Now it's time to load the train and validation datasets. Pick the right folders, as well as the right `target_size` of the images (it needs to match the height and width input of the model you've created). If you'd like a reference, you can check out Lab17."
      ]
    },
    {
      "cell_type": "code",
      "metadata": {
        "colab": {
          "base_uri": "https://localhost:8080/"
        },
        "id": "LoSL7SR9bL4u",
        "outputId": "75cd395e-4827-41c8-88df-c6b9fd77df62"
      },
      "source": [
        "# Connect to Googel Drive to get the data\n",
        "from google.colab import drive\n",
        "drive.mount('/content/gdrive')"
      ],
      "execution_count": null,
      "outputs": [
        {
          "output_type": "stream",
          "text": [
            "Mounted at /content/gdrive\n"
          ],
          "name": "stdout"
        }
      ]
    },
    {
      "cell_type": "code",
      "metadata": {
        "colab": {
          "base_uri": "https://localhost:8080/"
        },
        "id": "fegqTETMV5gI",
        "outputId": "dfb8e6b5-77c2-4a6b-fcb8-3c249fa4cd9e"
      },
      "source": [
        "# load and iterate training dataset\n",
        "train_it = datagen.flow_from_directory('/content/gdrive/My Drive/Colab Notebooks/data/fruits/train/',target_size=(224,224),\n",
        "                                       color_mode='rgb',\n",
        "                                       class_mode=\"categorical\")\n",
        "# load and iterate validation dataset\n",
        "valid_it = datagen.flow_from_directory('/content/gdrive/My Drive/Colab Notebooks/data/fruits/valid/',target_size=(224,224),\n",
        "                                      color_mode='rgb',\n",
        "                                      class_mode=\"categorical\")"
      ],
      "execution_count": null,
      "outputs": [
        {
          "output_type": "stream",
          "text": [
            "Found 1182 images belonging to 6 classes.\n",
            "Found 329 images belonging to 6 classes.\n"
          ],
          "name": "stdout"
        }
      ]
    },
    {
      "cell_type": "markdown",
      "metadata": {
        "id": "0J-hr59JV5gJ"
      },
      "source": [
        "## Train the Model"
      ]
    },
    {
      "cell_type": "markdown",
      "metadata": {
        "id": "6_0tojRaV5gJ"
      },
      "source": [
        "Time to train the model! Pass the `train` and `valid` iterators into the `fit` function, as well as setting your desired number of epochs."
      ]
    },
    {
      "cell_type": "code",
      "metadata": {
        "colab": {
          "base_uri": "https://localhost:8080/"
        },
        "id": "XlpcLLi9V5gJ",
        "outputId": "1052bb30-1509-43b7-827a-0fefcc1b1de1"
      },
      "source": [
        "model.fit(train_it,\n",
        "          validation_data=valid_it,\n",
        "          steps_per_epoch=train_it.samples/train_it.batch_size,\n",
        "          validation_steps=valid_it.samples/valid_it.batch_size,\n",
        "          epochs=20)"
      ],
      "execution_count": null,
      "outputs": [
        {
          "output_type": "stream",
          "text": [
            "Epoch 1/20\n",
            "36/36 [==============================] - 333s 8s/step - loss: 4.8582 - accuracy: 0.3371 - val_loss: 1.5255 - val_accuracy: 0.6231\n",
            "Epoch 2/20\n",
            "36/36 [==============================] - 24s 647ms/step - loss: 0.9457 - accuracy: 0.7340 - val_loss: 0.6818 - val_accuracy: 0.7994\n",
            "Epoch 3/20\n",
            "36/36 [==============================] - 24s 647ms/step - loss: 0.4385 - accuracy: 0.8652 - val_loss: 0.4360 - val_accuracy: 0.8754\n",
            "Epoch 4/20\n",
            "36/36 [==============================] - 24s 649ms/step - loss: 0.2715 - accuracy: 0.9046 - val_loss: 0.3835 - val_accuracy: 0.8875\n",
            "Epoch 5/20\n",
            "36/36 [==============================] - 24s 650ms/step - loss: 0.2048 - accuracy: 0.9359 - val_loss: 0.4156 - val_accuracy: 0.8784\n",
            "Epoch 6/20\n",
            "36/36 [==============================] - 24s 650ms/step - loss: 0.1412 - accuracy: 0.9536 - val_loss: 0.3377 - val_accuracy: 0.8967\n",
            "Epoch 7/20\n",
            "36/36 [==============================] - 24s 651ms/step - loss: 0.1038 - accuracy: 0.9675 - val_loss: 0.2826 - val_accuracy: 0.9271\n",
            "Epoch 8/20\n",
            "36/36 [==============================] - 24s 654ms/step - loss: 0.0789 - accuracy: 0.9777 - val_loss: 0.2688 - val_accuracy: 0.9210\n",
            "Epoch 9/20\n",
            "36/36 [==============================] - 24s 647ms/step - loss: 0.0929 - accuracy: 0.9771 - val_loss: 0.2090 - val_accuracy: 0.9331\n",
            "Epoch 10/20\n",
            "36/36 [==============================] - 24s 647ms/step - loss: 0.0654 - accuracy: 0.9778 - val_loss: 0.2058 - val_accuracy: 0.9301\n",
            "Epoch 11/20\n",
            "36/36 [==============================] - 24s 649ms/step - loss: 0.0808 - accuracy: 0.9736 - val_loss: 0.2012 - val_accuracy: 0.9392\n",
            "Epoch 12/20\n",
            "36/36 [==============================] - 24s 643ms/step - loss: 0.0412 - accuracy: 0.9917 - val_loss: 0.2478 - val_accuracy: 0.9422\n",
            "Epoch 13/20\n",
            "36/36 [==============================] - 24s 645ms/step - loss: 0.0532 - accuracy: 0.9802 - val_loss: 0.2278 - val_accuracy: 0.9301\n",
            "Epoch 14/20\n",
            "36/36 [==============================] - 24s 646ms/step - loss: 0.0462 - accuracy: 0.9861 - val_loss: 0.1766 - val_accuracy: 0.9453\n",
            "Epoch 15/20\n",
            "36/36 [==============================] - 24s 643ms/step - loss: 0.0346 - accuracy: 0.9905 - val_loss: 0.2136 - val_accuracy: 0.9392\n",
            "Epoch 16/20\n",
            "36/36 [==============================] - 24s 645ms/step - loss: 0.0290 - accuracy: 0.9859 - val_loss: 0.1680 - val_accuracy: 0.9422\n",
            "Epoch 17/20\n",
            "36/36 [==============================] - 24s 648ms/step - loss: 0.0389 - accuracy: 0.9854 - val_loss: 0.1569 - val_accuracy: 0.9605\n",
            "Epoch 18/20\n",
            "36/36 [==============================] - 24s 644ms/step - loss: 0.0326 - accuracy: 0.9865 - val_loss: 0.1971 - val_accuracy: 0.9514\n",
            "Epoch 19/20\n",
            "36/36 [==============================] - 24s 644ms/step - loss: 0.0262 - accuracy: 0.9930 - val_loss: 0.1748 - val_accuracy: 0.9483\n",
            "Epoch 20/20\n",
            "36/36 [==============================] - 24s 644ms/step - loss: 0.0295 - accuracy: 0.9854 - val_loss: 0.2032 - val_accuracy: 0.9514\n"
          ],
          "name": "stdout"
        },
        {
          "output_type": "execute_result",
          "data": {
            "text/plain": [
              "<tensorflow.python.keras.callbacks.History at 0x7f20440bef50>"
            ]
          },
          "metadata": {
            "tags": []
          },
          "execution_count": 12
        }
      ]
    },
    {
      "cell_type": "markdown",
      "metadata": {
        "id": "eTQIhrTOV5gJ"
      },
      "source": [
        "## Unfreeze Model for Fine Tuning"
      ]
    },
    {
      "cell_type": "markdown",
      "metadata": {
        "id": "KfJutOpfV5gJ"
      },
      "source": [
        "If you have reached 92% validation accuracy already, this next step is optional. If not, we suggest fine tuning the model with a very low learning rate."
      ]
    },
    {
      "cell_type": "code",
      "metadata": {
        "id": "j_bp9UaeV5gK"
      },
      "source": [
        "# Unfreeze the base model\n",
        "base_model.trainable = True\n",
        "\n",
        "# Compile the model with a low learning rate\n",
        "model.compile(optimizer=keras.optimizers.RMSprop(learning_rate = .00001),\n",
        "              loss = 'categorical_crossentropy' , metrics = ['accuracy'])"
      ],
      "execution_count": null,
      "outputs": []
    },
    {
      "cell_type": "code",
      "metadata": {
        "id": "tQ81SXBqV5gK",
        "colab": {
          "base_uri": "https://localhost:8080/"
        },
        "outputId": "759272a1-6975-454c-8866-ba44edf4a937"
      },
      "source": [
        "model.fit(train_it,\n",
        "          validation_data=valid_it,\n",
        "          steps_per_epoch=train_it.samples/train_it.batch_size,\n",
        "          validation_steps=valid_it.samples/valid_it.batch_size,\n",
        "          epochs=20)"
      ],
      "execution_count": null,
      "outputs": [
        {
          "output_type": "stream",
          "text": [
            "Epoch 1/20\n",
            "36/36 [==============================] - 38s 878ms/step - loss: 0.1153 - accuracy: 0.9740 - val_loss: 0.1538 - val_accuracy: 0.9574\n",
            "Epoch 2/20\n",
            "36/36 [==============================] - 28s 756ms/step - loss: 0.0375 - accuracy: 0.9890 - val_loss: 0.2960 - val_accuracy: 0.9483\n",
            "Epoch 3/20\n",
            "36/36 [==============================] - 28s 760ms/step - loss: 0.0242 - accuracy: 0.9899 - val_loss: 0.1720 - val_accuracy: 0.9726\n",
            "Epoch 4/20\n",
            "36/36 [==============================] - 28s 757ms/step - loss: 0.0333 - accuracy: 0.9928 - val_loss: 0.1832 - val_accuracy: 0.9635\n",
            "Epoch 5/20\n",
            "36/36 [==============================] - 28s 762ms/step - loss: 0.0113 - accuracy: 0.9963 - val_loss: 0.2368 - val_accuracy: 0.9574\n",
            "Epoch 6/20\n",
            "36/36 [==============================] - 28s 756ms/step - loss: 0.0342 - accuracy: 0.9840 - val_loss: 0.1630 - val_accuracy: 0.9696\n",
            "Epoch 7/20\n",
            "36/36 [==============================] - 28s 758ms/step - loss: 0.0097 - accuracy: 0.9971 - val_loss: 0.2698 - val_accuracy: 0.9605\n",
            "Epoch 8/20\n",
            "36/36 [==============================] - 28s 761ms/step - loss: 0.0027 - accuracy: 0.9998 - val_loss: 0.2335 - val_accuracy: 0.9574\n",
            "Epoch 9/20\n",
            "36/36 [==============================] - 28s 760ms/step - loss: 0.0233 - accuracy: 0.9937 - val_loss: 0.1937 - val_accuracy: 0.9726\n",
            "Epoch 10/20\n",
            "36/36 [==============================] - 28s 761ms/step - loss: 0.0029 - accuracy: 0.9991 - val_loss: 0.1704 - val_accuracy: 0.9666\n",
            "Epoch 11/20\n",
            "36/36 [==============================] - 28s 756ms/step - loss: 0.0169 - accuracy: 0.9968 - val_loss: 0.1241 - val_accuracy: 0.9818\n",
            "Epoch 12/20\n",
            "36/36 [==============================] - 28s 761ms/step - loss: 1.8557e-04 - accuracy: 1.0000 - val_loss: 0.1851 - val_accuracy: 0.9696\n",
            "Epoch 13/20\n",
            "36/36 [==============================] - 28s 757ms/step - loss: 0.0068 - accuracy: 0.9963 - val_loss: 0.1683 - val_accuracy: 0.9696\n",
            "Epoch 14/20\n",
            "36/36 [==============================] - 28s 755ms/step - loss: 0.0103 - accuracy: 0.9984 - val_loss: 0.1667 - val_accuracy: 0.9787\n",
            "Epoch 15/20\n",
            "36/36 [==============================] - 28s 763ms/step - loss: 1.4765e-04 - accuracy: 1.0000 - val_loss: 0.2603 - val_accuracy: 0.9453\n",
            "Epoch 16/20\n",
            "36/36 [==============================] - 29s 775ms/step - loss: 0.0302 - accuracy: 0.9941 - val_loss: 0.1841 - val_accuracy: 0.9726\n",
            "Epoch 17/20\n",
            "36/36 [==============================] - 29s 771ms/step - loss: 0.0039 - accuracy: 0.9993 - val_loss: 0.4521 - val_accuracy: 0.9514\n",
            "Epoch 18/20\n",
            "36/36 [==============================] - 28s 767ms/step - loss: 0.0051 - accuracy: 0.9965 - val_loss: 0.1518 - val_accuracy: 0.9848\n",
            "Epoch 19/20\n",
            "36/36 [==============================] - 29s 770ms/step - loss: 3.0343e-05 - accuracy: 1.0000 - val_loss: 0.1588 - val_accuracy: 0.9726\n",
            "Epoch 20/20\n",
            "36/36 [==============================] - 29s 776ms/step - loss: 0.0011 - accuracy: 0.9993 - val_loss: 0.3086 - val_accuracy: 0.9605\n"
          ],
          "name": "stdout"
        },
        {
          "output_type": "execute_result",
          "data": {
            "text/plain": [
              "<tensorflow.python.keras.callbacks.History at 0x7f204403fed0>"
            ]
          },
          "metadata": {
            "tags": []
          },
          "execution_count": 14
        }
      ]
    },
    {
      "cell_type": "markdown",
      "metadata": {
        "id": "KXyWJEWQV5gK"
      },
      "source": [
        "## Evaluate the Model"
      ]
    },
    {
      "cell_type": "markdown",
      "metadata": {
        "id": "fkocAUQ-V5gK"
      },
      "source": [
        "Hopefully, you now have a model that has a validation accuracy of 92% or higher. If not, you may want to go back and either run more epochs of training, or adjust your data augmentation.\n",
        "\n",
        "Once you are satisfied with the validation accuracy, evaluate the model by executing the following cell. The evaluate function will return a tuple, where the first value is your loss, and the second value is your accuracy. To pass, the model will need have an accuracy value of `92% or higher`."
      ]
    },
    {
      "cell_type": "code",
      "metadata": {
        "id": "IUmof4L8V5gK",
        "colab": {
          "base_uri": "https://localhost:8080/"
        },
        "outputId": "cf171ea2-5c8e-47a0-b492-02be1b8c7681"
      },
      "source": [
        "model.evaluate(valid_it, steps=valid_it.samples/valid_it.batch_size)"
      ],
      "execution_count": null,
      "outputs": [
        {
          "output_type": "stream",
          "text": [
            "10/10 [==============================] - 5s 489ms/step - loss: 0.2482 - accuracy: 0.9696\n"
          ],
          "name": "stdout"
        },
        {
          "output_type": "execute_result",
          "data": {
            "text/plain": [
              "[0.24820254743099213, 0.9696048498153687]"
            ]
          },
          "metadata": {
            "tags": []
          },
          "execution_count": 15
        }
      ]
    }
  ]
}